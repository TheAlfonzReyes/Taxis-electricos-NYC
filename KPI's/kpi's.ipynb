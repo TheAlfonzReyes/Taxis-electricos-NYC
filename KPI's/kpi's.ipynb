{
 "cells": [
  {
   "cell_type": "markdown",
   "metadata": {},
   "source": [
    "## KPI's"
   ]
  },
  {
   "cell_type": "markdown",
   "metadata": {},
   "source": [
    "## 1. Millas promedio por galon de combustible"
   ]
  },
  {
   "cell_type": "markdown",
   "metadata": {},
   "source": [
    "### * Aumentar en un 5% las millas recorridas con respecto con respecto al semestre anterior\n",
    "\n",
    "Este KPI ayuda a monitorear la eficiencia de combustible de la flota de taxis híbridos. Calcula las millas promedio por galón (o su equivalente en litros) en función de los registros de consumo de combustible y millas recorridos por cada vehículo. Establece metas para mejorar la eficiencia del combustible a lo largo del tiempo, lo que ayudará a reducir los costos operativos y a demostrar el valor de la tecnología híbrida enchufable."
   ]
  },
  {
   "cell_type": "markdown",
   "metadata": {},
   "source": [
    "## 2. Tiempo de carga promedio"
   ]
  },
  {
   "cell_type": "markdown",
   "metadata": {},
   "source": [
    "### * Disminuir en un 3% el tiempo de carga de todos los vehiculos por trimestre"
   ]
  },
  {
   "cell_type": "markdown",
   "metadata": {},
   "source": [
    "Este KPI mide cuánto tiempo pasan los vehículos en carga para mantener sus baterías eléctricas. Puedes rastrear el tiempo que tarda cada vehículo en cargar completamente su batería y calcular un promedio para toda la flota. Optimizar este tiempo de carga te ayudará a maximizar la disponibilidad de tus taxis híbridos y a minimizar el tiempo de inactividad. También puedes establecer objetivos para reducir el tiempo de carga promedio, lo que puede requerir la implementación de infraestructura de carga más eficiente o la optimización de los horarios de carga."
   ]
  },
  {
   "cell_type": "markdown",
   "metadata": {},
   "source": [
    "## 3. Satisfaccion del cliente"
   ]
  },
  {
   "cell_type": "markdown",
   "metadata": {},
   "source": [
    "### * Aumentar un 5 % la cantidad de reseñas positivas por semestre"
   ]
  },
  {
   "cell_type": "markdown",
   "metadata": {},
   "source": [
    "Este KPI indica el porcentaje de reseñas positivas de un semestre y lo compara con el porcentaje de reseñas positivas del semestre anterior. El plazo del KPI es de dos años. Para verificar si se cumplen los objetivos utilizamos la siguiente fórmula:\n",
    "\n",
    "[(clientes satisfechos en el semestre actual) / (clientes encuestados en el semestre actual) * 100] > \n",
    "[(clientes satisfechos en el semestre anterior) / (clientes encuestados en el semestre anterior) * 100 * 1.05] "
   ]
  }
 ],
 "metadata": {
  "kernelspec": {
   "display_name": "Python 3",
   "language": "python",
   "name": "python3"
  },
  "language_info": {
   "codemirror_mode": {
    "name": "ipython",
    "version": 3
   },
   "file_extension": ".py",
   "mimetype": "text/x-python",
   "name": "python",
   "nbconvert_exporter": "python",
   "pygments_lexer": "ipython3",
   "version": "3.12.1"
  }
 },
 "nbformat": 4,
 "nbformat_minor": 2
}
