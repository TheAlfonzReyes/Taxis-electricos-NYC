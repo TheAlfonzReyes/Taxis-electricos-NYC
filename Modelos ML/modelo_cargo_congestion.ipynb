{
 "cells": [
  {
   "cell_type": "markdown",
   "metadata": {},
   "source": [
    "## Árbol de decisión"
   ]
  },
  {
   "cell_type": "markdown",
   "metadata": {},
   "source": [
    "Este modelo busca predecir el cargo que tiene un servicio depéndiendo del trafico\n",
    "* congestion_surcharge = 0 ---> sin trafico\n",
    "* congestion_surcharge = 2 ---> con trafico"
   ]
  },
  {
   "cell_type": "markdown",
   "metadata": {},
   "source": [
    "Se importan las librerias requeridas"
   ]
  },
  {
   "cell_type": "code",
   "execution_count": 2,
   "metadata": {},
   "outputs": [],
   "source": [
    "import pandas as pd\n",
    "from sklearn.model_selection import train_test_split\n",
    "from sklearn import tree\n",
    "from joblib import dump"
   ]
  },
  {
   "cell_type": "markdown",
   "metadata": {},
   "source": [
    "Se hace el entrenamiento con 3 datasets de recorridos de taxis ecologicos para tres meses consecutivos del año 2023, se concatenan y se usan para el entrenamiento"
   ]
  },
  {
   "cell_type": "code",
   "execution_count": 3,
   "metadata": {},
   "outputs": [],
   "source": [
    "d0 = pd.read_parquet(\"C:/Users/Acer/Downloads/green_tripdata_2023-12_limpio.parquet\")\n",
    "df1 = pd.read_parquet(\"C:/Users/Acer/Downloads/green_tripdata_2023-11_limpio.parquet\")\n",
    "df2 = pd.read_parquet(\"C:/Users/Acer/Downloads/green_tripdata_2023-10_limpio.parquet\")\n",
    "df = pd.concat([d0, df1, df2])"
   ]
  },
  {
   "cell_type": "code",
   "execution_count": 4,
   "metadata": {},
   "outputs": [
    {
     "data": {
      "text/plain": [
       "(183020, 12)"
      ]
     },
     "execution_count": 4,
     "metadata": {},
     "output_type": "execute_result"
    }
   ],
   "source": [
    "df.shape"
   ]
  },
  {
   "cell_type": "markdown",
   "metadata": {},
   "source": [
    "Se filtra el data set con los valores de la columna 'congestion_surcharge' mayor que -1 ya que -1 representa a los valores nulos"
   ]
  },
  {
   "cell_type": "code",
   "execution_count": 5,
   "metadata": {},
   "outputs": [
    {
     "data": {
      "text/plain": [
       "(169725, 12)"
      ]
     },
     "execution_count": 5,
     "metadata": {},
     "output_type": "execute_result"
    }
   ],
   "source": [
    "df = df[df['congestion_surcharge'] > -1]\n",
    "df.shape"
   ]
  },
  {
   "cell_type": "code",
   "execution_count": 6,
   "metadata": {},
   "outputs": [
    {
     "data": {
      "text/plain": [
       "congestion_surcharge\n",
       "0    120670\n",
       "2     49055\n",
       "Name: count, dtype: int64"
      ]
     },
     "execution_count": 6,
     "metadata": {},
     "output_type": "execute_result"
    }
   ],
   "source": [
    "df['congestion_surcharge'].value_counts()"
   ]
  },
  {
   "cell_type": "code",
   "execution_count": 7,
   "metadata": {},
   "outputs": [
    {
     "name": "stdout",
     "output_type": "stream",
     "text": [
      "<class 'pandas.core.frame.DataFrame'>\n",
      "Index: 169725 entries, 0 to 61499\n",
      "Data columns (total 12 columns):\n",
      " #   Column                Non-Null Count   Dtype         \n",
      "---  ------                --------------   -----         \n",
      " 0   start_trip            169725 non-null  datetime64[us]\n",
      " 1   end_trip              169725 non-null  datetime64[us]\n",
      " 2   pu_location_id        169725 non-null  int64         \n",
      " 3   do_location_id        169725 non-null  int64         \n",
      " 4   passenger_count       169725 non-null  int64         \n",
      " 5   trip_distance         169725 non-null  float64       \n",
      " 6   fare_amount           169725 non-null  float64       \n",
      " 7   tip_amount            169725 non-null  float64       \n",
      " 8   total_amount          169725 non-null  float64       \n",
      " 9   payment_type          169725 non-null  int64         \n",
      " 10  congestion_surcharge  169725 non-null  int64         \n",
      " 11  type_of_taxi          169725 non-null  int64         \n",
      "dtypes: datetime64[us](2), float64(4), int64(6)\n",
      "memory usage: 16.8 MB\n"
     ]
    }
   ],
   "source": [
    "df.info()"
   ]
  },
  {
   "cell_type": "code",
   "execution_count": 8,
   "metadata": {},
   "outputs": [
    {
     "data": {
      "text/html": [
       "<div>\n",
       "<style scoped>\n",
       "    .dataframe tbody tr th:only-of-type {\n",
       "        vertical-align: middle;\n",
       "    }\n",
       "\n",
       "    .dataframe tbody tr th {\n",
       "        vertical-align: top;\n",
       "    }\n",
       "\n",
       "    .dataframe thead th {\n",
       "        text-align: right;\n",
       "    }\n",
       "</style>\n",
       "<table border=\"1\" class=\"dataframe\">\n",
       "  <thead>\n",
       "    <tr style=\"text-align: right;\">\n",
       "      <th></th>\n",
       "      <th>start_trip</th>\n",
       "      <th>end_trip</th>\n",
       "      <th>pu_location_id</th>\n",
       "      <th>do_location_id</th>\n",
       "      <th>passenger_count</th>\n",
       "      <th>trip_distance</th>\n",
       "      <th>fare_amount</th>\n",
       "      <th>tip_amount</th>\n",
       "      <th>total_amount</th>\n",
       "      <th>payment_type</th>\n",
       "      <th>congestion_surcharge</th>\n",
       "      <th>type_of_taxi</th>\n",
       "    </tr>\n",
       "  </thead>\n",
       "  <tbody>\n",
       "    <tr>\n",
       "      <th>0</th>\n",
       "      <td>2023-12-01 00:27:37</td>\n",
       "      <td>2023-12-01 00:42:48</td>\n",
       "      <td>74</td>\n",
       "      <td>243</td>\n",
       "      <td>1</td>\n",
       "      <td>4.8</td>\n",
       "      <td>22.6</td>\n",
       "      <td>5.02</td>\n",
       "      <td>30.12</td>\n",
       "      <td>1</td>\n",
       "      <td>0</td>\n",
       "      <td>1</td>\n",
       "    </tr>\n",
       "  </tbody>\n",
       "</table>\n",
       "</div>"
      ],
      "text/plain": [
       "           start_trip            end_trip  pu_location_id  do_location_id  \\\n",
       "0 2023-12-01 00:27:37 2023-12-01 00:42:48              74             243   \n",
       "\n",
       "   passenger_count  trip_distance  fare_amount  tip_amount  total_amount  \\\n",
       "0                1            4.8         22.6        5.02         30.12   \n",
       "\n",
       "   payment_type  congestion_surcharge  type_of_taxi  \n",
       "0             1                     0             1  "
      ]
     },
     "execution_count": 8,
     "metadata": {},
     "output_type": "execute_result"
    }
   ],
   "source": [
    "df.head(1)"
   ]
  },
  {
   "cell_type": "markdown",
   "metadata": {},
   "source": [
    "Se extrate informacion de las fechas de inicio y fin de viaje para generar columnas con los siguientes valores: año, mes, dia y minutos de viaje"
   ]
  },
  {
   "cell_type": "code",
   "execution_count": 9,
   "metadata": {},
   "outputs": [
    {
     "data": {
      "text/html": [
       "<div>\n",
       "<style scoped>\n",
       "    .dataframe tbody tr th:only-of-type {\n",
       "        vertical-align: middle;\n",
       "    }\n",
       "\n",
       "    .dataframe tbody tr th {\n",
       "        vertical-align: top;\n",
       "    }\n",
       "\n",
       "    .dataframe thead th {\n",
       "        text-align: right;\n",
       "    }\n",
       "</style>\n",
       "<table border=\"1\" class=\"dataframe\">\n",
       "  <thead>\n",
       "    <tr style=\"text-align: right;\">\n",
       "      <th></th>\n",
       "      <th>start_trip</th>\n",
       "      <th>end_trip</th>\n",
       "      <th>pu_location_id</th>\n",
       "      <th>do_location_id</th>\n",
       "      <th>passenger_count</th>\n",
       "      <th>trip_distance</th>\n",
       "      <th>fare_amount</th>\n",
       "      <th>tip_amount</th>\n",
       "      <th>total_amount</th>\n",
       "      <th>payment_type</th>\n",
       "      <th>congestion_surcharge</th>\n",
       "      <th>type_of_taxi</th>\n",
       "      <th>year</th>\n",
       "      <th>month</th>\n",
       "      <th>day</th>\n",
       "      <th>min_trip</th>\n",
       "    </tr>\n",
       "  </thead>\n",
       "  <tbody>\n",
       "    <tr>\n",
       "      <th>56394</th>\n",
       "      <td>2023-10-29 12:29:18</td>\n",
       "      <td>2023-10-29 12:36:06</td>\n",
       "      <td>75</td>\n",
       "      <td>41</td>\n",
       "      <td>2</td>\n",
       "      <td>1.40</td>\n",
       "      <td>9.3</td>\n",
       "      <td>2.16</td>\n",
       "      <td>12.96</td>\n",
       "      <td>1</td>\n",
       "      <td>0</td>\n",
       "      <td>1</td>\n",
       "      <td>2023</td>\n",
       "      <td>10</td>\n",
       "      <td>6</td>\n",
       "      <td>6.800000</td>\n",
       "    </tr>\n",
       "    <tr>\n",
       "      <th>58988</th>\n",
       "      <td>2023-12-31 19:20:24</td>\n",
       "      <td>2023-12-31 19:33:14</td>\n",
       "      <td>66</td>\n",
       "      <td>33</td>\n",
       "      <td>1</td>\n",
       "      <td>1.41</td>\n",
       "      <td>12.8</td>\n",
       "      <td>2.86</td>\n",
       "      <td>17.16</td>\n",
       "      <td>1</td>\n",
       "      <td>0</td>\n",
       "      <td>1</td>\n",
       "      <td>2023</td>\n",
       "      <td>12</td>\n",
       "      <td>6</td>\n",
       "      <td>12.833333</td>\n",
       "    </tr>\n",
       "    <tr>\n",
       "      <th>10811</th>\n",
       "      <td>2023-12-06 13:32:21</td>\n",
       "      <td>2023-12-06 13:41:59</td>\n",
       "      <td>74</td>\n",
       "      <td>236</td>\n",
       "      <td>1</td>\n",
       "      <td>1.98</td>\n",
       "      <td>11.4</td>\n",
       "      <td>3.13</td>\n",
       "      <td>18.78</td>\n",
       "      <td>1</td>\n",
       "      <td>2</td>\n",
       "      <td>1</td>\n",
       "      <td>2023</td>\n",
       "      <td>12</td>\n",
       "      <td>2</td>\n",
       "      <td>9.633333</td>\n",
       "    </tr>\n",
       "    <tr>\n",
       "      <th>57668</th>\n",
       "      <td>2023-10-30 08:27:57</td>\n",
       "      <td>2023-10-30 08:42:51</td>\n",
       "      <td>95</td>\n",
       "      <td>121</td>\n",
       "      <td>1</td>\n",
       "      <td>2.40</td>\n",
       "      <td>16.3</td>\n",
       "      <td>0.00</td>\n",
       "      <td>17.80</td>\n",
       "      <td>-1</td>\n",
       "      <td>0</td>\n",
       "      <td>1</td>\n",
       "      <td>2023</td>\n",
       "      <td>10</td>\n",
       "      <td>0</td>\n",
       "      <td>14.900000</td>\n",
       "    </tr>\n",
       "    <tr>\n",
       "      <th>5099</th>\n",
       "      <td>2023-11-03 09:21:05</td>\n",
       "      <td>2023-11-03 09:32:16</td>\n",
       "      <td>95</td>\n",
       "      <td>95</td>\n",
       "      <td>1</td>\n",
       "      <td>1.54</td>\n",
       "      <td>12.1</td>\n",
       "      <td>0.00</td>\n",
       "      <td>13.60</td>\n",
       "      <td>-1</td>\n",
       "      <td>0</td>\n",
       "      <td>1</td>\n",
       "      <td>2023</td>\n",
       "      <td>11</td>\n",
       "      <td>4</td>\n",
       "      <td>11.183333</td>\n",
       "    </tr>\n",
       "  </tbody>\n",
       "</table>\n",
       "</div>"
      ],
      "text/plain": [
       "               start_trip            end_trip  pu_location_id  do_location_id  \\\n",
       "56394 2023-10-29 12:29:18 2023-10-29 12:36:06              75              41   \n",
       "58988 2023-12-31 19:20:24 2023-12-31 19:33:14              66              33   \n",
       "10811 2023-12-06 13:32:21 2023-12-06 13:41:59              74             236   \n",
       "57668 2023-10-30 08:27:57 2023-10-30 08:42:51              95             121   \n",
       "5099  2023-11-03 09:21:05 2023-11-03 09:32:16              95              95   \n",
       "\n",
       "       passenger_count  trip_distance  fare_amount  tip_amount  total_amount  \\\n",
       "56394                2           1.40          9.3        2.16         12.96   \n",
       "58988                1           1.41         12.8        2.86         17.16   \n",
       "10811                1           1.98         11.4        3.13         18.78   \n",
       "57668                1           2.40         16.3        0.00         17.80   \n",
       "5099                 1           1.54         12.1        0.00         13.60   \n",
       "\n",
       "       payment_type  congestion_surcharge  type_of_taxi  year  month  day  \\\n",
       "56394             1                     0             1  2023     10    6   \n",
       "58988             1                     0             1  2023     12    6   \n",
       "10811             1                     2             1  2023     12    2   \n",
       "57668            -1                     0             1  2023     10    0   \n",
       "5099             -1                     0             1  2023     11    4   \n",
       "\n",
       "        min_trip  \n",
       "56394   6.800000  \n",
       "58988  12.833333  \n",
       "10811   9.633333  \n",
       "57668  14.900000  \n",
       "5099   11.183333  "
      ]
     },
     "execution_count": 9,
     "metadata": {},
     "output_type": "execute_result"
    }
   ],
   "source": [
    "df['year'] = df['start_trip'].dt.year\n",
    "df['month'] = df['start_trip'].dt.month\n",
    "df['day'] = df['start_trip'].dt.dayofweek\n",
    "df['min_trip'] = df['min_trip'] = (df['end_trip'] - df['start_trip']).dt.total_seconds() / 60\n",
    "df.sample(5)"
   ]
  },
  {
   "cell_type": "code",
   "execution_count": 10,
   "metadata": {},
   "outputs": [
    {
     "data": {
      "text/plain": [
       "Index(['start_trip', 'end_trip', 'pu_location_id', 'do_location_id',\n",
       "       'passenger_count', 'trip_distance', 'fare_amount', 'tip_amount',\n",
       "       'total_amount', 'payment_type', 'congestion_surcharge', 'type_of_taxi',\n",
       "       'year', 'month', 'day', 'min_trip'],\n",
       "      dtype='object')"
      ]
     },
     "execution_count": 10,
     "metadata": {},
     "output_type": "execute_result"
    }
   ],
   "source": [
    "df.columns"
   ]
  },
  {
   "cell_type": "code",
   "execution_count": 11,
   "metadata": {},
   "outputs": [
    {
     "data": {
      "text/plain": [
       "(169725, 16)"
      ]
     },
     "execution_count": 11,
     "metadata": {},
     "output_type": "execute_result"
    }
   ],
   "source": [
    "df.shape"
   ]
  },
  {
   "cell_type": "code",
   "execution_count": 12,
   "metadata": {},
   "outputs": [],
   "source": [
    "# Arbol de decision"
   ]
  },
  {
   "cell_type": "code",
   "execution_count": 13,
   "metadata": {},
   "outputs": [
    {
     "name": "stdout",
     "output_type": "stream",
     "text": [
      "Score del modelo: 0.9317967571644042\n"
     ]
    }
   ],
   "source": [
    "from sklearn import tree\n",
    "# Selección de las variables independientes\n",
    "X = df[['min_trip', 'trip_distance', 'pu_location_id', 'do_location_id']]\n",
    "\n",
    "# Conversión de las variables categóricas a dummies\n",
    "X = pd.get_dummies(X)\n",
    "\n",
    "# Selección de la variable dependiente\n",
    "y = df['congestion_surcharge']\n",
    "\n",
    "# Separación del conjunto de datos en entrenamiento y prueba\n",
    "X_train, X_test, y_train, y_test = train_test_split(X, y, test_size=0.25, random_state=42)\n",
    "\n",
    "# Creación del clasificador de árbol de decisión\n",
    "arbol = tree.DecisionTreeClassifier(max_depth = 7, random_state=42)\n",
    "\n",
    "# Entrenamiento del modelo\n",
    "arbol.fit(X_train, y_train)\n",
    "\n",
    "# Evaluación del modelo\n",
    "score = arbol.score(X_test, y_test)\n",
    "\n",
    "# Predicción del recargo por congestión\n",
    "predicciones = arbol.predict(X_test)\n",
    "\n",
    "# Impresión del score del modelo\n",
    "print(f\"Score del modelo: {score}\")\n",
    "\n",
    "# Impresión de las primeras 10 predicciones\n",
    "#print(f\"Primeras 10 predicciones: {predicciones[:10]}\")\n",
    "\n",
    "# Visualización del árbol de decisión\n",
    "#tree.plot_tree(arbol)"
   ]
  },
  {
   "cell_type": "code",
   "execution_count": 15,
   "metadata": {},
   "outputs": [
    {
     "name": "stdout",
     "output_type": "stream",
     "text": [
      "       Valor real  Valor predicho\n",
      "26660           0               0\n",
      "41798           0               0\n",
      "3571            2               2\n",
      "38150           2               2\n",
      "38007           0               0\n"
     ]
    }
   ],
   "source": [
    "resultados = pd.DataFrame({'Valor real': y_test, 'Valor predicho': predicciones}).head(5)\n",
    "\n",
    "# Impresión del dataframe\n",
    "print(resultados.to_string())"
   ]
  },
  {
   "cell_type": "markdown",
   "metadata": {},
   "source": [
    "Se observa un Score de 0.93, y se visualiza una columna con valores reales y valores predichos"
   ]
  },
  {
   "cell_type": "markdown",
   "metadata": {},
   "source": [
    "Se guarda el modelo en formato joblib, para ser posteriormente consumido por Streamlit"
   ]
  },
  {
   "cell_type": "code",
   "execution_count": null,
   "metadata": {},
   "outputs": [
    {
     "data": {
      "text/plain": [
       "['E:/proyecto_final/Modelo/prediccion_congestion.joblib']"
      ]
     },
     "execution_count": 14,
     "metadata": {},
     "output_type": "execute_result"
    }
   ],
   "source": [
    "dump(arbol, 'E:/proyecto_final/Modelo/prediccion_congestion.joblib')"
   ]
  }
 ],
 "metadata": {
  "kernelspec": {
   "display_name": "Python 3",
   "language": "python",
   "name": "python3"
  },
  "language_info": {
   "codemirror_mode": {
    "name": "ipython",
    "version": 3
   },
   "file_extension": ".py",
   "mimetype": "text/x-python",
   "name": "python",
   "nbconvert_exporter": "python",
   "pygments_lexer": "ipython3",
   "version": "3.12.1"
  }
 },
 "nbformat": 4,
 "nbformat_minor": 2
}
