{
 "cells": [
  {
   "cell_type": "code",
   "execution_count": 1,
   "metadata": {},
   "outputs": [
    {
     "name": "stderr",
     "output_type": "stream",
     "text": [
      "C:\\Users\\Acer\\AppData\\Local\\Temp\\ipykernel_15540\\3632437423.py:1: DeprecationWarning: \n",
      "Pyarrow will become a required dependency of pandas in the next major release of pandas (pandas 3.0),\n",
      "(to allow more performant data types, such as the Arrow string type, and better interoperability with other libraries)\n",
      "but was not found to be installed on your system.\n",
      "If this would cause problems for you,\n",
      "please provide us feedback at https://github.com/pandas-dev/pandas/issues/54466\n",
      "        \n",
      "  import pandas as pd\n"
     ]
    }
   ],
   "source": [
    "import pandas as pd\n",
    "import seaborn as sns\n",
    "import matplotlib.pyplot as plt"
   ]
  },
  {
   "cell_type": "markdown",
   "metadata": {},
   "source": [
    "# Dataset Alternative Fuel Vehicles"
   ]
  },
  {
   "cell_type": "code",
   "execution_count": 2,
   "metadata": {},
   "outputs": [
    {
     "data": {
      "text/html": [
       "<div>\n",
       "<style scoped>\n",
       "    .dataframe tbody tr th:only-of-type {\n",
       "        vertical-align: middle;\n",
       "    }\n",
       "\n",
       "    .dataframe tbody tr th {\n",
       "        vertical-align: top;\n",
       "    }\n",
       "\n",
       "    .dataframe thead th {\n",
       "        text-align: right;\n",
       "    }\n",
       "</style>\n",
       "<table border=\"1\" class=\"dataframe\">\n",
       "  <thead>\n",
       "    <tr style=\"text-align: right;\">\n",
       "      <th></th>\n",
       "      <th>Category</th>\n",
       "      <th>Model</th>\n",
       "      <th>Model Year</th>\n",
       "      <th>Manufacturer</th>\n",
       "      <th>Fuel</th>\n",
       "      <th>All-Electric Range</th>\n",
       "      <th>PHEV Total Range</th>\n",
       "      <th>Alternative Fuel Economy City</th>\n",
       "      <th>Alternative Fuel Economy Highway</th>\n",
       "      <th>Alternative Fuel Economy Combined</th>\n",
       "      <th>Conventional Fuel Economy City</th>\n",
       "      <th>Conventional Fuel Economy Highway</th>\n",
       "      <th>Conventional Fuel Economy Combined</th>\n",
       "      <th>Transmission Type</th>\n",
       "      <th>Transmission Make</th>\n",
       "      <th>Engine Type</th>\n",
       "      <th>Engine Size</th>\n",
       "      <th>Engine Cylinder Count</th>\n",
       "      <th>Number of Passengers</th>\n",
       "      <th>Heavy-Duty Power System</th>\n",
       "      <th>Notes</th>\n",
       "      <th>Drivetrain</th>\n",
       "    </tr>\n",
       "  </thead>\n",
       "  <tbody>\n",
       "    <tr>\n",
       "      <th>164</th>\n",
       "      <td>SUV</td>\n",
       "      <td>Wrangler 4dr 4xe</td>\n",
       "      <td>2022.0</td>\n",
       "      <td>Jeep</td>\n",
       "      <td>Plug-in Hybrid Electric</td>\n",
       "      <td>22.0</td>\n",
       "      <td>370.0</td>\n",
       "      <td>NaN</td>\n",
       "      <td>NaN</td>\n",
       "      <td>49.0</td>\n",
       "      <td>20.0</td>\n",
       "      <td>20.0</td>\n",
       "      <td>20.0</td>\n",
       "      <td>Auto</td>\n",
       "      <td>NaN</td>\n",
       "      <td>SI</td>\n",
       "      <td>2.0L</td>\n",
       "      <td>4.0</td>\n",
       "      <td>NaN</td>\n",
       "      <td>NaN</td>\n",
       "      <td>NaN</td>\n",
       "      <td>4WD</td>\n",
       "    </tr>\n",
       "    <tr>\n",
       "      <th>475</th>\n",
       "      <td>SUV</td>\n",
       "      <td>Range Rover PHEV</td>\n",
       "      <td>2021.0</td>\n",
       "      <td>Land Rover</td>\n",
       "      <td>Plug-in Hybrid Electric</td>\n",
       "      <td>19.0</td>\n",
       "      <td>NaN</td>\n",
       "      <td>NaN</td>\n",
       "      <td>NaN</td>\n",
       "      <td>42.0</td>\n",
       "      <td>18.0</td>\n",
       "      <td>21.0</td>\n",
       "      <td>19.0</td>\n",
       "      <td>Auto</td>\n",
       "      <td>NaN</td>\n",
       "      <td>CI</td>\n",
       "      <td>2.0L</td>\n",
       "      <td>4.0</td>\n",
       "      <td>NaN</td>\n",
       "      <td>NaN</td>\n",
       "      <td>NaN</td>\n",
       "      <td>NaN</td>\n",
       "    </tr>\n",
       "    <tr>\n",
       "      <th>637</th>\n",
       "      <td>Transit Bus</td>\n",
       "      <td>K9MD (40')</td>\n",
       "      <td>NaN</td>\n",
       "      <td>BYD</td>\n",
       "      <td>Electric</td>\n",
       "      <td>NaN</td>\n",
       "      <td>NaN</td>\n",
       "      <td>NaN</td>\n",
       "      <td>NaN</td>\n",
       "      <td>NaN</td>\n",
       "      <td>NaN</td>\n",
       "      <td>NaN</td>\n",
       "      <td>NaN</td>\n",
       "      <td>NaN</td>\n",
       "      <td>BYD</td>\n",
       "      <td>NaN</td>\n",
       "      <td>NaN</td>\n",
       "      <td>NaN</td>\n",
       "      <td>42</td>\n",
       "      <td>BYD 180 kWx2 in-wheel motor</td>\n",
       "      <td>According to manufacturer: 446kWh battery; up ...</td>\n",
       "      <td>NaN</td>\n",
       "    </tr>\n",
       "    <tr>\n",
       "      <th>15</th>\n",
       "      <td>Sedan/Wagon</td>\n",
       "      <td>A8L quattro</td>\n",
       "      <td>2022.0</td>\n",
       "      <td>Audi</td>\n",
       "      <td>Hybrid Electric</td>\n",
       "      <td>NaN</td>\n",
       "      <td>NaN</td>\n",
       "      <td>NaN</td>\n",
       "      <td>NaN</td>\n",
       "      <td>NaN</td>\n",
       "      <td>19.0</td>\n",
       "      <td>28.0</td>\n",
       "      <td>22.0</td>\n",
       "      <td>Auto</td>\n",
       "      <td>NaN</td>\n",
       "      <td>SI</td>\n",
       "      <td>3.0L</td>\n",
       "      <td>6.0</td>\n",
       "      <td>NaN</td>\n",
       "      <td>NaN</td>\n",
       "      <td>NaN</td>\n",
       "      <td>AWD</td>\n",
       "    </tr>\n",
       "    <tr>\n",
       "      <th>238</th>\n",
       "      <td>Sedan/Wagon</td>\n",
       "      <td>S 580 4MATIC Maybach</td>\n",
       "      <td>2022.0</td>\n",
       "      <td>Mercedes-Benz</td>\n",
       "      <td>Hybrid Electric</td>\n",
       "      <td>NaN</td>\n",
       "      <td>NaN</td>\n",
       "      <td>NaN</td>\n",
       "      <td>NaN</td>\n",
       "      <td>NaN</td>\n",
       "      <td>15.0</td>\n",
       "      <td>24.0</td>\n",
       "      <td>18.0</td>\n",
       "      <td>Auto</td>\n",
       "      <td>NaN</td>\n",
       "      <td>SI</td>\n",
       "      <td>4.0L</td>\n",
       "      <td>8.0</td>\n",
       "      <td>NaN</td>\n",
       "      <td>NaN</td>\n",
       "      <td>NaN</td>\n",
       "      <td>AWD</td>\n",
       "    </tr>\n",
       "  </tbody>\n",
       "</table>\n",
       "</div>"
      ],
      "text/plain": [
       "        Category                 Model  Model Year   Manufacturer  \\\n",
       "164          SUV      Wrangler 4dr 4xe      2022.0           Jeep   \n",
       "475          SUV      Range Rover PHEV      2021.0     Land Rover   \n",
       "637  Transit Bus            K9MD (40')         NaN            BYD   \n",
       "15   Sedan/Wagon           A8L quattro      2022.0           Audi   \n",
       "238  Sedan/Wagon  S 580 4MATIC Maybach      2022.0  Mercedes-Benz   \n",
       "\n",
       "                        Fuel  All-Electric Range  PHEV Total Range  \\\n",
       "164  Plug-in Hybrid Electric                22.0             370.0   \n",
       "475  Plug-in Hybrid Electric                19.0               NaN   \n",
       "637                 Electric                 NaN               NaN   \n",
       "15           Hybrid Electric                 NaN               NaN   \n",
       "238          Hybrid Electric                 NaN               NaN   \n",
       "\n",
       "     Alternative Fuel Economy City  Alternative Fuel Economy Highway  \\\n",
       "164                            NaN                               NaN   \n",
       "475                            NaN                               NaN   \n",
       "637                            NaN                               NaN   \n",
       "15                             NaN                               NaN   \n",
       "238                            NaN                               NaN   \n",
       "\n",
       "     Alternative Fuel Economy Combined  Conventional Fuel Economy City  \\\n",
       "164                               49.0                            20.0   \n",
       "475                               42.0                            18.0   \n",
       "637                                NaN                             NaN   \n",
       "15                                 NaN                            19.0   \n",
       "238                                NaN                            15.0   \n",
       "\n",
       "     Conventional Fuel Economy Highway  Conventional Fuel Economy Combined  \\\n",
       "164                               20.0                                20.0   \n",
       "475                               21.0                                19.0   \n",
       "637                                NaN                                 NaN   \n",
       "15                                28.0                                22.0   \n",
       "238                               24.0                                18.0   \n",
       "\n",
       "    Transmission Type Transmission Make Engine Type Engine Size  \\\n",
       "164              Auto               NaN          SI        2.0L   \n",
       "475              Auto               NaN          CI        2.0L   \n",
       "637               NaN               BYD         NaN         NaN   \n",
       "15               Auto               NaN          SI        3.0L   \n",
       "238              Auto               NaN          SI        4.0L   \n",
       "\n",
       "     Engine Cylinder Count Number of Passengers      Heavy-Duty Power System  \\\n",
       "164                    4.0                  NaN                          NaN   \n",
       "475                    4.0                  NaN                          NaN   \n",
       "637                    NaN                   42  BYD 180 kWx2 in-wheel motor   \n",
       "15                     6.0                  NaN                          NaN   \n",
       "238                    8.0                  NaN                          NaN   \n",
       "\n",
       "                                                 Notes Drivetrain  \n",
       "164                                                NaN        4WD  \n",
       "475                                                NaN        NaN  \n",
       "637  According to manufacturer: 446kWh battery; up ...        NaN  \n",
       "15                                                 NaN        AWD  \n",
       "238                                                NaN        AWD  "
      ]
     },
     "execution_count": 2,
     "metadata": {},
     "output_type": "execute_result"
    }
   ],
   "source": [
    "df1= pd.read_csv(\"E:/proyecto_final/datasets/Alternative Fuel Vehicles US.csv\")\n",
    "pd.set_option('display.max_columns', None)\n",
    "df1.sample(5)"
   ]
  },
  {
   "cell_type": "markdown",
   "metadata": {},
   "source": [
    "### Se eliminan columnas inncesarias"
   ]
  },
  {
   "cell_type": "code",
   "execution_count": 3,
   "metadata": {},
   "outputs": [],
   "source": [
    "df1 = df1.drop(columns={'Transmission Type', 'Transmission Make', 'Number of Passengers','Engine Type', 'Engine Size', 'Engine Cylinder Count',\n",
    "                        'Heavy-Duty Power System', 'Notes', 'Drivetrain'})"
   ]
  },
  {
   "cell_type": "markdown",
   "metadata": {},
   "source": [
    "Se normalizan los nombres de cada columna"
   ]
  },
  {
   "cell_type": "code",
   "execution_count": 4,
   "metadata": {},
   "outputs": [
    {
     "data": {
      "text/plain": [
       "Index(['Category', 'Model', 'Model Year', 'Manufacturer', 'Fuel',\n",
       "       'All-Electric Range', 'PHEV Total Range',\n",
       "       'Alternative Fuel Economy City', 'Alternative Fuel Economy Highway',\n",
       "       'Alternative Fuel Economy Combined', 'Conventional Fuel Economy City',\n",
       "       'Conventional Fuel Economy Highway',\n",
       "       'Conventional Fuel Economy Combined'],\n",
       "      dtype='object')"
      ]
     },
     "execution_count": 4,
     "metadata": {},
     "output_type": "execute_result"
    }
   ],
   "source": [
    "df1.columns"
   ]
  },
  {
   "cell_type": "markdown",
   "metadata": {},
   "source": [
    "Renombramos columnas"
   ]
  },
  {
   "cell_type": "code",
   "execution_count": 5,
   "metadata": {},
   "outputs": [],
   "source": [
    "df1.rename(columns={'Category':'category', 'Model': 'model', 'Model Year':'model_year', 'Manufacturer':'manufacturer'\n",
    "    , 'Fuel': 'fuel','All-Electric Range': 'all_electric_range', 'PHEV Total Range':'PHEV_total_range',\n",
    "       'Alternative Fuel Economy City': 'alternative_fuel_economy_city', 'Alternative Fuel Economy Highway':'alternative_fuel_economy_highway',\n",
    "       'Alternative Fuel Economy Combined': 'alternative_fuel_economy_combined', 'Conventional Fuel Economy City': 'conventional_fuel_economy_city',\n",
    "       'Conventional Fuel Economy Highway': 'conventional_fuel_economy_highway',\n",
    "       'Conventional Fuel Economy Combined': 'conventional_fuel_economy_combined'\n",
    "    }, inplace = True)"
   ]
  },
  {
   "cell_type": "markdown",
   "metadata": {},
   "source": [
    "### Se verifica el tipo de dato de cada columna"
   ]
  },
  {
   "cell_type": "code",
   "execution_count": 6,
   "metadata": {},
   "outputs": [
    {
     "name": "stdout",
     "output_type": "stream",
     "text": [
      "<class 'pandas.core.frame.DataFrame'>\n",
      "RangeIndex: 882 entries, 0 to 881\n",
      "Data columns (total 13 columns):\n",
      " #   Column                              Non-Null Count  Dtype  \n",
      "---  ------                              --------------  -----  \n",
      " 0   category                            882 non-null    object \n",
      " 1   model                               882 non-null    object \n",
      " 2   model_year                          594 non-null    float64\n",
      " 3   manufacturer                        882 non-null    object \n",
      " 4   fuel                                882 non-null    object \n",
      " 5   all_electric_range                  222 non-null    float64\n",
      " 6   PHEV_total_range                    43 non-null     float64\n",
      " 7   alternative_fuel_economy_city       169 non-null    float64\n",
      " 8   alternative_fuel_economy_highway    169 non-null    float64\n",
      " 9   alternative_fuel_economy_combined   262 non-null    float64\n",
      " 10  conventional_fuel_economy_city      444 non-null    float64\n",
      " 11  conventional_fuel_economy_highway   444 non-null    float64\n",
      " 12  conventional_fuel_economy_combined  444 non-null    float64\n",
      "dtypes: float64(9), object(4)\n",
      "memory usage: 89.7+ KB\n"
     ]
    },
    {
     "data": {
      "text/plain": [
       "((882, 13), None)"
      ]
     },
     "execution_count": 6,
     "metadata": {},
     "output_type": "execute_result"
    }
   ],
   "source": [
    "df1.shape, df1.info()"
   ]
  },
  {
   "cell_type": "markdown",
   "metadata": {},
   "source": [
    "Tenemos 882 filas y 13 columnas"
   ]
  },
  {
   "cell_type": "markdown",
   "metadata": {},
   "source": [
    "Se modifica el tipo de dato de 'Model Year' a entero"
   ]
  },
  {
   "cell_type": "code",
   "execution_count": 7,
   "metadata": {},
   "outputs": [],
   "source": [
    "df1['model_year'] = df1['model_year'].astype('Int64')"
   ]
  },
  {
   "cell_type": "code",
   "execution_count": 8,
   "metadata": {},
   "outputs": [
    {
     "data": {
      "text/plain": [
       "Index(['category', 'model', 'model_year', 'manufacturer', 'fuel',\n",
       "       'all_electric_range', 'PHEV_total_range',\n",
       "       'alternative_fuel_economy_city', 'alternative_fuel_economy_highway',\n",
       "       'alternative_fuel_economy_combined', 'conventional_fuel_economy_city',\n",
       "       'conventional_fuel_economy_highway',\n",
       "       'conventional_fuel_economy_combined'],\n",
       "      dtype='object')"
      ]
     },
     "execution_count": 8,
     "metadata": {},
     "output_type": "execute_result"
    }
   ],
   "source": [
    "df1.columns"
   ]
  },
  {
   "cell_type": "markdown",
   "metadata": {},
   "source": [
    "Validamos si hay valores nulos"
   ]
  },
  {
   "cell_type": "code",
   "execution_count": 9,
   "metadata": {},
   "outputs": [
    {
     "data": {
      "text/plain": [
       "category                                0\n",
       "model                                   0\n",
       "model_year                            288\n",
       "manufacturer                            0\n",
       "fuel                                    0\n",
       "all_electric_range                    660\n",
       "PHEV_total_range                      839\n",
       "alternative_fuel_economy_city         713\n",
       "alternative_fuel_economy_highway      713\n",
       "alternative_fuel_economy_combined     620\n",
       "conventional_fuel_economy_city        438\n",
       "conventional_fuel_economy_highway     438\n",
       "conventional_fuel_economy_combined    438\n",
       "dtype: int64"
      ]
     },
     "execution_count": 9,
     "metadata": {},
     "output_type": "execute_result"
    }
   ],
   "source": [
    "df1.isna().sum()"
   ]
  },
  {
   "cell_type": "markdown",
   "metadata": {},
   "source": [
    "Hay valores nulos pero se opta por noi borrarlos ya que me afectaria otras columnas que si tienen valor para el analisis"
   ]
  },
  {
   "cell_type": "markdown",
   "metadata": {},
   "source": [
    "validamos valores duplicados"
   ]
  },
  {
   "cell_type": "code",
   "execution_count": 10,
   "metadata": {},
   "outputs": [
    {
     "data": {
      "text/plain": [
       "False    880\n",
       "True       2\n",
       "Name: count, dtype: int64"
      ]
     },
     "execution_count": 10,
     "metadata": {},
     "output_type": "execute_result"
    }
   ],
   "source": [
    "df1.duplicated().value_counts()"
   ]
  },
  {
   "cell_type": "markdown",
   "metadata": {},
   "source": [
    "hay 2  valores duplicados, se eliminan"
   ]
  },
  {
   "cell_type": "code",
   "execution_count": 11,
   "metadata": {},
   "outputs": [],
   "source": [
    "df1.drop_duplicates(inplace= True)"
   ]
  },
  {
   "cell_type": "markdown",
   "metadata": {},
   "source": [
    "### Analisis Descriptivo"
   ]
  },
  {
   "cell_type": "code",
   "execution_count": 12,
   "metadata": {},
   "outputs": [
    {
     "data": {
      "text/html": [
       "<div>\n",
       "<style scoped>\n",
       "    .dataframe tbody tr th:only-of-type {\n",
       "        vertical-align: middle;\n",
       "    }\n",
       "\n",
       "    .dataframe tbody tr th {\n",
       "        vertical-align: top;\n",
       "    }\n",
       "\n",
       "    .dataframe thead th {\n",
       "        text-align: right;\n",
       "    }\n",
       "</style>\n",
       "<table border=\"1\" class=\"dataframe\">\n",
       "  <thead>\n",
       "    <tr style=\"text-align: right;\">\n",
       "      <th></th>\n",
       "      <th>model_year</th>\n",
       "      <th>all_electric_range</th>\n",
       "      <th>PHEV_total_range</th>\n",
       "      <th>alternative_fuel_economy_city</th>\n",
       "      <th>alternative_fuel_economy_highway</th>\n",
       "      <th>alternative_fuel_economy_combined</th>\n",
       "      <th>conventional_fuel_economy_city</th>\n",
       "      <th>conventional_fuel_economy_highway</th>\n",
       "      <th>conventional_fuel_economy_combined</th>\n",
       "    </tr>\n",
       "  </thead>\n",
       "  <tbody>\n",
       "    <tr>\n",
       "      <th>count</th>\n",
       "      <td>593.0</td>\n",
       "      <td>222.000000</td>\n",
       "      <td>43.000000</td>\n",
       "      <td>169.000000</td>\n",
       "      <td>169.000000</td>\n",
       "      <td>262.000000</td>\n",
       "      <td>443.000000</td>\n",
       "      <td>443.000000</td>\n",
       "      <td>443.000000</td>\n",
       "    </tr>\n",
       "    <tr>\n",
       "      <th>mean</th>\n",
       "      <td>2021.539629</td>\n",
       "      <td>165.927928</td>\n",
       "      <td>450.465116</td>\n",
       "      <td>84.585799</td>\n",
       "      <td>77.591716</td>\n",
       "      <td>75.992366</td>\n",
       "      <td>25.907449</td>\n",
       "      <td>30.085779</td>\n",
       "      <td>27.264108</td>\n",
       "    </tr>\n",
       "    <tr>\n",
       "      <th>std</th>\n",
       "      <td>0.498848</td>\n",
       "      <td>132.992955</td>\n",
       "      <td>93.042578</td>\n",
       "      <td>39.430696</td>\n",
       "      <td>32.735123</td>\n",
       "      <td>32.303279</td>\n",
       "      <td>10.872066</td>\n",
       "      <td>12.830142</td>\n",
       "      <td>9.814812</td>\n",
       "    </tr>\n",
       "    <tr>\n",
       "      <th>min</th>\n",
       "      <td>2021.0</td>\n",
       "      <td>8.000000</td>\n",
       "      <td>290.000000</td>\n",
       "      <td>10.000000</td>\n",
       "      <td>12.000000</td>\n",
       "      <td>11.000000</td>\n",
       "      <td>13.000000</td>\n",
       "      <td>16.000000</td>\n",
       "      <td>15.000000</td>\n",
       "    </tr>\n",
       "    <tr>\n",
       "      <th>25%</th>\n",
       "      <td>2021.0</td>\n",
       "      <td>23.000000</td>\n",
       "      <td>380.000000</td>\n",
       "      <td>71.000000</td>\n",
       "      <td>66.000000</td>\n",
       "      <td>56.000000</td>\n",
       "      <td>19.000000</td>\n",
       "      <td>24.000000</td>\n",
       "      <td>21.000000</td>\n",
       "    </tr>\n",
       "    <tr>\n",
       "      <th>50%</th>\n",
       "      <td>2022.0</td>\n",
       "      <td>203.000000</td>\n",
       "      <td>460.000000</td>\n",
       "      <td>94.000000</td>\n",
       "      <td>85.000000</td>\n",
       "      <td>76.000000</td>\n",
       "      <td>22.000000</td>\n",
       "      <td>28.000000</td>\n",
       "      <td>24.000000</td>\n",
       "    </tr>\n",
       "    <tr>\n",
       "      <th>75%</th>\n",
       "      <td>2022.0</td>\n",
       "      <td>260.000000</td>\n",
       "      <td>520.000000</td>\n",
       "      <td>115.000000</td>\n",
       "      <td>99.000000</td>\n",
       "      <td>101.000000</td>\n",
       "      <td>28.000000</td>\n",
       "      <td>33.000000</td>\n",
       "      <td>30.000000</td>\n",
       "    </tr>\n",
       "    <tr>\n",
       "      <th>max</th>\n",
       "      <td>2022.0</td>\n",
       "      <td>520.000000</td>\n",
       "      <td>640.000000</td>\n",
       "      <td>150.000000</td>\n",
       "      <td>133.000000</td>\n",
       "      <td>142.000000</td>\n",
       "      <td>59.000000</td>\n",
       "      <td>231.000000</td>\n",
       "      <td>59.000000</td>\n",
       "    </tr>\n",
       "  </tbody>\n",
       "</table>\n",
       "</div>"
      ],
      "text/plain": [
       "        model_year  all_electric_range  PHEV_total_range  \\\n",
       "count        593.0          222.000000         43.000000   \n",
       "mean   2021.539629          165.927928        450.465116   \n",
       "std       0.498848          132.992955         93.042578   \n",
       "min         2021.0            8.000000        290.000000   \n",
       "25%         2021.0           23.000000        380.000000   \n",
       "50%         2022.0          203.000000        460.000000   \n",
       "75%         2022.0          260.000000        520.000000   \n",
       "max         2022.0          520.000000        640.000000   \n",
       "\n",
       "       alternative_fuel_economy_city  alternative_fuel_economy_highway  \\\n",
       "count                     169.000000                        169.000000   \n",
       "mean                       84.585799                         77.591716   \n",
       "std                        39.430696                         32.735123   \n",
       "min                        10.000000                         12.000000   \n",
       "25%                        71.000000                         66.000000   \n",
       "50%                        94.000000                         85.000000   \n",
       "75%                       115.000000                         99.000000   \n",
       "max                       150.000000                        133.000000   \n",
       "\n",
       "       alternative_fuel_economy_combined  conventional_fuel_economy_city  \\\n",
       "count                         262.000000                      443.000000   \n",
       "mean                           75.992366                       25.907449   \n",
       "std                            32.303279                       10.872066   \n",
       "min                            11.000000                       13.000000   \n",
       "25%                            56.000000                       19.000000   \n",
       "50%                            76.000000                       22.000000   \n",
       "75%                           101.000000                       28.000000   \n",
       "max                           142.000000                       59.000000   \n",
       "\n",
       "       conventional_fuel_economy_highway  conventional_fuel_economy_combined  \n",
       "count                         443.000000                          443.000000  \n",
       "mean                           30.085779                           27.264108  \n",
       "std                            12.830142                            9.814812  \n",
       "min                            16.000000                           15.000000  \n",
       "25%                            24.000000                           21.000000  \n",
       "50%                            28.000000                           24.000000  \n",
       "75%                            33.000000                           30.000000  \n",
       "max                           231.000000                           59.000000  "
      ]
     },
     "execution_count": 12,
     "metadata": {},
     "output_type": "execute_result"
    }
   ],
   "source": [
    "df1.describe()"
   ]
  },
  {
   "cell_type": "markdown",
   "metadata": {},
   "source": [
    "Se quiere conformar un dataset con las categorias de vehiculos que pueden ser utilizados en la flota y su rendimiento."
   ]
  },
  {
   "cell_type": "markdown",
   "metadata": {},
   "source": [
    "* La media de autonomia de un vehiculo 100% electrico es de 166 millas.\n",
    "* La media de autonomia de un vehiculo hibrido enchufable es de 450 millas. \n",
    "* La media de autonomia de un vehiculo convencional de combustible es de 443 millas. "
   ]
  },
  {
   "cell_type": "markdown",
   "metadata": {},
   "source": [
    "Verificamos que categorias pueden ser usadas en el modelo de negocio"
   ]
  },
  {
   "cell_type": "code",
   "execution_count": 13,
   "metadata": {},
   "outputs": [
    {
     "data": {
      "text/plain": [
       "category\n",
       "Sedan/Wagon                      282\n",
       "SUV                              222\n",
       "Pickup                            79\n",
       "Transit Bus                       76\n",
       "Vocational/Cab Chassis            68\n",
       "Passenger Van/Shuttle Bus         46\n",
       "Van                               23\n",
       "Street Sweeper                    21\n",
       "School Bus                        21\n",
       "Refuse                            16\n",
       "Tractor                           15\n",
       "Step Van                           5\n",
       "TractorVocational/Cab Chassis      4\n",
       "Vocational/Cab ChassisVan          1\n",
       "Vocational/Cab ChassisTractor      1\n",
       "Name: count, dtype: int64"
      ]
     },
     "execution_count": 13,
     "metadata": {},
     "output_type": "execute_result"
    }
   ],
   "source": [
    "df1['category'].value_counts()"
   ]
  },
  {
   "cell_type": "markdown",
   "metadata": {},
   "source": [
    "Por tamaño de cantidad de pasajeros solo las categorias : 'Sedan' y 'Suv' son operativas para el negocio\n",
    "creamos el nuevo dataset"
   ]
  },
  {
   "cell_type": "code",
   "execution_count": 14,
   "metadata": {},
   "outputs": [
    {
     "data": {
      "text/html": [
       "<div>\n",
       "<style scoped>\n",
       "    .dataframe tbody tr th:only-of-type {\n",
       "        vertical-align: middle;\n",
       "    }\n",
       "\n",
       "    .dataframe tbody tr th {\n",
       "        vertical-align: top;\n",
       "    }\n",
       "\n",
       "    .dataframe thead th {\n",
       "        text-align: right;\n",
       "    }\n",
       "</style>\n",
       "<table border=\"1\" class=\"dataframe\">\n",
       "  <thead>\n",
       "    <tr style=\"text-align: right;\">\n",
       "      <th></th>\n",
       "      <th>category</th>\n",
       "      <th>model</th>\n",
       "      <th>model_year</th>\n",
       "      <th>manufacturer</th>\n",
       "      <th>fuel</th>\n",
       "      <th>all_electric_range</th>\n",
       "      <th>PHEV_total_range</th>\n",
       "      <th>alternative_fuel_economy_city</th>\n",
       "      <th>alternative_fuel_economy_highway</th>\n",
       "      <th>alternative_fuel_economy_combined</th>\n",
       "      <th>conventional_fuel_economy_city</th>\n",
       "      <th>conventional_fuel_economy_highway</th>\n",
       "      <th>conventional_fuel_economy_combined</th>\n",
       "    </tr>\n",
       "  </thead>\n",
       "  <tbody>\n",
       "    <tr>\n",
       "      <th>0</th>\n",
       "      <td>Sedan/Wagon</td>\n",
       "      <td>NSX</td>\n",
       "      <td>2022</td>\n",
       "      <td>Acura</td>\n",
       "      <td>Hybrid Electric</td>\n",
       "      <td>NaN</td>\n",
       "      <td>NaN</td>\n",
       "      <td>NaN</td>\n",
       "      <td>NaN</td>\n",
       "      <td>NaN</td>\n",
       "      <td>21.0</td>\n",
       "      <td>22.0</td>\n",
       "      <td>21.0</td>\n",
       "    </tr>\n",
       "    <tr>\n",
       "      <th>1</th>\n",
       "      <td>Sedan/Wagon</td>\n",
       "      <td>A3</td>\n",
       "      <td>2022</td>\n",
       "      <td>Audi</td>\n",
       "      <td>Hybrid Electric</td>\n",
       "      <td>NaN</td>\n",
       "      <td>NaN</td>\n",
       "      <td>NaN</td>\n",
       "      <td>NaN</td>\n",
       "      <td>NaN</td>\n",
       "      <td>29.0</td>\n",
       "      <td>38.0</td>\n",
       "      <td>32.0</td>\n",
       "    </tr>\n",
       "    <tr>\n",
       "      <th>2</th>\n",
       "      <td>Sedan/Wagon</td>\n",
       "      <td>A3 quattro</td>\n",
       "      <td>2022</td>\n",
       "      <td>Audi</td>\n",
       "      <td>Hybrid Electric</td>\n",
       "      <td>NaN</td>\n",
       "      <td>NaN</td>\n",
       "      <td>NaN</td>\n",
       "      <td>NaN</td>\n",
       "      <td>NaN</td>\n",
       "      <td>28.0</td>\n",
       "      <td>36.0</td>\n",
       "      <td>31.0</td>\n",
       "    </tr>\n",
       "    <tr>\n",
       "      <th>3</th>\n",
       "      <td>Sedan/Wagon</td>\n",
       "      <td>A4 allroad quattro</td>\n",
       "      <td>2022</td>\n",
       "      <td>Audi</td>\n",
       "      <td>Hybrid Electric</td>\n",
       "      <td>NaN</td>\n",
       "      <td>NaN</td>\n",
       "      <td>NaN</td>\n",
       "      <td>NaN</td>\n",
       "      <td>NaN</td>\n",
       "      <td>24.0</td>\n",
       "      <td>30.0</td>\n",
       "      <td>26.0</td>\n",
       "    </tr>\n",
       "    <tr>\n",
       "      <th>4</th>\n",
       "      <td>Sedan/Wagon</td>\n",
       "      <td>A4 quattro</td>\n",
       "      <td>2022</td>\n",
       "      <td>Audi</td>\n",
       "      <td>Hybrid Electric</td>\n",
       "      <td>NaN</td>\n",
       "      <td>NaN</td>\n",
       "      <td>NaN</td>\n",
       "      <td>NaN</td>\n",
       "      <td>NaN</td>\n",
       "      <td>26.0</td>\n",
       "      <td>34.0</td>\n",
       "      <td>29.0</td>\n",
       "    </tr>\n",
       "  </tbody>\n",
       "</table>\n",
       "</div>"
      ],
      "text/plain": [
       "      category               model  model_year manufacturer             fuel  \\\n",
       "0  Sedan/Wagon                 NSX        2022        Acura  Hybrid Electric   \n",
       "1  Sedan/Wagon                 A3         2022         Audi  Hybrid Electric   \n",
       "2  Sedan/Wagon          A3 quattro        2022         Audi  Hybrid Electric   \n",
       "3  Sedan/Wagon  A4 allroad quattro        2022         Audi  Hybrid Electric   \n",
       "4  Sedan/Wagon          A4 quattro        2022         Audi  Hybrid Electric   \n",
       "\n",
       "   all_electric_range  PHEV_total_range  alternative_fuel_economy_city  \\\n",
       "0                 NaN               NaN                            NaN   \n",
       "1                 NaN               NaN                            NaN   \n",
       "2                 NaN               NaN                            NaN   \n",
       "3                 NaN               NaN                            NaN   \n",
       "4                 NaN               NaN                            NaN   \n",
       "\n",
       "   alternative_fuel_economy_highway  alternative_fuel_economy_combined  \\\n",
       "0                               NaN                                NaN   \n",
       "1                               NaN                                NaN   \n",
       "2                               NaN                                NaN   \n",
       "3                               NaN                                NaN   \n",
       "4                               NaN                                NaN   \n",
       "\n",
       "   conventional_fuel_economy_city  conventional_fuel_economy_highway  \\\n",
       "0                            21.0                               22.0   \n",
       "1                            29.0                               38.0   \n",
       "2                            28.0                               36.0   \n",
       "3                            24.0                               30.0   \n",
       "4                            26.0                               34.0   \n",
       "\n",
       "   conventional_fuel_economy_combined  \n",
       "0                                21.0  \n",
       "1                                32.0  \n",
       "2                                31.0  \n",
       "3                                26.0  \n",
       "4                                29.0  "
      ]
     },
     "execution_count": 14,
     "metadata": {},
     "output_type": "execute_result"
    }
   ],
   "source": [
    "df_categorias = df1.loc[df1['category'].isin(['Sedan/Wagon', 'SUV'])]\n",
    "df_categorias.head()"
   ]
  },
  {
   "cell_type": "code",
   "execution_count": 15,
   "metadata": {},
   "outputs": [
    {
     "data": {
      "text/plain": [
       "fuel\n",
       "Hybrid Electric            254\n",
       "Electric                   125\n",
       "Plug-in Hybrid Electric     91\n",
       "Biodiesel (B20)             22\n",
       "Hydrogen Fuel Cell          10\n",
       "Ethanol (E85)                2\n",
       "Name: count, dtype: int64"
      ]
     },
     "execution_count": 15,
     "metadata": {},
     "output_type": "execute_result"
    }
   ],
   "source": [
    "df_categorias['fuel'].value_counts()"
   ]
  },
  {
   "cell_type": "markdown",
   "metadata": {},
   "source": [
    "Grafico de barras 'Rendimiento en millas por categoria de vehículo'"
   ]
  },
  {
   "cell_type": "code",
   "execution_count": 16,
   "metadata": {},
   "outputs": [
    {
     "data": {
      "text/plain": [
       "Text(0.5, 0, 'Categoria')"
      ]
     },
     "execution_count": 16,
     "metadata": {},
     "output_type": "execute_result"
    },
    {
     "data": {
      "image/png": "[encoded data removed]",
      "text/plain": [
       "<Figure size 640x480 with 1 Axes>"
      ]
     },
     "metadata": {},
     "output_type": "display_data"
    }
   ],
   "source": [
    "sns.barplot(x = df_categorias['category'] , y = df_categorias['all_electric_range'])\n",
    "plt.title('Rendimiento en millas por categoria de vehículo 100% electrico')\n",
    "plt.ylabel(ylabel='Rendimiento en millas')\n",
    "plt.xlabel(xlabel='Categoria')\n",
    "\n"
   ]
  },
  {
   "cell_type": "code",
   "execution_count": 17,
   "metadata": {},
   "outputs": [
    {
     "data": {
      "text/plain": [
       "Text(0.5, 0, 'Categoria')"
      ]
     },
     "execution_count": 17,
     "metadata": {},
     "output_type": "execute_result"
    },
    {
     "data": {
      "image/png": "[encoded data removed]",
      "text/plain": [
       "<Figure size 640x480 with 1 Axes>"
      ]
     },
     "metadata": {},
     "output_type": "display_data"
    }
   ],
   "source": [
    "sns.barplot(x = df_categorias['category'] , y = df_categorias['PHEV_total_range'])\n",
    "plt.title('Rendimiento en millas por categoria de vehículo hibrido enchufable')\n",
    "plt.ylabel(ylabel='Rendimiento en millas')\n",
    "plt.xlabel(xlabel='Categoria')"
   ]
  },
  {
   "cell_type": "code",
   "execution_count": 18,
   "metadata": {},
   "outputs": [
    {
     "data": {
      "text/plain": [
       "Text(0.5, 0, 'Categoria')"
      ]
     },
     "execution_count": 18,
     "metadata": {},
     "output_type": "execute_result"
    },
    {
     "data": {
      "image/png": "[encoded data removed]",
      "text/plain": [
       "<Figure size 640x480 with 1 Axes>"
      ]
     },
     "metadata": {},
     "output_type": "display_data"
    }
   ],
   "source": [
    "\t\n",
    "sns.barplot(x = df_categorias['category'] , y = df_categorias['conventional_fuel_economy_city'])\n",
    "plt.title('Rendimiento en millas por categoria de vehículo a combustible fosil')\n",
    "plt.ylabel(ylabel='Rendimiento en millas')\n",
    "plt.xlabel(xlabel='Categoria')"
   ]
  },
  {
   "cell_type": "markdown",
   "metadata": {},
   "source": [
    "Se observa que un Sedan o suv 100% electrico da una autonomia aproximada de 162 millas por carga completa\n",
    "mientras que un carro hibrido enchufable da una autonomia de 430 millas por tanque y carga full"
   ]
  },
  {
   "cell_type": "markdown",
   "metadata": {},
   "source": [
    "Carro hibrido"
   ]
  },
  {
   "cell_type": "code",
   "execution_count": 19,
   "metadata": {},
   "outputs": [
    {
     "data": {
      "text/plain": [
       "56.459999999999994"
      ]
     },
     "execution_count": 19,
     "metadata": {},
     "output_type": "execute_result"
    }
   ],
   "source": [
    "# Automia de 450 km\n",
    "galones = 13.2\n",
    "valor_galon = 4.05\n",
    "cant_kwatts = 20\n",
    "valor_kwatts = 0.15\n",
    "gasto_hev = galones* valor_galon + cant_kwatts * valor_kwatts\n",
    "gasto_hev"
   ]
  },
  {
   "cell_type": "markdown",
   "metadata": {},
   "source": [
    "Carro 100 % electrico"
   ]
  },
  {
   "cell_type": "code",
   "execution_count": 20,
   "metadata": {},
   "outputs": [
    {
     "data": {
      "text/plain": [
       "67.5"
      ]
     },
     "execution_count": 20,
     "metadata": {},
     "output_type": "execute_result"
    }
   ],
   "source": [
    "# Automia de 450 km\n",
    "\n",
    "gasto_ev = valor_kwatts * 450\n",
    "gasto_ev"
   ]
  },
  {
   "cell_type": "markdown",
   "metadata": {},
   "source": [
    "Carro convencional"
   ]
  },
  {
   "cell_type": "code",
   "execution_count": 21,
   "metadata": {},
   "outputs": [
    {
     "data": {
      "text/plain": [
       "60.75"
      ]
     },
     "execution_count": 21,
     "metadata": {},
     "output_type": "execute_result"
    }
   ],
   "source": [
    "# para recorrer 450 millas es necesario 15 galones\n",
    "gasto_conv = valor_galon * 15\n",
    "gasto_conv"
   ]
  }
 ],
 "metadata": {
  "kernelspec": {
   "display_name": "Python 3",
   "language": "python",
   "name": "python3"
  },
  "language_info": {
   "codemirror_mode": {
    "name": "ipython",
    "version": 3
   },
   "file_extension": ".py",
   "mimetype": "text/x-python",
   "name": "python",
   "nbconvert_exporter": "python",
   "pygments_lexer": "ipython3",
   "version": "3.12.1"
  }
 },
 "nbformat": 4,
 "nbformat_minor": 2
}
