{
 "cells": [
  {
   "cell_type": "code",
   "execution_count": 142,
   "metadata": {},
   "outputs": [],
   "source": [
    "import pandas as pd\n",
    "import seaborn as sns\n",
    "import matplotlib.pyplot as plt\n",
    "import warnings\n",
    "warnings.filterwarnings(\"ignore\")"
   ]
  },
  {
   "cell_type": "markdown",
   "metadata": {},
   "source": [
    "# Dataset Alternative Fuel Vehicles"
   ]
  },
  {
   "cell_type": "code",
   "execution_count": 143,
   "metadata": {},
   "outputs": [
    {
     "data": {
      "text/html": [
       "<div>\n",
       "<style scoped>\n",
       "    .dataframe tbody tr th:only-of-type {\n",
       "        vertical-align: middle;\n",
       "    }\n",
       "\n",
       "    .dataframe tbody tr th {\n",
       "        vertical-align: top;\n",
       "    }\n",
       "\n",
       "    .dataframe thead th {\n",
       "        text-align: right;\n",
       "    }\n",
       "</style>\n",
       "<table border=\"1\" class=\"dataframe\">\n",
       "  <thead>\n",
       "    <tr style=\"text-align: right;\">\n",
       "      <th></th>\n",
       "      <th>Category</th>\n",
       "      <th>Model</th>\n",
       "      <th>Model Year</th>\n",
       "      <th>Manufacturer</th>\n",
       "      <th>Fuel</th>\n",
       "      <th>All-Electric Range</th>\n",
       "      <th>PHEV Total Range</th>\n",
       "      <th>Alternative Fuel Economy City</th>\n",
       "      <th>Alternative Fuel Economy Highway</th>\n",
       "      <th>Alternative Fuel Economy Combined</th>\n",
       "      <th>Conventional Fuel Economy City</th>\n",
       "      <th>Conventional Fuel Economy Highway</th>\n",
       "      <th>Conventional Fuel Economy Combined</th>\n",
       "      <th>Transmission Type</th>\n",
       "      <th>Transmission Make</th>\n",
       "      <th>Engine Type</th>\n",
       "      <th>Engine Size</th>\n",
       "      <th>Engine Cylinder Count</th>\n",
       "      <th>Number of Passengers</th>\n",
       "      <th>Heavy-Duty Power System</th>\n",
       "      <th>Notes</th>\n",
       "      <th>Drivetrain</th>\n",
       "    </tr>\n",
       "  </thead>\n",
       "  <tbody>\n",
       "    <tr>\n",
       "      <th>141</th>\n",
       "      <td>SUV</td>\n",
       "      <td>Ioniq 5 RWD</td>\n",
       "      <td>2022.0</td>\n",
       "      <td>Hyundai</td>\n",
       "      <td>Electric</td>\n",
       "      <td>220.0</td>\n",
       "      <td>NaN</td>\n",
       "      <td>127.0</td>\n",
       "      <td>94.0</td>\n",
       "      <td>110.0</td>\n",
       "      <td>NaN</td>\n",
       "      <td>NaN</td>\n",
       "      <td>NaN</td>\n",
       "      <td>Auto</td>\n",
       "      <td>NaN</td>\n",
       "      <td>e-motor</td>\n",
       "      <td>125 kW electric motor</td>\n",
       "      <td>NaN</td>\n",
       "      <td>NaN</td>\n",
       "      <td>NaN</td>\n",
       "      <td>NaN</td>\n",
       "      <td>RWD</td>\n",
       "    </tr>\n",
       "    <tr>\n",
       "      <th>525</th>\n",
       "      <td>Sedan/Wagon</td>\n",
       "      <td>Leaf SV/SL (62 kWh battery pack)</td>\n",
       "      <td>2021.0</td>\n",
       "      <td>Nissan</td>\n",
       "      <td>Electric</td>\n",
       "      <td>215.0</td>\n",
       "      <td>NaN</td>\n",
       "      <td>114.0</td>\n",
       "      <td>94.0</td>\n",
       "      <td>104.0</td>\n",
       "      <td>NaN</td>\n",
       "      <td>NaN</td>\n",
       "      <td>NaN</td>\n",
       "      <td>Auto</td>\n",
       "      <td>NaN</td>\n",
       "      <td>e-motor</td>\n",
       "      <td>160 kW electric motor</td>\n",
       "      <td>NaN</td>\n",
       "      <td>NaN</td>\n",
       "      <td>NaN</td>\n",
       "      <td>NaN</td>\n",
       "      <td>NaN</td>\n",
       "    </tr>\n",
       "    <tr>\n",
       "      <th>85</th>\n",
       "      <td>Van</td>\n",
       "      <td>Pacifica Hybrid</td>\n",
       "      <td>2022.0</td>\n",
       "      <td>Chrysler</td>\n",
       "      <td>Plug-in Hybrid Electric</td>\n",
       "      <td>32.0</td>\n",
       "      <td>520.0</td>\n",
       "      <td>NaN</td>\n",
       "      <td>NaN</td>\n",
       "      <td>82.0</td>\n",
       "      <td>29.0</td>\n",
       "      <td>30.0</td>\n",
       "      <td>30.0</td>\n",
       "      <td>Auto</td>\n",
       "      <td>NaN</td>\n",
       "      <td>SI</td>\n",
       "      <td>3.6L</td>\n",
       "      <td>6.0</td>\n",
       "      <td>NaN</td>\n",
       "      <td>NaN</td>\n",
       "      <td>NaN</td>\n",
       "      <td>FWD</td>\n",
       "    </tr>\n",
       "    <tr>\n",
       "      <th>5</th>\n",
       "      <td>Sedan/Wagon</td>\n",
       "      <td>A4 S line quattro</td>\n",
       "      <td>2022.0</td>\n",
       "      <td>Audi</td>\n",
       "      <td>Hybrid Electric</td>\n",
       "      <td>NaN</td>\n",
       "      <td>NaN</td>\n",
       "      <td>NaN</td>\n",
       "      <td>NaN</td>\n",
       "      <td>NaN</td>\n",
       "      <td>24.0</td>\n",
       "      <td>31.0</td>\n",
       "      <td>27.0</td>\n",
       "      <td>Auto</td>\n",
       "      <td>NaN</td>\n",
       "      <td>SI</td>\n",
       "      <td>2.0L</td>\n",
       "      <td>4.0</td>\n",
       "      <td>NaN</td>\n",
       "      <td>NaN</td>\n",
       "      <td>NaN</td>\n",
       "      <td>AWD</td>\n",
       "    </tr>\n",
       "    <tr>\n",
       "      <th>410</th>\n",
       "      <td>Pickup</td>\n",
       "      <td>Super Duty F-250 2WD/4WD</td>\n",
       "      <td>2021.0</td>\n",
       "      <td>Ford</td>\n",
       "      <td>CNG - Bi-fuel</td>\n",
       "      <td>NaN</td>\n",
       "      <td>NaN</td>\n",
       "      <td>NaN</td>\n",
       "      <td>NaN</td>\n",
       "      <td>NaN</td>\n",
       "      <td>NaN</td>\n",
       "      <td>NaN</td>\n",
       "      <td>NaN</td>\n",
       "      <td>Auto</td>\n",
       "      <td>NaN</td>\n",
       "      <td>SI</td>\n",
       "      <td>7.3L</td>\n",
       "      <td>8.0</td>\n",
       "      <td>NaN</td>\n",
       "      <td>NaN</td>\n",
       "      <td>Ford offers a “prep package” for this vehicle....</td>\n",
       "      <td>NaN</td>\n",
       "    </tr>\n",
       "  </tbody>\n",
       "</table>\n",
       "</div>"
      ],
      "text/plain": [
       "        Category                             Model  Model Year Manufacturer  \\\n",
       "141          SUV                       Ioniq 5 RWD      2022.0      Hyundai   \n",
       "525  Sedan/Wagon  Leaf SV/SL (62 kWh battery pack)      2021.0       Nissan   \n",
       "85           Van                   Pacifica Hybrid      2022.0     Chrysler   \n",
       "5    Sedan/Wagon                 A4 S line quattro      2022.0         Audi   \n",
       "410       Pickup          Super Duty F-250 2WD/4WD      2021.0         Ford   \n",
       "\n",
       "                        Fuel  All-Electric Range  PHEV Total Range  \\\n",
       "141                 Electric               220.0               NaN   \n",
       "525                 Electric               215.0               NaN   \n",
       "85   Plug-in Hybrid Electric                32.0             520.0   \n",
       "5            Hybrid Electric                 NaN               NaN   \n",
       "410            CNG - Bi-fuel                 NaN               NaN   \n",
       "\n",
       "     Alternative Fuel Economy City  Alternative Fuel Economy Highway  \\\n",
       "141                          127.0                              94.0   \n",
       "525                          114.0                              94.0   \n",
       "85                             NaN                               NaN   \n",
       "5                              NaN                               NaN   \n",
       "410                            NaN                               NaN   \n",
       "\n",
       "     Alternative Fuel Economy Combined  Conventional Fuel Economy City  \\\n",
       "141                              110.0                             NaN   \n",
       "525                              104.0                             NaN   \n",
       "85                                82.0                            29.0   \n",
       "5                                  NaN                            24.0   \n",
       "410                                NaN                             NaN   \n",
       "\n",
       "     Conventional Fuel Economy Highway  Conventional Fuel Economy Combined  \\\n",
       "141                                NaN                                 NaN   \n",
       "525                                NaN                                 NaN   \n",
       "85                                30.0                                30.0   \n",
       "5                                 31.0                                27.0   \n",
       "410                                NaN                                 NaN   \n",
       "\n",
       "    Transmission Type Transmission Make Engine Type            Engine Size  \\\n",
       "141              Auto               NaN     e-motor  125 kW electric motor   \n",
       "525              Auto               NaN     e-motor  160 kW electric motor   \n",
       "85               Auto               NaN          SI                   3.6L   \n",
       "5                Auto               NaN          SI                   2.0L   \n",
       "410              Auto               NaN          SI                   7.3L   \n",
       "\n",
       "     Engine Cylinder Count Number of Passengers Heavy-Duty Power System  \\\n",
       "141                    NaN                  NaN                     NaN   \n",
       "525                    NaN                  NaN                     NaN   \n",
       "85                     6.0                  NaN                     NaN   \n",
       "5                      4.0                  NaN                     NaN   \n",
       "410                    8.0                  NaN                     NaN   \n",
       "\n",
       "                                                 Notes Drivetrain  \n",
       "141                                                NaN        RWD  \n",
       "525                                                NaN        NaN  \n",
       "85                                                 NaN        FWD  \n",
       "5                                                  NaN        AWD  \n",
       "410  Ford offers a “prep package” for this vehicle....        NaN  "
      ]
     },
     "execution_count": 143,
     "metadata": {},
     "output_type": "execute_result"
    }
   ],
   "source": [
    "df1= pd.read_csv(\"../Datasets/Alternative Fuel Vehicles US.csv\")\n",
    "pd.set_option('display.max_columns', None)\n",
    "df1.sample(5)"
   ]
  },
  {
   "cell_type": "markdown",
   "metadata": {},
   "source": [
    "### Se eliminan columnas inncesarias"
   ]
  },
  {
   "cell_type": "code",
   "execution_count": 144,
   "metadata": {},
   "outputs": [],
   "source": [
    "df1 = df1.drop(columns={'Transmission Type', 'Transmission Make', 'Number of Passengers','Engine Type', 'Engine Size', 'Engine Cylinder Count',\n",
    "                        'Heavy-Duty Power System', 'Notes', 'Drivetrain'})"
   ]
  },
  {
   "cell_type": "markdown",
   "metadata": {},
   "source": [
    "Se normalizan los nombres de cada columna"
   ]
  },
  {
   "cell_type": "code",
   "execution_count": 145,
   "metadata": {},
   "outputs": [
    {
     "data": {
      "text/plain": [
       "Index(['Category', 'Model', 'Model Year', 'Manufacturer', 'Fuel',\n",
       "       'All-Electric Range', 'PHEV Total Range',\n",
       "       'Alternative Fuel Economy City', 'Alternative Fuel Economy Highway',\n",
       "       'Alternative Fuel Economy Combined', 'Conventional Fuel Economy City',\n",
       "       'Conventional Fuel Economy Highway',\n",
       "       'Conventional Fuel Economy Combined'],\n",
       "      dtype='object')"
      ]
     },
     "execution_count": 145,
     "metadata": {},
     "output_type": "execute_result"
    }
   ],
   "source": [
    "df1.columns"
   ]
  },
  {
   "cell_type": "markdown",
   "metadata": {},
   "source": [
    "Renombramos columnas"
   ]
  },
  {
   "cell_type": "code",
   "execution_count": 146,
   "metadata": {},
   "outputs": [],
   "source": [
    "df1.rename(columns={'Category':'category', 'Model': 'model', 'Model Year':'model_year', 'Manufacturer':'manufacturer'\n",
    "    , 'Fuel': 'fuel','All-Electric Range': 'all_electric_range', 'PHEV Total Range':'PHEV_total_range',\n",
    "       'Alternative Fuel Economy City': 'alternative_fuel_economy_city', 'Alternative Fuel Economy Highway':'alternative_fuel_economy_highway',\n",
    "       'Alternative Fuel Economy Combined': 'alternative_fuel_economy_combined', 'Conventional Fuel Economy City': 'conventional_fuel_economy_city',\n",
    "       'Conventional Fuel Economy Highway': 'conventional_fuel_economy_highway',\n",
    "       'Conventional Fuel Economy Combined': 'conventional_fuel_economy_combined'\n",
    "    }, inplace = True)"
   ]
  },
  {
   "cell_type": "markdown",
   "metadata": {},
   "source": [
    "### Se verifica el tipo de dato de cada columna"
   ]
  },
  {
   "cell_type": "code",
   "execution_count": 147,
   "metadata": {},
   "outputs": [
    {
     "name": "stdout",
     "output_type": "stream",
     "text": [
      "<class 'pandas.core.frame.DataFrame'>\n",
      "RangeIndex: 882 entries, 0 to 881\n",
      "Data columns (total 13 columns):\n",
      " #   Column                              Non-Null Count  Dtype  \n",
      "---  ------                              --------------  -----  \n",
      " 0   category                            882 non-null    object \n",
      " 1   model                               882 non-null    object \n",
      " 2   model_year                          594 non-null    float64\n",
      " 3   manufacturer                        882 non-null    object \n",
      " 4   fuel                                882 non-null    object \n",
      " 5   all_electric_range                  222 non-null    float64\n",
      " 6   PHEV_total_range                    43 non-null     float64\n",
      " 7   alternative_fuel_economy_city       169 non-null    float64\n",
      " 8   alternative_fuel_economy_highway    169 non-null    float64\n",
      " 9   alternative_fuel_economy_combined   262 non-null    float64\n",
      " 10  conventional_fuel_economy_city      444 non-null    float64\n",
      " 11  conventional_fuel_economy_highway   444 non-null    float64\n",
      " 12  conventional_fuel_economy_combined  444 non-null    float64\n",
      "dtypes: float64(9), object(4)\n",
      "memory usage: 89.7+ KB\n"
     ]
    },
    {
     "data": {
      "text/plain": [
       "((882, 13), None)"
      ]
     },
     "execution_count": 147,
     "metadata": {},
     "output_type": "execute_result"
    }
   ],
   "source": [
    "df1.shape, df1.info()"
   ]
  },
  {
   "cell_type": "markdown",
   "metadata": {},
   "source": [
    "Tenemos 882 filas y 13 columnas"
   ]
  },
  {
   "cell_type": "markdown",
   "metadata": {},
   "source": [
    "Se modifica el tipo de dato de 'Model Year' a entero"
   ]
  },
  {
   "cell_type": "code",
   "execution_count": 148,
   "metadata": {},
   "outputs": [],
   "source": [
    "df1['model_year'] = df1['model_year'].astype('Int64')"
   ]
  },
  {
   "cell_type": "code",
   "execution_count": 149,
   "metadata": {},
   "outputs": [
    {
     "data": {
      "text/plain": [
       "Index(['category', 'model', 'model_year', 'manufacturer', 'fuel',\n",
       "       'all_electric_range', 'PHEV_total_range',\n",
       "       'alternative_fuel_economy_city', 'alternative_fuel_economy_highway',\n",
       "       'alternative_fuel_economy_combined', 'conventional_fuel_economy_city',\n",
       "       'conventional_fuel_economy_highway',\n",
       "       'conventional_fuel_economy_combined'],\n",
       "      dtype='object')"
      ]
     },
     "execution_count": 149,
     "metadata": {},
     "output_type": "execute_result"
    }
   ],
   "source": [
    "df1.columns"
   ]
  },
  {
   "cell_type": "markdown",
   "metadata": {},
   "source": [
    "Validamos si hay valores nulos"
   ]
  },
  {
   "cell_type": "code",
   "execution_count": 150,
   "metadata": {},
   "outputs": [
    {
     "data": {
      "text/plain": [
       "category                                0\n",
       "model                                   0\n",
       "model_year                            288\n",
       "manufacturer                            0\n",
       "fuel                                    0\n",
       "all_electric_range                    660\n",
       "PHEV_total_range                      839\n",
       "alternative_fuel_economy_city         713\n",
       "alternative_fuel_economy_highway      713\n",
       "alternative_fuel_economy_combined     620\n",
       "conventional_fuel_economy_city        438\n",
       "conventional_fuel_economy_highway     438\n",
       "conventional_fuel_economy_combined    438\n",
       "dtype: int64"
      ]
     },
     "execution_count": 150,
     "metadata": {},
     "output_type": "execute_result"
    }
   ],
   "source": [
    "df1.isna().sum()"
   ]
  },
  {
   "cell_type": "markdown",
   "metadata": {},
   "source": [
    "Hay valores nulos pero se opta por noi borrarlos ya que me afectaria otras columnas que si tienen valor para el analisis"
   ]
  },
  {
   "cell_type": "markdown",
   "metadata": {},
   "source": [
    "validamos valores duplicados"
   ]
  },
  {
   "cell_type": "code",
   "execution_count": 151,
   "metadata": {},
   "outputs": [
    {
     "data": {
      "text/plain": [
       "False    880\n",
       "True       2\n",
       "Name: count, dtype: int64"
      ]
     },
     "execution_count": 151,
     "metadata": {},
     "output_type": "execute_result"
    }
   ],
   "source": [
    "df1.duplicated().value_counts()"
   ]
  },
  {
   "cell_type": "markdown",
   "metadata": {},
   "source": [
    "hay 2  valores duplicados, se eliminan"
   ]
  },
  {
   "cell_type": "code",
   "execution_count": 152,
   "metadata": {},
   "outputs": [],
   "source": [
    "df1.drop_duplicates(inplace= True)"
   ]
  },
  {
   "cell_type": "markdown",
   "metadata": {},
   "source": [
    "### Analisis Descriptivo"
   ]
  },
  {
   "cell_type": "code",
   "execution_count": 153,
   "metadata": {},
   "outputs": [
    {
     "data": {
      "text/html": [
       "<div>\n",
       "<style scoped>\n",
       "    .dataframe tbody tr th:only-of-type {\n",
       "        vertical-align: middle;\n",
       "    }\n",
       "\n",
       "    .dataframe tbody tr th {\n",
       "        vertical-align: top;\n",
       "    }\n",
       "\n",
       "    .dataframe thead th {\n",
       "        text-align: right;\n",
       "    }\n",
       "</style>\n",
       "<table border=\"1\" class=\"dataframe\">\n",
       "  <thead>\n",
       "    <tr style=\"text-align: right;\">\n",
       "      <th></th>\n",
       "      <th>model_year</th>\n",
       "      <th>all_electric_range</th>\n",
       "      <th>PHEV_total_range</th>\n",
       "      <th>alternative_fuel_economy_city</th>\n",
       "      <th>alternative_fuel_economy_highway</th>\n",
       "      <th>alternative_fuel_economy_combined</th>\n",
       "      <th>conventional_fuel_economy_city</th>\n",
       "      <th>conventional_fuel_economy_highway</th>\n",
       "      <th>conventional_fuel_economy_combined</th>\n",
       "    </tr>\n",
       "  </thead>\n",
       "  <tbody>\n",
       "    <tr>\n",
       "      <th>count</th>\n",
       "      <td>593.0</td>\n",
       "      <td>222.000000</td>\n",
       "      <td>43.000000</td>\n",
       "      <td>169.000000</td>\n",
       "      <td>169.000000</td>\n",
       "      <td>262.000000</td>\n",
       "      <td>443.000000</td>\n",
       "      <td>443.000000</td>\n",
       "      <td>443.000000</td>\n",
       "    </tr>\n",
       "    <tr>\n",
       "      <th>mean</th>\n",
       "      <td>2021.539629</td>\n",
       "      <td>165.927928</td>\n",
       "      <td>450.465116</td>\n",
       "      <td>84.585799</td>\n",
       "      <td>77.591716</td>\n",
       "      <td>75.992366</td>\n",
       "      <td>25.907449</td>\n",
       "      <td>30.085779</td>\n",
       "      <td>27.264108</td>\n",
       "    </tr>\n",
       "    <tr>\n",
       "      <th>std</th>\n",
       "      <td>0.498848</td>\n",
       "      <td>132.992955</td>\n",
       "      <td>93.042578</td>\n",
       "      <td>39.430696</td>\n",
       "      <td>32.735123</td>\n",
       "      <td>32.303279</td>\n",
       "      <td>10.872066</td>\n",
       "      <td>12.830142</td>\n",
       "      <td>9.814812</td>\n",
       "    </tr>\n",
       "    <tr>\n",
       "      <th>min</th>\n",
       "      <td>2021.0</td>\n",
       "      <td>8.000000</td>\n",
       "      <td>290.000000</td>\n",
       "      <td>10.000000</td>\n",
       "      <td>12.000000</td>\n",
       "      <td>11.000000</td>\n",
       "      <td>13.000000</td>\n",
       "      <td>16.000000</td>\n",
       "      <td>15.000000</td>\n",
       "    </tr>\n",
       "    <tr>\n",
       "      <th>25%</th>\n",
       "      <td>2021.0</td>\n",
       "      <td>23.000000</td>\n",
       "      <td>380.000000</td>\n",
       "      <td>71.000000</td>\n",
       "      <td>66.000000</td>\n",
       "      <td>56.000000</td>\n",
       "      <td>19.000000</td>\n",
       "      <td>24.000000</td>\n",
       "      <td>21.000000</td>\n",
       "    </tr>\n",
       "    <tr>\n",
       "      <th>50%</th>\n",
       "      <td>2022.0</td>\n",
       "      <td>203.000000</td>\n",
       "      <td>460.000000</td>\n",
       "      <td>94.000000</td>\n",
       "      <td>85.000000</td>\n",
       "      <td>76.000000</td>\n",
       "      <td>22.000000</td>\n",
       "      <td>28.000000</td>\n",
       "      <td>24.000000</td>\n",
       "    </tr>\n",
       "    <tr>\n",
       "      <th>75%</th>\n",
       "      <td>2022.0</td>\n",
       "      <td>260.000000</td>\n",
       "      <td>520.000000</td>\n",
       "      <td>115.000000</td>\n",
       "      <td>99.000000</td>\n",
       "      <td>101.000000</td>\n",
       "      <td>28.000000</td>\n",
       "      <td>33.000000</td>\n",
       "      <td>30.000000</td>\n",
       "    </tr>\n",
       "    <tr>\n",
       "      <th>max</th>\n",
       "      <td>2022.0</td>\n",
       "      <td>520.000000</td>\n",
       "      <td>640.000000</td>\n",
       "      <td>150.000000</td>\n",
       "      <td>133.000000</td>\n",
       "      <td>142.000000</td>\n",
       "      <td>59.000000</td>\n",
       "      <td>231.000000</td>\n",
       "      <td>59.000000</td>\n",
       "    </tr>\n",
       "  </tbody>\n",
       "</table>\n",
       "</div>"
      ],
      "text/plain": [
       "        model_year  all_electric_range  PHEV_total_range  \\\n",
       "count        593.0          222.000000         43.000000   \n",
       "mean   2021.539629          165.927928        450.465116   \n",
       "std       0.498848          132.992955         93.042578   \n",
       "min         2021.0            8.000000        290.000000   \n",
       "25%         2021.0           23.000000        380.000000   \n",
       "50%         2022.0          203.000000        460.000000   \n",
       "75%         2022.0          260.000000        520.000000   \n",
       "max         2022.0          520.000000        640.000000   \n",
       "\n",
       "       alternative_fuel_economy_city  alternative_fuel_economy_highway  \\\n",
       "count                     169.000000                        169.000000   \n",
       "mean                       84.585799                         77.591716   \n",
       "std                        39.430696                         32.735123   \n",
       "min                        10.000000                         12.000000   \n",
       "25%                        71.000000                         66.000000   \n",
       "50%                        94.000000                         85.000000   \n",
       "75%                       115.000000                         99.000000   \n",
       "max                       150.000000                        133.000000   \n",
       "\n",
       "       alternative_fuel_economy_combined  conventional_fuel_economy_city  \\\n",
       "count                         262.000000                      443.000000   \n",
       "mean                           75.992366                       25.907449   \n",
       "std                            32.303279                       10.872066   \n",
       "min                            11.000000                       13.000000   \n",
       "25%                            56.000000                       19.000000   \n",
       "50%                            76.000000                       22.000000   \n",
       "75%                           101.000000                       28.000000   \n",
       "max                           142.000000                       59.000000   \n",
       "\n",
       "       conventional_fuel_economy_highway  conventional_fuel_economy_combined  \n",
       "count                         443.000000                          443.000000  \n",
       "mean                           30.085779                           27.264108  \n",
       "std                            12.830142                            9.814812  \n",
       "min                            16.000000                           15.000000  \n",
       "25%                            24.000000                           21.000000  \n",
       "50%                            28.000000                           24.000000  \n",
       "75%                            33.000000                           30.000000  \n",
       "max                           231.000000                           59.000000  "
      ]
     },
     "execution_count": 153,
     "metadata": {},
     "output_type": "execute_result"
    }
   ],
   "source": [
    "df1.describe()"
   ]
  },
  {
   "cell_type": "markdown",
   "metadata": {},
   "source": [
    "Se quiere conformar un dataset con las categorias de vehiculos que pueden ser utilizados en la flota y su rendimiento."
   ]
  },
  {
   "cell_type": "markdown",
   "metadata": {},
   "source": [
    "* La media de autonomia de un vehiculo 100% electrico es de 166 millas.\n",
    "* La media de autonomia de un vehiculo hibrido enchufable es de 450 millas. \n",
    "* La media de autonomia de un vehiculo convencional de combustible es de 443 millas. "
   ]
  },
  {
   "cell_type": "markdown",
   "metadata": {},
   "source": [
    "Verificamos que categorias pueden ser usadas en el modelo de negocio"
   ]
  },
  {
   "cell_type": "code",
   "execution_count": 154,
   "metadata": {},
   "outputs": [
    {
     "data": {
      "text/plain": [
       "category\n",
       "Sedan/Wagon                      282\n",
       "SUV                              222\n",
       "Pickup                            79\n",
       "Transit Bus                       76\n",
       "Vocational/Cab Chassis            68\n",
       "Passenger Van/Shuttle Bus         46\n",
       "Van                               23\n",
       "Street Sweeper                    21\n",
       "School Bus                        21\n",
       "Refuse                            16\n",
       "Tractor                           15\n",
       "Step Van                           5\n",
       "TractorVocational/Cab Chassis      4\n",
       "Vocational/Cab ChassisVan          1\n",
       "Vocational/Cab ChassisTractor      1\n",
       "Name: count, dtype: int64"
      ]
     },
     "execution_count": 154,
     "metadata": {},
     "output_type": "execute_result"
    }
   ],
   "source": [
    "df1['category'].value_counts()"
   ]
  },
  {
   "cell_type": "markdown",
   "metadata": {},
   "source": [
    "Por tamaño de cantidad de pasajeros solo las categorias : 'Sedan' y 'Suv' son operativas para el negocio\n",
    "creamos el nuevo dataset"
   ]
  },
  {
   "cell_type": "code",
   "execution_count": 155,
   "metadata": {},
   "outputs": [
    {
     "data": {
      "text/html": [
       "<div>\n",
       "<style scoped>\n",
       "    .dataframe tbody tr th:only-of-type {\n",
       "        vertical-align: middle;\n",
       "    }\n",
       "\n",
       "    .dataframe tbody tr th {\n",
       "        vertical-align: top;\n",
       "    }\n",
       "\n",
       "    .dataframe thead th {\n",
       "        text-align: right;\n",
       "    }\n",
       "</style>\n",
       "<table border=\"1\" class=\"dataframe\">\n",
       "  <thead>\n",
       "    <tr style=\"text-align: right;\">\n",
       "      <th></th>\n",
       "      <th>category</th>\n",
       "      <th>model</th>\n",
       "      <th>model_year</th>\n",
       "      <th>manufacturer</th>\n",
       "      <th>fuel</th>\n",
       "      <th>all_electric_range</th>\n",
       "      <th>PHEV_total_range</th>\n",
       "      <th>alternative_fuel_economy_city</th>\n",
       "      <th>alternative_fuel_economy_highway</th>\n",
       "      <th>alternative_fuel_economy_combined</th>\n",
       "      <th>conventional_fuel_economy_city</th>\n",
       "      <th>conventional_fuel_economy_highway</th>\n",
       "      <th>conventional_fuel_economy_combined</th>\n",
       "    </tr>\n",
       "  </thead>\n",
       "  <tbody>\n",
       "    <tr>\n",
       "      <th>0</th>\n",
       "      <td>Sedan/Wagon</td>\n",
       "      <td>NSX</td>\n",
       "      <td>2022</td>\n",
       "      <td>Acura</td>\n",
       "      <td>Hybrid Electric</td>\n",
       "      <td>NaN</td>\n",
       "      <td>NaN</td>\n",
       "      <td>NaN</td>\n",
       "      <td>NaN</td>\n",
       "      <td>NaN</td>\n",
       "      <td>21.0</td>\n",
       "      <td>22.0</td>\n",
       "      <td>21.0</td>\n",
       "    </tr>\n",
       "    <tr>\n",
       "      <th>1</th>\n",
       "      <td>Sedan/Wagon</td>\n",
       "      <td>A3</td>\n",
       "      <td>2022</td>\n",
       "      <td>Audi</td>\n",
       "      <td>Hybrid Electric</td>\n",
       "      <td>NaN</td>\n",
       "      <td>NaN</td>\n",
       "      <td>NaN</td>\n",
       "      <td>NaN</td>\n",
       "      <td>NaN</td>\n",
       "      <td>29.0</td>\n",
       "      <td>38.0</td>\n",
       "      <td>32.0</td>\n",
       "    </tr>\n",
       "    <tr>\n",
       "      <th>2</th>\n",
       "      <td>Sedan/Wagon</td>\n",
       "      <td>A3 quattro</td>\n",
       "      <td>2022</td>\n",
       "      <td>Audi</td>\n",
       "      <td>Hybrid Electric</td>\n",
       "      <td>NaN</td>\n",
       "      <td>NaN</td>\n",
       "      <td>NaN</td>\n",
       "      <td>NaN</td>\n",
       "      <td>NaN</td>\n",
       "      <td>28.0</td>\n",
       "      <td>36.0</td>\n",
       "      <td>31.0</td>\n",
       "    </tr>\n",
       "    <tr>\n",
       "      <th>3</th>\n",
       "      <td>Sedan/Wagon</td>\n",
       "      <td>A4 allroad quattro</td>\n",
       "      <td>2022</td>\n",
       "      <td>Audi</td>\n",
       "      <td>Hybrid Electric</td>\n",
       "      <td>NaN</td>\n",
       "      <td>NaN</td>\n",
       "      <td>NaN</td>\n",
       "      <td>NaN</td>\n",
       "      <td>NaN</td>\n",
       "      <td>24.0</td>\n",
       "      <td>30.0</td>\n",
       "      <td>26.0</td>\n",
       "    </tr>\n",
       "    <tr>\n",
       "      <th>4</th>\n",
       "      <td>Sedan/Wagon</td>\n",
       "      <td>A4 quattro</td>\n",
       "      <td>2022</td>\n",
       "      <td>Audi</td>\n",
       "      <td>Hybrid Electric</td>\n",
       "      <td>NaN</td>\n",
       "      <td>NaN</td>\n",
       "      <td>NaN</td>\n",
       "      <td>NaN</td>\n",
       "      <td>NaN</td>\n",
       "      <td>26.0</td>\n",
       "      <td>34.0</td>\n",
       "      <td>29.0</td>\n",
       "    </tr>\n",
       "  </tbody>\n",
       "</table>\n",
       "</div>"
      ],
      "text/plain": [
       "      category               model  model_year manufacturer             fuel  \\\n",
       "0  Sedan/Wagon                 NSX        2022        Acura  Hybrid Electric   \n",
       "1  Sedan/Wagon                 A3         2022         Audi  Hybrid Electric   \n",
       "2  Sedan/Wagon          A3 quattro        2022         Audi  Hybrid Electric   \n",
       "3  Sedan/Wagon  A4 allroad quattro        2022         Audi  Hybrid Electric   \n",
       "4  Sedan/Wagon          A4 quattro        2022         Audi  Hybrid Electric   \n",
       "\n",
       "   all_electric_range  PHEV_total_range  alternative_fuel_economy_city  \\\n",
       "0                 NaN               NaN                            NaN   \n",
       "1                 NaN               NaN                            NaN   \n",
       "2                 NaN               NaN                            NaN   \n",
       "3                 NaN               NaN                            NaN   \n",
       "4                 NaN               NaN                            NaN   \n",
       "\n",
       "   alternative_fuel_economy_highway  alternative_fuel_economy_combined  \\\n",
       "0                               NaN                                NaN   \n",
       "1                               NaN                                NaN   \n",
       "2                               NaN                                NaN   \n",
       "3                               NaN                                NaN   \n",
       "4                               NaN                                NaN   \n",
       "\n",
       "   conventional_fuel_economy_city  conventional_fuel_economy_highway  \\\n",
       "0                            21.0                               22.0   \n",
       "1                            29.0                               38.0   \n",
       "2                            28.0                               36.0   \n",
       "3                            24.0                               30.0   \n",
       "4                            26.0                               34.0   \n",
       "\n",
       "   conventional_fuel_economy_combined  \n",
       "0                                21.0  \n",
       "1                                32.0  \n",
       "2                                31.0  \n",
       "3                                26.0  \n",
       "4                                29.0  "
      ]
     },
     "execution_count": 155,
     "metadata": {},
     "output_type": "execute_result"
    }
   ],
   "source": [
    "df_categorias = df1.loc[df1['category'].isin(['Sedan/Wagon', 'SUV'])]\n",
    "df_categorias.head()"
   ]
  },
  {
   "cell_type": "code",
   "execution_count": 156,
   "metadata": {},
   "outputs": [
    {
     "data": {
      "text/plain": [
       "fuel\n",
       "Hybrid Electric            254\n",
       "Electric                   125\n",
       "Plug-in Hybrid Electric     91\n",
       "Biodiesel (B20)             22\n",
       "Hydrogen Fuel Cell          10\n",
       "Ethanol (E85)                2\n",
       "Name: count, dtype: int64"
      ]
     },
     "execution_count": 156,
     "metadata": {},
     "output_type": "execute_result"
    }
   ],
   "source": [
    "df_categorias['fuel'].value_counts()"
   ]
  },
  {
   "cell_type": "markdown",
   "metadata": {},
   "source": [
    "Grafico de barras 'Rendimiento en millas por categoria de vehículo'"
   ]
  },
  {
   "cell_type": "code",
   "execution_count": 157,
   "metadata": {},
   "outputs": [
    {
     "data": {
      "text/plain": [
       "Text(0.5, 0, 'Categoria')"
      ]
     },
     "execution_count": 157,
     "metadata": {},
     "output_type": "execute_result"
    },
    {
     "data": {
      "image/png": "[encoded data removed]",
      "text/plain": [
       "<Figure size 640x480 with 1 Axes>"
      ]
     },
     "metadata": {},
     "output_type": "display_data"
    }
   ],
   "source": [
    "sns.barplot(x = df_categorias['category'] , y = df_categorias['all_electric_range'])\n",
    "plt.title('Rendimiento en millas por categoria de vehículo 100% electrico')\n",
    "plt.ylabel(ylabel='Rendimiento en millas')\n",
    "plt.xlabel(xlabel='Categoria')\n",
    "\n"
   ]
  },
  {
   "cell_type": "markdown",
   "metadata": {},
   "source": [
    "Se observa que un Sedan o suv 100% electrico tiene autonomia casi igual"
   ]
  },
  {
   "cell_type": "code",
   "execution_count": 158,
   "metadata": {},
   "outputs": [
    {
     "data": {
      "text/plain": [
       "Text(0.5, 0, 'Categoria')"
      ]
     },
     "execution_count": 158,
     "metadata": {},
     "output_type": "execute_result"
    },
    {
     "data": {
      "image/png": "[encoded data removed]",
      "text/plain": [
       "<Figure size 640x480 with 1 Axes>"
      ]
     },
     "metadata": {},
     "output_type": "display_data"
    }
   ],
   "source": [
    "sns.barplot(x = df_categorias['category'] , y = df_categorias['PHEV_total_range'])\n",
    "plt.title('Rendimiento en millas por categoria de vehículo hibrido enchufable')\n",
    "plt.ylabel(ylabel='Rendimiento en millas')\n",
    "plt.xlabel(xlabel='Categoria')"
   ]
  },
  {
   "cell_type": "markdown",
   "metadata": {},
   "source": [
    "Ambas categorias tienen una autonomia aproximada de 450 millas"
   ]
  },
  {
   "cell_type": "code",
   "execution_count": 159,
   "metadata": {},
   "outputs": [
    {
     "data": {
      "text/plain": [
       "Text(0.5, 0, 'Categoria')"
      ]
     },
     "execution_count": 159,
     "metadata": {},
     "output_type": "execute_result"
    },
    {
     "data": {
      "image/png": "[encoded data removed]",
      "text/plain": [
       "<Figure size 640x480 with 1 Axes>"
      ]
     },
     "metadata": {},
     "output_type": "display_data"
    }
   ],
   "source": [
    "\t\n",
    "sns.barplot(x = df_categorias['category'] , y = df_categorias['conventional_fuel_economy_city'])\n",
    "plt.title('Rendimiento en millas por categoria de vehículo a combustible fosil')\n",
    "plt.ylabel(ylabel='Rendimiento en millas')\n",
    "plt.xlabel(xlabel='Categoria')"
   ]
  },
  {
   "cell_type": "markdown",
   "metadata": {},
   "source": [
    "El sedan tiene mejor autonomia obviamente por caracteristicas particulares."
   ]
  },
  {
   "cell_type": "markdown",
   "metadata": {},
   "source": [
    "### Verificamos Outliers"
   ]
  },
  {
   "cell_type": "code",
   "execution_count": 172,
   "metadata": {},
   "outputs": [
    {
     "data": {
      "text/plain": [
       "Text(0, 0.5, 'Rendimiento en millas ')"
      ]
     },
     "execution_count": 172,
     "metadata": {},
     "output_type": "execute_result"
    },
    {
     "data": {
      "image/png": "[encoded data removed]",
      "text/plain": [
       "<Figure size 1500x800 with 3 Axes>"
      ]
     },
     "metadata": {},
     "output_type": "display_data"
    }
   ],
   "source": [
    "# Se hace el grafico de caja de bigotes\n",
    "fig, axes = plt.subplots(nrows=1, ncols=3, figsize=(15, 8))\n",
    "sns.boxplot(x = df_categorias.category, y = df_categorias.all_electric_range, ax=axes[0])\n",
    "plt.suptitle('Diagrama de cajas y bigotes del rendimiento en millas de los vehiculos')\n",
    "axes[0].set_title('vehiculos 100% electricos')\n",
    "axes[0].set_xlabel('Categoria')\n",
    "axes[0].set_ylabel('Rendimiento en millas ')\n",
    "\n",
    "sns.boxplot(x = df_categorias.category, y = df_categorias.PHEV_total_range, ax=axes[1])\n",
    "axes[1].set_title('Vehiculos hibridos enchufables')\n",
    "axes[1].set_xlabel('Categoria')\n",
    "axes[1].set_ylabel('Rendimiento en millas')\n",
    "\n",
    "sns.boxplot(x = df_categorias.category, y = df_categorias.conventional_fuel_economy_combined, ax=axes[2])\n",
    "axes[2].set_title('Vehiculos de combustible fosil')\n",
    "axes[2].set_xlabel('Categoria')\n",
    "axes[2].set_ylabel('Rendimiento en millas ')\n",
    "\n",
    "\n",
    "\n"
   ]
  },
  {
   "cell_type": "code",
   "execution_count": 161,
   "metadata": {},
   "outputs": [
    {
     "data": {
      "text/html": [
       "<div>\n",
       "<style scoped>\n",
       "    .dataframe tbody tr th:only-of-type {\n",
       "        vertical-align: middle;\n",
       "    }\n",
       "\n",
       "    .dataframe tbody tr th {\n",
       "        vertical-align: top;\n",
       "    }\n",
       "\n",
       "    .dataframe thead th {\n",
       "        text-align: right;\n",
       "    }\n",
       "</style>\n",
       "<table border=\"1\" class=\"dataframe\">\n",
       "  <thead>\n",
       "    <tr style=\"text-align: right;\">\n",
       "      <th></th>\n",
       "      <th>category</th>\n",
       "      <th>model</th>\n",
       "      <th>model_year</th>\n",
       "      <th>manufacturer</th>\n",
       "      <th>fuel</th>\n",
       "      <th>all_electric_range</th>\n",
       "      <th>PHEV_total_range</th>\n",
       "      <th>alternative_fuel_economy_city</th>\n",
       "      <th>alternative_fuel_economy_highway</th>\n",
       "      <th>alternative_fuel_economy_combined</th>\n",
       "      <th>conventional_fuel_economy_city</th>\n",
       "      <th>conventional_fuel_economy_highway</th>\n",
       "      <th>conventional_fuel_economy_combined</th>\n",
       "    </tr>\n",
       "  </thead>\n",
       "  <tbody>\n",
       "    <tr>\n",
       "      <th>0</th>\n",
       "      <td>Sedan/Wagon</td>\n",
       "      <td>NSX</td>\n",
       "      <td>2022</td>\n",
       "      <td>Acura</td>\n",
       "      <td>Hybrid Electric</td>\n",
       "      <td>NaN</td>\n",
       "      <td>NaN</td>\n",
       "      <td>NaN</td>\n",
       "      <td>NaN</td>\n",
       "      <td>NaN</td>\n",
       "      <td>21.0</td>\n",
       "      <td>22.0</td>\n",
       "      <td>21.0</td>\n",
       "    </tr>\n",
       "  </tbody>\n",
       "</table>\n",
       "</div>"
      ],
      "text/plain": [
       "      category model  model_year manufacturer             fuel  \\\n",
       "0  Sedan/Wagon   NSX        2022        Acura  Hybrid Electric   \n",
       "\n",
       "   all_electric_range  PHEV_total_range  alternative_fuel_economy_city  \\\n",
       "0                 NaN               NaN                            NaN   \n",
       "\n",
       "   alternative_fuel_economy_highway  alternative_fuel_economy_combined  \\\n",
       "0                               NaN                                NaN   \n",
       "\n",
       "   conventional_fuel_economy_city  conventional_fuel_economy_highway  \\\n",
       "0                            21.0                               22.0   \n",
       "\n",
       "   conventional_fuel_economy_combined  \n",
       "0                                21.0  "
      ]
     },
     "execution_count": 161,
     "metadata": {},
     "output_type": "execute_result"
    }
   ],
   "source": [
    "df_categorias.head(1)"
   ]
  },
  {
   "cell_type": "markdown",
   "metadata": {},
   "source": [
    "Se observan valores atipicos para los vehiculos a combustion de fosiles"
   ]
  },
  {
   "cell_type": "code",
   "execution_count": 169,
   "metadata": {},
   "outputs": [
    {
     "data": {
      "text/html": [
       "<div>\n",
       "<style scoped>\n",
       "    .dataframe tbody tr th:only-of-type {\n",
       "        vertical-align: middle;\n",
       "    }\n",
       "\n",
       "    .dataframe tbody tr th {\n",
       "        vertical-align: top;\n",
       "    }\n",
       "\n",
       "    .dataframe thead th {\n",
       "        text-align: right;\n",
       "    }\n",
       "</style>\n",
       "<table border=\"1\" class=\"dataframe\">\n",
       "  <thead>\n",
       "    <tr style=\"text-align: right;\">\n",
       "      <th></th>\n",
       "      <th>category</th>\n",
       "      <th>model</th>\n",
       "      <th>model_year</th>\n",
       "      <th>manufacturer</th>\n",
       "      <th>fuel</th>\n",
       "      <th>all_electric_range</th>\n",
       "      <th>PHEV_total_range</th>\n",
       "      <th>alternative_fuel_economy_city</th>\n",
       "      <th>alternative_fuel_economy_highway</th>\n",
       "      <th>alternative_fuel_economy_combined</th>\n",
       "      <th>conventional_fuel_economy_city</th>\n",
       "      <th>conventional_fuel_economy_highway</th>\n",
       "      <th>conventional_fuel_economy_combined</th>\n",
       "    </tr>\n",
       "  </thead>\n",
       "  <tbody>\n",
       "    <tr>\n",
       "      <th>90</th>\n",
       "      <td>SUV</td>\n",
       "      <td>Escape FWD PHEV</td>\n",
       "      <td>2022</td>\n",
       "      <td>Ford</td>\n",
       "      <td>Plug-in Hybrid Electric</td>\n",
       "      <td>37.0</td>\n",
       "      <td>520.0</td>\n",
       "      <td>NaN</td>\n",
       "      <td>NaN</td>\n",
       "      <td>105.0</td>\n",
       "      <td>43.0</td>\n",
       "      <td>38.0</td>\n",
       "      <td>41.0</td>\n",
       "    </tr>\n",
       "    <tr>\n",
       "      <th>134</th>\n",
       "      <td>SUV</td>\n",
       "      <td>CR-V AWD</td>\n",
       "      <td>2022</td>\n",
       "      <td>Honda</td>\n",
       "      <td>Hybrid Electric</td>\n",
       "      <td>NaN</td>\n",
       "      <td>NaN</td>\n",
       "      <td>NaN</td>\n",
       "      <td>NaN</td>\n",
       "      <td>NaN</td>\n",
       "      <td>40.0</td>\n",
       "      <td>35.0</td>\n",
       "      <td>38.0</td>\n",
       "    </tr>\n",
       "    <tr>\n",
       "      <th>174</th>\n",
       "      <td>SUV</td>\n",
       "      <td>Sorento Hybrid FWD</td>\n",
       "      <td>2022</td>\n",
       "      <td>Kia</td>\n",
       "      <td>Hybrid Electric</td>\n",
       "      <td>NaN</td>\n",
       "      <td>NaN</td>\n",
       "      <td>NaN</td>\n",
       "      <td>NaN</td>\n",
       "      <td>NaN</td>\n",
       "      <td>39.0</td>\n",
       "      <td>35.0</td>\n",
       "      <td>37.0</td>\n",
       "    </tr>\n",
       "    <tr>\n",
       "      <th>194</th>\n",
       "      <td>SUV</td>\n",
       "      <td>NX 350h AWD</td>\n",
       "      <td>2022</td>\n",
       "      <td>Lexus</td>\n",
       "      <td>Hybrid Electric</td>\n",
       "      <td>NaN</td>\n",
       "      <td>NaN</td>\n",
       "      <td>NaN</td>\n",
       "      <td>NaN</td>\n",
       "      <td>NaN</td>\n",
       "      <td>41.0</td>\n",
       "      <td>37.0</td>\n",
       "      <td>39.0</td>\n",
       "    </tr>\n",
       "    <tr>\n",
       "      <th>297</th>\n",
       "      <td>SUV</td>\n",
       "      <td>RAV4 Hybrid AWD</td>\n",
       "      <td>2022</td>\n",
       "      <td>Toyota</td>\n",
       "      <td>Hybrid Electric</td>\n",
       "      <td>NaN</td>\n",
       "      <td>NaN</td>\n",
       "      <td>NaN</td>\n",
       "      <td>NaN</td>\n",
       "      <td>NaN</td>\n",
       "      <td>41.0</td>\n",
       "      <td>38.0</td>\n",
       "      <td>40.0</td>\n",
       "    </tr>\n",
       "    <tr>\n",
       "      <th>303</th>\n",
       "      <td>SUV</td>\n",
       "      <td>Venza AWD</td>\n",
       "      <td>2022</td>\n",
       "      <td>Toyota</td>\n",
       "      <td>Hybrid Electric</td>\n",
       "      <td>NaN</td>\n",
       "      <td>NaN</td>\n",
       "      <td>NaN</td>\n",
       "      <td>NaN</td>\n",
       "      <td>NaN</td>\n",
       "      <td>40.0</td>\n",
       "      <td>37.0</td>\n",
       "      <td>39.0</td>\n",
       "    </tr>\n",
       "    <tr>\n",
       "      <th>390</th>\n",
       "      <td>SUV</td>\n",
       "      <td>Escape FWD PHEV</td>\n",
       "      <td>2021</td>\n",
       "      <td>Ford</td>\n",
       "      <td>Plug-in Hybrid Electric</td>\n",
       "      <td>37.0</td>\n",
       "      <td>NaN</td>\n",
       "      <td>NaN</td>\n",
       "      <td>NaN</td>\n",
       "      <td>105.0</td>\n",
       "      <td>43.0</td>\n",
       "      <td>38.0</td>\n",
       "      <td>40.0</td>\n",
       "    </tr>\n",
       "    <tr>\n",
       "      <th>438</th>\n",
       "      <td>SUV</td>\n",
       "      <td>CR-V AWD</td>\n",
       "      <td>2021</td>\n",
       "      <td>Honda</td>\n",
       "      <td>Hybrid Electric</td>\n",
       "      <td>NaN</td>\n",
       "      <td>NaN</td>\n",
       "      <td>NaN</td>\n",
       "      <td>NaN</td>\n",
       "      <td>NaN</td>\n",
       "      <td>40.0</td>\n",
       "      <td>35.0</td>\n",
       "      <td>38.0</td>\n",
       "    </tr>\n",
       "    <tr>\n",
       "      <th>469</th>\n",
       "      <td>SUV</td>\n",
       "      <td>Sorento Hybrid</td>\n",
       "      <td>2021</td>\n",
       "      <td>Kia</td>\n",
       "      <td>Hybrid Electric</td>\n",
       "      <td>NaN</td>\n",
       "      <td>NaN</td>\n",
       "      <td>NaN</td>\n",
       "      <td>NaN</td>\n",
       "      <td>NaN</td>\n",
       "      <td>39.0</td>\n",
       "      <td>35.0</td>\n",
       "      <td>37.0</td>\n",
       "    </tr>\n",
       "    <tr>\n",
       "      <th>578</th>\n",
       "      <td>SUV</td>\n",
       "      <td>RAV4 Hybrid AWD</td>\n",
       "      <td>2021</td>\n",
       "      <td>Toyota</td>\n",
       "      <td>Hybrid Electric</td>\n",
       "      <td>NaN</td>\n",
       "      <td>NaN</td>\n",
       "      <td>NaN</td>\n",
       "      <td>NaN</td>\n",
       "      <td>NaN</td>\n",
       "      <td>41.0</td>\n",
       "      <td>38.0</td>\n",
       "      <td>40.0</td>\n",
       "    </tr>\n",
       "    <tr>\n",
       "      <th>582</th>\n",
       "      <td>SUV</td>\n",
       "      <td>Venza AWD</td>\n",
       "      <td>2021</td>\n",
       "      <td>Toyota</td>\n",
       "      <td>Hybrid Electric</td>\n",
       "      <td>NaN</td>\n",
       "      <td>NaN</td>\n",
       "      <td>NaN</td>\n",
       "      <td>NaN</td>\n",
       "      <td>NaN</td>\n",
       "      <td>40.0</td>\n",
       "      <td>37.0</td>\n",
       "      <td>39.0</td>\n",
       "    </tr>\n",
       "  </tbody>\n",
       "</table>\n",
       "</div>"
      ],
      "text/plain": [
       "    category               model  model_year manufacturer  \\\n",
       "90       SUV     Escape FWD PHEV        2022         Ford   \n",
       "134      SUV            CR-V AWD        2022        Honda   \n",
       "174      SUV  Sorento Hybrid FWD        2022          Kia   \n",
       "194      SUV         NX 350h AWD        2022        Lexus   \n",
       "297      SUV     RAV4 Hybrid AWD        2022       Toyota   \n",
       "303      SUV           Venza AWD        2022       Toyota   \n",
       "390      SUV     Escape FWD PHEV        2021         Ford   \n",
       "438      SUV            CR-V AWD        2021        Honda   \n",
       "469      SUV      Sorento Hybrid        2021          Kia   \n",
       "578      SUV     RAV4 Hybrid AWD        2021       Toyota   \n",
       "582      SUV           Venza AWD        2021       Toyota   \n",
       "\n",
       "                        fuel  all_electric_range  PHEV_total_range  \\\n",
       "90   Plug-in Hybrid Electric                37.0             520.0   \n",
       "134          Hybrid Electric                 NaN               NaN   \n",
       "174          Hybrid Electric                 NaN               NaN   \n",
       "194          Hybrid Electric                 NaN               NaN   \n",
       "297          Hybrid Electric                 NaN               NaN   \n",
       "303          Hybrid Electric                 NaN               NaN   \n",
       "390  Plug-in Hybrid Electric                37.0               NaN   \n",
       "438          Hybrid Electric                 NaN               NaN   \n",
       "469          Hybrid Electric                 NaN               NaN   \n",
       "578          Hybrid Electric                 NaN               NaN   \n",
       "582          Hybrid Electric                 NaN               NaN   \n",
       "\n",
       "     alternative_fuel_economy_city  alternative_fuel_economy_highway  \\\n",
       "90                             NaN                               NaN   \n",
       "134                            NaN                               NaN   \n",
       "174                            NaN                               NaN   \n",
       "194                            NaN                               NaN   \n",
       "297                            NaN                               NaN   \n",
       "303                            NaN                               NaN   \n",
       "390                            NaN                               NaN   \n",
       "438                            NaN                               NaN   \n",
       "469                            NaN                               NaN   \n",
       "578                            NaN                               NaN   \n",
       "582                            NaN                               NaN   \n",
       "\n",
       "     alternative_fuel_economy_combined  conventional_fuel_economy_city  \\\n",
       "90                               105.0                            43.0   \n",
       "134                                NaN                            40.0   \n",
       "174                                NaN                            39.0   \n",
       "194                                NaN                            41.0   \n",
       "297                                NaN                            41.0   \n",
       "303                                NaN                            40.0   \n",
       "390                              105.0                            43.0   \n",
       "438                                NaN                            40.0   \n",
       "469                                NaN                            39.0   \n",
       "578                                NaN                            41.0   \n",
       "582                                NaN                            40.0   \n",
       "\n",
       "     conventional_fuel_economy_highway  conventional_fuel_economy_combined  \n",
       "90                                38.0                                41.0  \n",
       "134                               35.0                                38.0  \n",
       "174                               35.0                                37.0  \n",
       "194                               37.0                                39.0  \n",
       "297                               38.0                                40.0  \n",
       "303                               37.0                                39.0  \n",
       "390                               38.0                                40.0  \n",
       "438                               35.0                                38.0  \n",
       "469                               35.0                                37.0  \n",
       "578                               38.0                                40.0  \n",
       "582                               37.0                                39.0  "
      ]
     },
     "execution_count": 169,
     "metadata": {},
     "output_type": "execute_result"
    }
   ],
   "source": [
    "df_outliers = df_categorias[(df_categorias['category']== 'SUV') & (df_categorias['conventional_fuel_economy_combined'] >36)]\n",
    "df_outliers"
   ]
  },
  {
   "cell_type": "markdown",
   "metadata": {},
   "source": [
    "### Se calcula el gasto en dolares americanos de cada opcion de vehiculo para determinar si hay mucha diferencia"
   ]
  },
  {
   "cell_type": "markdown",
   "metadata": {},
   "source": [
    "Carro hibrido"
   ]
  },
  {
   "cell_type": "code",
   "execution_count": 163,
   "metadata": {},
   "outputs": [
    {
     "data": {
      "text/plain": [
       "56.459999999999994"
      ]
     },
     "execution_count": 163,
     "metadata": {},
     "output_type": "execute_result"
    }
   ],
   "source": [
    "# Automia de 450 km\n",
    "galones = 13.2\n",
    "valor_galon = 4.05\n",
    "cant_kwatts = 20\n",
    "valor_kwatts = 0.15\n",
    "gasto_hev = galones* valor_galon + cant_kwatts * valor_kwatts\n",
    "gasto_hev"
   ]
  },
  {
   "cell_type": "markdown",
   "metadata": {},
   "source": [
    "Carro 100 % electrico"
   ]
  },
  {
   "cell_type": "code",
   "execution_count": 164,
   "metadata": {},
   "outputs": [
    {
     "data": {
      "text/plain": [
       "67.5"
      ]
     },
     "execution_count": 164,
     "metadata": {},
     "output_type": "execute_result"
    }
   ],
   "source": [
    "# Automia de 450 km\n",
    "\n",
    "gasto_ev = valor_kwatts * 450\n",
    "gasto_ev"
   ]
  },
  {
   "cell_type": "markdown",
   "metadata": {},
   "source": [
    "Carro convencional a combustible"
   ]
  },
  {
   "cell_type": "code",
   "execution_count": 165,
   "metadata": {},
   "outputs": [
    {
     "data": {
      "text/plain": [
       "60.75"
      ]
     },
     "execution_count": 165,
     "metadata": {},
     "output_type": "execute_result"
    }
   ],
   "source": [
    "# para recorrer 450 millas es necesario 15 galones\n",
    "gasto_conv = valor_galon * 15\n",
    "gasto_conv"
   ]
  },
  {
   "cell_type": "markdown",
   "metadata": {},
   "source": [
    "Se esporta el dataset Procesado  la carpeta Datasets_procesados"
   ]
  },
  {
   "cell_type": "code",
   "execution_count": 166,
   "metadata": {},
   "outputs": [],
   "source": [
    "df1.to_csv(\"../Datasets_procesados/Alternative Fuel Vehicles US.csv\")"
   ]
  }
 ],
 "metadata": {
  "kernelspec": {
   "display_name": "Python 3",
   "language": "python",
   "name": "python3"
  },
  "language_info": {
   "codemirror_mode": {
    "name": "ipython",
    "version": 3
   },
   "file_extension": ".py",
   "mimetype": "text/x-python",
   "name": "python",
   "nbconvert_exporter": "python",
   "pygments_lexer": "ipython3",
   "version": "3.12.1"
  }
 },
 "nbformat": 4,
 "nbformat_minor": 2
}
