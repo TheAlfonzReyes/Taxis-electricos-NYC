{
 "cells": [
  {
   "cell_type": "code",
   "execution_count": 32,
   "metadata": {},
   "outputs": [],
   "source": [
    "import pandas as pd\n",
    "import seaborn as sns\n",
    "import matplotlib.pyplot as plt"
   ]
  },
  {
   "cell_type": "markdown",
   "metadata": {},
   "source": [
    "# Dataset Alternative Fuel Vehicles"
   ]
  },
  {
   "cell_type": "code",
   "execution_count": 33,
   "metadata": {},
   "outputs": [
    {
     "data": {
      "text/html": [
       "<div>\n",
       "<style scoped>\n",
       "    .dataframe tbody tr th:only-of-type {\n",
       "        vertical-align: middle;\n",
       "    }\n",
       "\n",
       "    .dataframe tbody tr th {\n",
       "        vertical-align: top;\n",
       "    }\n",
       "\n",
       "    .dataframe thead th {\n",
       "        text-align: right;\n",
       "    }\n",
       "</style>\n",
       "<table border=\"1\" class=\"dataframe\">\n",
       "  <thead>\n",
       "    <tr style=\"text-align: right;\">\n",
       "      <th></th>\n",
       "      <th>Unnamed: 0</th>\n",
       "      <th>Category</th>\n",
       "      <th>Model</th>\n",
       "      <th>Model Year</th>\n",
       "      <th>Manufacturer</th>\n",
       "      <th>Fuel</th>\n",
       "      <th>All-Electric Range</th>\n",
       "      <th>PHEV Total Range</th>\n",
       "      <th>Alternative Fuel Economy City</th>\n",
       "      <th>Alternative Fuel Economy Highway</th>\n",
       "      <th>Alternative Fuel Economy Combined</th>\n",
       "      <th>Conventional Fuel Economy City</th>\n",
       "      <th>Conventional Fuel Economy Highway</th>\n",
       "      <th>Conventional Fuel Economy Combined</th>\n",
       "      <th>Transmission Type</th>\n",
       "      <th>Transmission Make</th>\n",
       "      <th>Engine Type</th>\n",
       "      <th>Engine Size</th>\n",
       "      <th>Engine Cylinder Count</th>\n",
       "      <th>Number of Passengers</th>\n",
       "      <th>Heavy-Duty Power System</th>\n",
       "      <th>Notes</th>\n",
       "      <th>Drivetrain</th>\n",
       "    </tr>\n",
       "  </thead>\n",
       "  <tbody>\n",
       "    <tr>\n",
       "      <th>481</th>\n",
       "      <td>481</td>\n",
       "      <td>Sedan/Wagon</td>\n",
       "      <td>ES 300h</td>\n",
       "      <td>2021.0</td>\n",
       "      <td>Lexus</td>\n",
       "      <td>Hybrid Electric</td>\n",
       "      <td>NaN</td>\n",
       "      <td>NaN</td>\n",
       "      <td>NaN</td>\n",
       "      <td>NaN</td>\n",
       "      <td>NaN</td>\n",
       "      <td>43.0</td>\n",
       "      <td>44.0</td>\n",
       "      <td>44.0</td>\n",
       "      <td>Auto</td>\n",
       "      <td>NaN</td>\n",
       "      <td>SI</td>\n",
       "      <td>2.5L</td>\n",
       "      <td>4.0</td>\n",
       "      <td>NaN</td>\n",
       "      <td>NaN</td>\n",
       "      <td>NaN</td>\n",
       "      <td>NaN</td>\n",
       "    </tr>\n",
       "    <tr>\n",
       "      <th>735</th>\n",
       "      <td>735</td>\n",
       "      <td>Street Sweeper</td>\n",
       "      <td>M4 Hybrid</td>\n",
       "      <td>NaN</td>\n",
       "      <td>Global</td>\n",
       "      <td>Diesel/Hybrid Electric</td>\n",
       "      <td>NaN</td>\n",
       "      <td>NaN</td>\n",
       "      <td>NaN</td>\n",
       "      <td>NaN</td>\n",
       "      <td>NaN</td>\n",
       "      <td>NaN</td>\n",
       "      <td>NaN</td>\n",
       "      <td>NaN</td>\n",
       "      <td>NaN</td>\n",
       "      <td>Global</td>\n",
       "      <td>NaN</td>\n",
       "      <td>NaN</td>\n",
       "      <td>NaN</td>\n",
       "      <td>NaN</td>\n",
       "      <td>Cummins ISB6.7</td>\n",
       "      <td>NaN</td>\n",
       "      <td>NaN</td>\n",
       "    </tr>\n",
       "    <tr>\n",
       "      <th>567</th>\n",
       "      <td>567</td>\n",
       "      <td>Sedan/Wagon</td>\n",
       "      <td>Camry Hybrid SE/XLE/XSE</td>\n",
       "      <td>2021.0</td>\n",
       "      <td>Toyota</td>\n",
       "      <td>Hybrid Electric</td>\n",
       "      <td>NaN</td>\n",
       "      <td>NaN</td>\n",
       "      <td>NaN</td>\n",
       "      <td>NaN</td>\n",
       "      <td>NaN</td>\n",
       "      <td>44.0</td>\n",
       "      <td>47.0</td>\n",
       "      <td>46.0</td>\n",
       "      <td>Auto</td>\n",
       "      <td>NaN</td>\n",
       "      <td>SI</td>\n",
       "      <td>2.5L</td>\n",
       "      <td>4.0</td>\n",
       "      <td>NaN</td>\n",
       "      <td>NaN</td>\n",
       "      <td>NaN</td>\n",
       "      <td>NaN</td>\n",
       "    </tr>\n",
       "    <tr>\n",
       "      <th>338</th>\n",
       "      <td>338</td>\n",
       "      <td>SUV</td>\n",
       "      <td>Q5</td>\n",
       "      <td>2021.0</td>\n",
       "      <td>Audi</td>\n",
       "      <td>Hybrid Electric</td>\n",
       "      <td>NaN</td>\n",
       "      <td>NaN</td>\n",
       "      <td>NaN</td>\n",
       "      <td>NaN</td>\n",
       "      <td>NaN</td>\n",
       "      <td>23.0</td>\n",
       "      <td>28.0</td>\n",
       "      <td>25.0</td>\n",
       "      <td>Auto</td>\n",
       "      <td>NaN</td>\n",
       "      <td>SI</td>\n",
       "      <td>2.0L</td>\n",
       "      <td>4.0</td>\n",
       "      <td>NaN</td>\n",
       "      <td>NaN</td>\n",
       "      <td>NaN</td>\n",
       "      <td>NaN</td>\n",
       "    </tr>\n",
       "    <tr>\n",
       "      <th>319</th>\n",
       "      <td>319</td>\n",
       "      <td>SUV</td>\n",
       "      <td>XC90 T8 AWD Recharge ext. Range</td>\n",
       "      <td>2022.0</td>\n",
       "      <td>Volvo</td>\n",
       "      <td>Plug-in Hybrid Electric</td>\n",
       "      <td>36.0</td>\n",
       "      <td>530.0</td>\n",
       "      <td>NaN</td>\n",
       "      <td>NaN</td>\n",
       "      <td>66.0</td>\n",
       "      <td>25.0</td>\n",
       "      <td>27.0</td>\n",
       "      <td>26.0</td>\n",
       "      <td>Auto</td>\n",
       "      <td>NaN</td>\n",
       "      <td>SI</td>\n",
       "      <td>2.0L</td>\n",
       "      <td>4.0</td>\n",
       "      <td>NaN</td>\n",
       "      <td>NaN</td>\n",
       "      <td>NaN</td>\n",
       "      <td>AWD</td>\n",
       "    </tr>\n",
       "  </tbody>\n",
       "</table>\n",
       "</div>"
      ],
      "text/plain": [
       "     Unnamed: 0        Category                            Model  Model Year  \\\n",
       "481         481     Sedan/Wagon                          ES 300h      2021.0   \n",
       "735         735  Street Sweeper                        M4 Hybrid         NaN   \n",
       "567         567     Sedan/Wagon          Camry Hybrid SE/XLE/XSE      2021.0   \n",
       "338         338             SUV                               Q5      2021.0   \n",
       "319         319             SUV  XC90 T8 AWD Recharge ext. Range      2022.0   \n",
       "\n",
       "    Manufacturer                     Fuel  All-Electric Range  \\\n",
       "481        Lexus          Hybrid Electric                 NaN   \n",
       "735       Global   Diesel/Hybrid Electric                 NaN   \n",
       "567       Toyota          Hybrid Electric                 NaN   \n",
       "338         Audi          Hybrid Electric                 NaN   \n",
       "319        Volvo  Plug-in Hybrid Electric                36.0   \n",
       "\n",
       "     PHEV Total Range  Alternative Fuel Economy City  \\\n",
       "481               NaN                            NaN   \n",
       "735               NaN                            NaN   \n",
       "567               NaN                            NaN   \n",
       "338               NaN                            NaN   \n",
       "319             530.0                            NaN   \n",
       "\n",
       "     Alternative Fuel Economy Highway  Alternative Fuel Economy Combined  \\\n",
       "481                               NaN                                NaN   \n",
       "735                               NaN                                NaN   \n",
       "567                               NaN                                NaN   \n",
       "338                               NaN                                NaN   \n",
       "319                               NaN                               66.0   \n",
       "\n",
       "     Conventional Fuel Economy City  Conventional Fuel Economy Highway  \\\n",
       "481                            43.0                               44.0   \n",
       "735                             NaN                                NaN   \n",
       "567                            44.0                               47.0   \n",
       "338                            23.0                               28.0   \n",
       "319                            25.0                               27.0   \n",
       "\n",
       "     Conventional Fuel Economy Combined Transmission Type Transmission Make  \\\n",
       "481                                44.0              Auto               NaN   \n",
       "735                                 NaN               NaN            Global   \n",
       "567                                46.0              Auto               NaN   \n",
       "338                                25.0              Auto               NaN   \n",
       "319                                26.0              Auto               NaN   \n",
       "\n",
       "    Engine Type Engine Size  Engine Cylinder Count Number of Passengers  \\\n",
       "481          SI        2.5L                    4.0                  NaN   \n",
       "735         NaN         NaN                    NaN                  NaN   \n",
       "567          SI        2.5L                    4.0                  NaN   \n",
       "338          SI        2.0L                    4.0                  NaN   \n",
       "319          SI        2.0L                    4.0                  NaN   \n",
       "\n",
       "    Heavy-Duty Power System Notes Drivetrain  \n",
       "481                     NaN   NaN        NaN  \n",
       "735          Cummins ISB6.7   NaN        NaN  \n",
       "567                     NaN   NaN        NaN  \n",
       "338                     NaN   NaN        NaN  \n",
       "319                     NaN   NaN        AWD  "
      ]
     },
     "execution_count": 33,
     "metadata": {},
     "output_type": "execute_result"
    }
   ],
   "source": [
    "df1= pd.read_csv(\"../Datasets/Alternative Fuel Vehicles US.csv\")\n",
    "pd.set_option('display.max_columns', None)\n",
    "df1.sample(5)"
   ]
  },
  {
   "cell_type": "markdown",
   "metadata": {},
   "source": [
    "### Se eliminan columnas inncesarias"
   ]
  },
  {
   "cell_type": "code",
   "execution_count": 34,
   "metadata": {},
   "outputs": [],
   "source": [
    "df1 = df1.drop(columns={'Transmission Type', 'Transmission Make', 'Number of Passengers','Engine Type', 'Engine Size', 'Engine Cylinder Count',\n",
    "                        'Heavy-Duty Power System', 'Notes', 'Drivetrain'})"
   ]
  },
  {
   "cell_type": "markdown",
   "metadata": {},
   "source": [
    "Se normalizan los nombres de cada columna"
   ]
  },
  {
   "cell_type": "code",
   "execution_count": 35,
   "metadata": {},
   "outputs": [
    {
     "data": {
      "text/plain": [
       "Index(['Unnamed: 0', 'Category', 'Model', 'Model Year', 'Manufacturer', 'Fuel',\n",
       "       'All-Electric Range', 'PHEV Total Range',\n",
       "       'Alternative Fuel Economy City', 'Alternative Fuel Economy Highway',\n",
       "       'Alternative Fuel Economy Combined', 'Conventional Fuel Economy City',\n",
       "       'Conventional Fuel Economy Highway',\n",
       "       'Conventional Fuel Economy Combined'],\n",
       "      dtype='object')"
      ]
     },
     "execution_count": 35,
     "metadata": {},
     "output_type": "execute_result"
    }
   ],
   "source": [
    "df1.columns"
   ]
  },
  {
   "cell_type": "markdown",
   "metadata": {},
   "source": [
    "Renombramos columnas"
   ]
  },
  {
   "cell_type": "code",
   "execution_count": 36,
   "metadata": {},
   "outputs": [],
   "source": [
    "df1.rename(columns={'Category':'category', 'Model': 'model', 'Model Year':'model_year', 'Manufacturer':'manufacturer'\n",
    "    , 'Fuel': 'fuel','All-Electric Range': 'all_electric_range', 'PHEV Total Range':'PHEV_total_range',\n",
    "       'Alternative Fuel Economy City': 'alternative_fuel_economy_city', 'Alternative Fuel Economy Highway':'alternative_fuel_economy_highway',\n",
    "       'Alternative Fuel Economy Combined': 'alternative_fuel_economy_combined', 'Conventional Fuel Economy City': 'conventional_fuel_economy_city',\n",
    "       'Conventional Fuel Economy Highway': 'conventional_fuel_economy_highway',\n",
    "       'Conventional Fuel Economy Combined': 'conventional_fuel_economy_combined'\n",
    "    }, inplace = True)"
   ]
  },
  {
   "cell_type": "markdown",
   "metadata": {},
   "source": [
    "### Se verifica el tipo de dato de cada columna"
   ]
  },
  {
   "cell_type": "code",
   "execution_count": 37,
   "metadata": {},
   "outputs": [
    {
     "name": "stdout",
     "output_type": "stream",
     "text": [
      "<class 'pandas.core.frame.DataFrame'>\n",
      "RangeIndex: 882 entries, 0 to 881\n",
      "Data columns (total 14 columns):\n",
      " #   Column                              Non-Null Count  Dtype  \n",
      "---  ------                              --------------  -----  \n",
      " 0   Unnamed: 0                          882 non-null    int64  \n",
      " 1   category                            882 non-null    object \n",
      " 2   model                               882 non-null    object \n",
      " 3   model_year                          594 non-null    float64\n",
      " 4   manufacturer                        882 non-null    object \n",
      " 5   fuel                                882 non-null    object \n",
      " 6   all_electric_range                  222 non-null    float64\n",
      " 7   PHEV_total_range                    43 non-null     float64\n",
      " 8   alternative_fuel_economy_city       169 non-null    float64\n",
      " 9   alternative_fuel_economy_highway    169 non-null    float64\n",
      " 10  alternative_fuel_economy_combined   262 non-null    float64\n",
      " 11  conventional_fuel_economy_city      444 non-null    float64\n",
      " 12  conventional_fuel_economy_highway   444 non-null    float64\n",
      " 13  conventional_fuel_economy_combined  444 non-null    float64\n",
      "dtypes: float64(9), int64(1), object(4)\n",
      "memory usage: 96.6+ KB\n"
     ]
    },
    {
     "data": {
      "text/plain": [
       "((882, 14), None)"
      ]
     },
     "execution_count": 37,
     "metadata": {},
     "output_type": "execute_result"
    }
   ],
   "source": [
    "df1.shape, df1.info()"
   ]
  },
  {
   "cell_type": "markdown",
   "metadata": {},
   "source": [
    "Tenemos 882 filas y 13 columnas"
   ]
  },
  {
   "cell_type": "markdown",
   "metadata": {},
   "source": [
    "Se modifica el tipo de dato de 'Model Year' a entero"
   ]
  },
  {
   "cell_type": "code",
   "execution_count": 38,
   "metadata": {},
   "outputs": [],
   "source": [
    "df1['model_year'] = df1['model_year'].astype('Int64')"
   ]
  },
  {
   "cell_type": "code",
   "execution_count": 39,
   "metadata": {},
   "outputs": [
    {
     "data": {
      "text/plain": [
       "Index(['Unnamed: 0', 'category', 'model', 'model_year', 'manufacturer', 'fuel',\n",
       "       'all_electric_range', 'PHEV_total_range',\n",
       "       'alternative_fuel_economy_city', 'alternative_fuel_economy_highway',\n",
       "       'alternative_fuel_economy_combined', 'conventional_fuel_economy_city',\n",
       "       'conventional_fuel_economy_highway',\n",
       "       'conventional_fuel_economy_combined'],\n",
       "      dtype='object')"
      ]
     },
     "execution_count": 39,
     "metadata": {},
     "output_type": "execute_result"
    }
   ],
   "source": [
    "df1.columns"
   ]
  },
  {
   "cell_type": "markdown",
   "metadata": {},
   "source": [
    "Validamos si hay valores nulos"
   ]
  },
  {
   "cell_type": "code",
   "execution_count": 40,
   "metadata": {},
   "outputs": [
    {
     "data": {
      "text/plain": [
       "Unnamed: 0                              0\n",
       "category                                0\n",
       "model                                   0\n",
       "model_year                            288\n",
       "manufacturer                            0\n",
       "fuel                                    0\n",
       "all_electric_range                    660\n",
       "PHEV_total_range                      839\n",
       "alternative_fuel_economy_city         713\n",
       "alternative_fuel_economy_highway      713\n",
       "alternative_fuel_economy_combined     620\n",
       "conventional_fuel_economy_city        438\n",
       "conventional_fuel_economy_highway     438\n",
       "conventional_fuel_economy_combined    438\n",
       "dtype: int64"
      ]
     },
     "execution_count": 40,
     "metadata": {},
     "output_type": "execute_result"
    }
   ],
   "source": [
    "df1.isna().sum()"
   ]
  },
  {
   "cell_type": "markdown",
   "metadata": {},
   "source": [
    "Hay valores nulos pero se opta por noi borrarlos ya que me afectaria otras columnas que si tienen valor para el analisis"
   ]
  },
  {
   "cell_type": "markdown",
   "metadata": {},
   "source": [
    "validamos valores duplicados"
   ]
  },
  {
   "cell_type": "code",
   "execution_count": 41,
   "metadata": {},
   "outputs": [
    {
     "data": {
      "text/plain": [
       "False    882\n",
       "Name: count, dtype: int64"
      ]
     },
     "execution_count": 41,
     "metadata": {},
     "output_type": "execute_result"
    }
   ],
   "source": [
    "df1.duplicated().value_counts()"
   ]
  },
  {
   "cell_type": "markdown",
   "metadata": {},
   "source": [
    "hay 2  valores duplicados, se eliminan"
   ]
  },
  {
   "cell_type": "code",
   "execution_count": 42,
   "metadata": {},
   "outputs": [],
   "source": [
    "df1.drop_duplicates(inplace= True)"
   ]
  },
  {
   "cell_type": "markdown",
   "metadata": {},
   "source": [
    "### Analisis Descriptivo"
   ]
  },
  {
   "cell_type": "code",
   "execution_count": 43,
   "metadata": {},
   "outputs": [
    {
     "data": {
      "text/html": [
       "<div>\n",
       "<style scoped>\n",
       "    .dataframe tbody tr th:only-of-type {\n",
       "        vertical-align: middle;\n",
       "    }\n",
       "\n",
       "    .dataframe tbody tr th {\n",
       "        vertical-align: top;\n",
       "    }\n",
       "\n",
       "    .dataframe thead th {\n",
       "        text-align: right;\n",
       "    }\n",
       "</style>\n",
       "<table border=\"1\" class=\"dataframe\">\n",
       "  <thead>\n",
       "    <tr style=\"text-align: right;\">\n",
       "      <th></th>\n",
       "      <th>Unnamed: 0</th>\n",
       "      <th>model_year</th>\n",
       "      <th>all_electric_range</th>\n",
       "      <th>PHEV_total_range</th>\n",
       "      <th>alternative_fuel_economy_city</th>\n",
       "      <th>alternative_fuel_economy_highway</th>\n",
       "      <th>alternative_fuel_economy_combined</th>\n",
       "      <th>conventional_fuel_economy_city</th>\n",
       "      <th>conventional_fuel_economy_highway</th>\n",
       "      <th>conventional_fuel_economy_combined</th>\n",
       "    </tr>\n",
       "  </thead>\n",
       "  <tbody>\n",
       "    <tr>\n",
       "      <th>count</th>\n",
       "      <td>882.000000</td>\n",
       "      <td>594.0</td>\n",
       "      <td>222.000000</td>\n",
       "      <td>43.000000</td>\n",
       "      <td>169.000000</td>\n",
       "      <td>169.000000</td>\n",
       "      <td>262.000000</td>\n",
       "      <td>444.000000</td>\n",
       "      <td>444.000000</td>\n",
       "      <td>444.000000</td>\n",
       "    </tr>\n",
       "    <tr>\n",
       "      <th>mean</th>\n",
       "      <td>440.500000</td>\n",
       "      <td>2021.538721</td>\n",
       "      <td>165.927928</td>\n",
       "      <td>450.465116</td>\n",
       "      <td>84.585799</td>\n",
       "      <td>77.591716</td>\n",
       "      <td>75.992366</td>\n",
       "      <td>25.900901</td>\n",
       "      <td>30.085586</td>\n",
       "      <td>27.261261</td>\n",
       "    </tr>\n",
       "    <tr>\n",
       "      <th>std</th>\n",
       "      <td>254.755765</td>\n",
       "      <td>0.498919</td>\n",
       "      <td>132.992955</td>\n",
       "      <td>93.042578</td>\n",
       "      <td>39.430696</td>\n",
       "      <td>32.735123</td>\n",
       "      <td>32.303279</td>\n",
       "      <td>10.860665</td>\n",
       "      <td>12.815653</td>\n",
       "      <td>9.803912</td>\n",
       "    </tr>\n",
       "    <tr>\n",
       "      <th>min</th>\n",
       "      <td>0.000000</td>\n",
       "      <td>2021.0</td>\n",
       "      <td>8.000000</td>\n",
       "      <td>290.000000</td>\n",
       "      <td>10.000000</td>\n",
       "      <td>12.000000</td>\n",
       "      <td>11.000000</td>\n",
       "      <td>13.000000</td>\n",
       "      <td>16.000000</td>\n",
       "      <td>15.000000</td>\n",
       "    </tr>\n",
       "    <tr>\n",
       "      <th>25%</th>\n",
       "      <td>220.250000</td>\n",
       "      <td>2021.0</td>\n",
       "      <td>23.000000</td>\n",
       "      <td>380.000000</td>\n",
       "      <td>71.000000</td>\n",
       "      <td>66.000000</td>\n",
       "      <td>56.000000</td>\n",
       "      <td>19.000000</td>\n",
       "      <td>24.000000</td>\n",
       "      <td>21.000000</td>\n",
       "    </tr>\n",
       "    <tr>\n",
       "      <th>50%</th>\n",
       "      <td>440.500000</td>\n",
       "      <td>2022.0</td>\n",
       "      <td>203.000000</td>\n",
       "      <td>460.000000</td>\n",
       "      <td>94.000000</td>\n",
       "      <td>85.000000</td>\n",
       "      <td>76.000000</td>\n",
       "      <td>22.000000</td>\n",
       "      <td>28.000000</td>\n",
       "      <td>24.000000</td>\n",
       "    </tr>\n",
       "    <tr>\n",
       "      <th>75%</th>\n",
       "      <td>660.750000</td>\n",
       "      <td>2022.0</td>\n",
       "      <td>260.000000</td>\n",
       "      <td>520.000000</td>\n",
       "      <td>115.000000</td>\n",
       "      <td>99.000000</td>\n",
       "      <td>101.000000</td>\n",
       "      <td>28.000000</td>\n",
       "      <td>33.000000</td>\n",
       "      <td>30.000000</td>\n",
       "    </tr>\n",
       "    <tr>\n",
       "      <th>max</th>\n",
       "      <td>881.000000</td>\n",
       "      <td>2022.0</td>\n",
       "      <td>520.000000</td>\n",
       "      <td>640.000000</td>\n",
       "      <td>150.000000</td>\n",
       "      <td>133.000000</td>\n",
       "      <td>142.000000</td>\n",
       "      <td>59.000000</td>\n",
       "      <td>231.000000</td>\n",
       "      <td>59.000000</td>\n",
       "    </tr>\n",
       "  </tbody>\n",
       "</table>\n",
       "</div>"
      ],
      "text/plain": [
       "       Unnamed: 0   model_year  all_electric_range  PHEV_total_range  \\\n",
       "count  882.000000        594.0          222.000000         43.000000   \n",
       "mean   440.500000  2021.538721          165.927928        450.465116   \n",
       "std    254.755765     0.498919          132.992955         93.042578   \n",
       "min      0.000000       2021.0            8.000000        290.000000   \n",
       "25%    220.250000       2021.0           23.000000        380.000000   \n",
       "50%    440.500000       2022.0          203.000000        460.000000   \n",
       "75%    660.750000       2022.0          260.000000        520.000000   \n",
       "max    881.000000       2022.0          520.000000        640.000000   \n",
       "\n",
       "       alternative_fuel_economy_city  alternative_fuel_economy_highway  \\\n",
       "count                     169.000000                        169.000000   \n",
       "mean                       84.585799                         77.591716   \n",
       "std                        39.430696                         32.735123   \n",
       "min                        10.000000                         12.000000   \n",
       "25%                        71.000000                         66.000000   \n",
       "50%                        94.000000                         85.000000   \n",
       "75%                       115.000000                         99.000000   \n",
       "max                       150.000000                        133.000000   \n",
       "\n",
       "       alternative_fuel_economy_combined  conventional_fuel_economy_city  \\\n",
       "count                         262.000000                      444.000000   \n",
       "mean                           75.992366                       25.900901   \n",
       "std                            32.303279                       10.860665   \n",
       "min                            11.000000                       13.000000   \n",
       "25%                            56.000000                       19.000000   \n",
       "50%                            76.000000                       22.000000   \n",
       "75%                           101.000000                       28.000000   \n",
       "max                           142.000000                       59.000000   \n",
       "\n",
       "       conventional_fuel_economy_highway  conventional_fuel_economy_combined  \n",
       "count                         444.000000                          444.000000  \n",
       "mean                           30.085586                           27.261261  \n",
       "std                            12.815653                            9.803912  \n",
       "min                            16.000000                           15.000000  \n",
       "25%                            24.000000                           21.000000  \n",
       "50%                            28.000000                           24.000000  \n",
       "75%                            33.000000                           30.000000  \n",
       "max                           231.000000                           59.000000  "
      ]
     },
     "execution_count": 43,
     "metadata": {},
     "output_type": "execute_result"
    }
   ],
   "source": [
    "df1.describe()"
   ]
  },
  {
   "cell_type": "markdown",
   "metadata": {},
   "source": [
    "Se quiere conformar un dataset con las categorias de vehiculos que pueden ser utilizados en la flota y su rendimiento."
   ]
  },
  {
   "cell_type": "markdown",
   "metadata": {},
   "source": [
    "* La media de autonomia de un vehiculo 100% electrico es de 166 millas.\n",
    "* La media de autonomia de un vehiculo hibrido enchufable es de 450 millas. \n",
    "* La media de autonomia de un vehiculo convencional de combustible es de 443 millas. "
   ]
  },
  {
   "cell_type": "markdown",
   "metadata": {},
   "source": [
    "Verificamos que categorias pueden ser usadas en el modelo de negocio"
   ]
  },
  {
   "cell_type": "code",
   "execution_count": 44,
   "metadata": {},
   "outputs": [
    {
     "data": {
      "text/plain": [
       "category\n",
       "Sedan/Wagon                      283\n",
       "SUV                              222\n",
       "Pickup                            79\n",
       "Transit Bus                       77\n",
       "Vocational/Cab Chassis            68\n",
       "Passenger Van/Shuttle Bus         46\n",
       "Van                               23\n",
       "Street Sweeper                    21\n",
       "School Bus                        21\n",
       "Refuse                            16\n",
       "Tractor                           15\n",
       "Step Van                           5\n",
       "TractorVocational/Cab Chassis      4\n",
       "Vocational/Cab ChassisVan          1\n",
       "Vocational/Cab ChassisTractor      1\n",
       "Name: count, dtype: int64"
      ]
     },
     "execution_count": 44,
     "metadata": {},
     "output_type": "execute_result"
    }
   ],
   "source": [
    "df1['category'].value_counts()"
   ]
  },
  {
   "cell_type": "markdown",
   "metadata": {},
   "source": [
    "Por tamaño de cantidad de pasajeros solo las categorias : 'Sedan' y 'Suv' son operativas para el negocio\n",
    "creamos el nuevo dataset"
   ]
  },
  {
   "cell_type": "code",
   "execution_count": 45,
   "metadata": {},
   "outputs": [
    {
     "data": {
      "text/html": [
       "<div>\n",
       "<style scoped>\n",
       "    .dataframe tbody tr th:only-of-type {\n",
       "        vertical-align: middle;\n",
       "    }\n",
       "\n",
       "    .dataframe tbody tr th {\n",
       "        vertical-align: top;\n",
       "    }\n",
       "\n",
       "    .dataframe thead th {\n",
       "        text-align: right;\n",
       "    }\n",
       "</style>\n",
       "<table border=\"1\" class=\"dataframe\">\n",
       "  <thead>\n",
       "    <tr style=\"text-align: right;\">\n",
       "      <th></th>\n",
       "      <th>Unnamed: 0</th>\n",
       "      <th>category</th>\n",
       "      <th>model</th>\n",
       "      <th>model_year</th>\n",
       "      <th>manufacturer</th>\n",
       "      <th>fuel</th>\n",
       "      <th>all_electric_range</th>\n",
       "      <th>PHEV_total_range</th>\n",
       "      <th>alternative_fuel_economy_city</th>\n",
       "      <th>alternative_fuel_economy_highway</th>\n",
       "      <th>alternative_fuel_economy_combined</th>\n",
       "      <th>conventional_fuel_economy_city</th>\n",
       "      <th>conventional_fuel_economy_highway</th>\n",
       "      <th>conventional_fuel_economy_combined</th>\n",
       "    </tr>\n",
       "  </thead>\n",
       "  <tbody>\n",
       "    <tr>\n",
       "      <th>0</th>\n",
       "      <td>0</td>\n",
       "      <td>Sedan/Wagon</td>\n",
       "      <td>NSX</td>\n",
       "      <td>2022</td>\n",
       "      <td>Acura</td>\n",
       "      <td>Hybrid Electric</td>\n",
       "      <td>NaN</td>\n",
       "      <td>NaN</td>\n",
       "      <td>NaN</td>\n",
       "      <td>NaN</td>\n",
       "      <td>NaN</td>\n",
       "      <td>21.0</td>\n",
       "      <td>22.0</td>\n",
       "      <td>21.0</td>\n",
       "    </tr>\n",
       "    <tr>\n",
       "      <th>1</th>\n",
       "      <td>1</td>\n",
       "      <td>Sedan/Wagon</td>\n",
       "      <td>A3</td>\n",
       "      <td>2022</td>\n",
       "      <td>Audi</td>\n",
       "      <td>Hybrid Electric</td>\n",
       "      <td>NaN</td>\n",
       "      <td>NaN</td>\n",
       "      <td>NaN</td>\n",
       "      <td>NaN</td>\n",
       "      <td>NaN</td>\n",
       "      <td>29.0</td>\n",
       "      <td>38.0</td>\n",
       "      <td>32.0</td>\n",
       "    </tr>\n",
       "    <tr>\n",
       "      <th>2</th>\n",
       "      <td>2</td>\n",
       "      <td>Sedan/Wagon</td>\n",
       "      <td>A3 quattro</td>\n",
       "      <td>2022</td>\n",
       "      <td>Audi</td>\n",
       "      <td>Hybrid Electric</td>\n",
       "      <td>NaN</td>\n",
       "      <td>NaN</td>\n",
       "      <td>NaN</td>\n",
       "      <td>NaN</td>\n",
       "      <td>NaN</td>\n",
       "      <td>28.0</td>\n",
       "      <td>36.0</td>\n",
       "      <td>31.0</td>\n",
       "    </tr>\n",
       "    <tr>\n",
       "      <th>3</th>\n",
       "      <td>3</td>\n",
       "      <td>Sedan/Wagon</td>\n",
       "      <td>A4 allroad quattro</td>\n",
       "      <td>2022</td>\n",
       "      <td>Audi</td>\n",
       "      <td>Hybrid Electric</td>\n",
       "      <td>NaN</td>\n",
       "      <td>NaN</td>\n",
       "      <td>NaN</td>\n",
       "      <td>NaN</td>\n",
       "      <td>NaN</td>\n",
       "      <td>24.0</td>\n",
       "      <td>30.0</td>\n",
       "      <td>26.0</td>\n",
       "    </tr>\n",
       "    <tr>\n",
       "      <th>4</th>\n",
       "      <td>4</td>\n",
       "      <td>Sedan/Wagon</td>\n",
       "      <td>A4 quattro</td>\n",
       "      <td>2022</td>\n",
       "      <td>Audi</td>\n",
       "      <td>Hybrid Electric</td>\n",
       "      <td>NaN</td>\n",
       "      <td>NaN</td>\n",
       "      <td>NaN</td>\n",
       "      <td>NaN</td>\n",
       "      <td>NaN</td>\n",
       "      <td>26.0</td>\n",
       "      <td>34.0</td>\n",
       "      <td>29.0</td>\n",
       "    </tr>\n",
       "  </tbody>\n",
       "</table>\n",
       "</div>"
      ],
      "text/plain": [
       "   Unnamed: 0     category               model  model_year manufacturer  \\\n",
       "0           0  Sedan/Wagon                 NSX        2022        Acura   \n",
       "1           1  Sedan/Wagon                 A3         2022         Audi   \n",
       "2           2  Sedan/Wagon          A3 quattro        2022         Audi   \n",
       "3           3  Sedan/Wagon  A4 allroad quattro        2022         Audi   \n",
       "4           4  Sedan/Wagon          A4 quattro        2022         Audi   \n",
       "\n",
       "              fuel  all_electric_range  PHEV_total_range  \\\n",
       "0  Hybrid Electric                 NaN               NaN   \n",
       "1  Hybrid Electric                 NaN               NaN   \n",
       "2  Hybrid Electric                 NaN               NaN   \n",
       "3  Hybrid Electric                 NaN               NaN   \n",
       "4  Hybrid Electric                 NaN               NaN   \n",
       "\n",
       "   alternative_fuel_economy_city  alternative_fuel_economy_highway  \\\n",
       "0                            NaN                               NaN   \n",
       "1                            NaN                               NaN   \n",
       "2                            NaN                               NaN   \n",
       "3                            NaN                               NaN   \n",
       "4                            NaN                               NaN   \n",
       "\n",
       "   alternative_fuel_economy_combined  conventional_fuel_economy_city  \\\n",
       "0                                NaN                            21.0   \n",
       "1                                NaN                            29.0   \n",
       "2                                NaN                            28.0   \n",
       "3                                NaN                            24.0   \n",
       "4                                NaN                            26.0   \n",
       "\n",
       "   conventional_fuel_economy_highway  conventional_fuel_economy_combined  \n",
       "0                               22.0                                21.0  \n",
       "1                               38.0                                32.0  \n",
       "2                               36.0                                31.0  \n",
       "3                               30.0                                26.0  \n",
       "4                               34.0                                29.0  "
      ]
     },
     "execution_count": 45,
     "metadata": {},
     "output_type": "execute_result"
    }
   ],
   "source": [
    "df_categorias = df1.loc[df1['category'].isin(['Sedan/Wagon', 'SUV'])]\n",
    "df_categorias.head()"
   ]
  },
  {
   "cell_type": "code",
   "execution_count": 46,
   "metadata": {},
   "outputs": [
    {
     "data": {
      "text/plain": [
       "fuel\n",
       "Hybrid Electric            255\n",
       "Electric                   125\n",
       "Plug-in Hybrid Electric     91\n",
       "Biodiesel (B20)             22\n",
       "Hydrogen Fuel Cell          10\n",
       "Ethanol (E85)                2\n",
       "Name: count, dtype: int64"
      ]
     },
     "execution_count": 46,
     "metadata": {},
     "output_type": "execute_result"
    }
   ],
   "source": [
    "df_categorias['fuel'].value_counts()"
   ]
  },
  {
   "cell_type": "markdown",
   "metadata": {},
   "source": [
    "Grafico de barras 'Rendimiento en millas por categoria de vehículo'"
   ]
  },
  {
   "cell_type": "code",
   "execution_count": 47,
   "metadata": {},
   "outputs": [
    {
     "data": {
      "text/plain": [
       "Text(0.5, 0, 'Categoria')"
      ]
     },
     "execution_count": 47,
     "metadata": {},
     "output_type": "execute_result"
    },
    {
     "data": {
      "image/png": "[encoded data removed]",
      "text/plain": [
       "<Figure size 640x480 with 1 Axes>"
      ]
     },
     "metadata": {},
     "output_type": "display_data"
    }
   ],
   "source": [
    "sns.barplot(x = df_categorias['category'] , y = df_categorias['all_electric_range'])\n",
    "plt.title('Rendimiento en millas por categoria de vehículo 100% electrico')\n",
    "plt.ylabel(ylabel='Rendimiento en millas')\n",
    "plt.xlabel(xlabel='Categoria')\n",
    "\n"
   ]
  },
  {
   "cell_type": "markdown",
   "metadata": {},
   "source": [
    "Se observa que un Sedan o suv 100% electrico tiene autonomia casi igual"
   ]
  },
  {
   "cell_type": "code",
   "execution_count": 48,
   "metadata": {},
   "outputs": [
    {
     "data": {
      "text/plain": [
       "Text(0.5, 0, 'Categoria')"
      ]
     },
     "execution_count": 48,
     "metadata": {},
     "output_type": "execute_result"
    },
    {
     "data": {
      "image/png": "[encoded data removed]",
      "text/plain": [
       "<Figure size 640x480 with 1 Axes>"
      ]
     },
     "metadata": {},
     "output_type": "display_data"
    }
   ],
   "source": [
    "sns.barplot(x = df_categorias['category'] , y = df_categorias['PHEV_total_range'])\n",
    "plt.title('Rendimiento en millas por categoria de vehículo hibrido enchufable')\n",
    "plt.ylabel(ylabel='Rendimiento en millas')\n",
    "plt.xlabel(xlabel='Categoria')"
   ]
  },
  {
   "cell_type": "markdown",
   "metadata": {},
   "source": [
    "Ambas categorias tienen una autonomia aproximada de 450 millas"
   ]
  },
  {
   "cell_type": "code",
   "execution_count": 49,
   "metadata": {},
   "outputs": [
    {
     "data": {
      "text/plain": [
       "Text(0.5, 0, 'Categoria')"
      ]
     },
     "execution_count": 49,
     "metadata": {},
     "output_type": "execute_result"
    },
    {
     "data": {
      "image/png": "[encoded data removed]",
      "text/plain": [
       "<Figure size 640x480 with 1 Axes>"
      ]
     },
     "metadata": {},
     "output_type": "display_data"
    }
   ],
   "source": [
    "\t\n",
    "sns.barplot(x = df_categorias['category'] , y = df_categorias['conventional_fuel_economy_city'])\n",
    "plt.title('Rendimiento en millas por categoria de vehículo a combustible fosil')\n",
    "plt.ylabel(ylabel='Rendimiento en millas')\n",
    "plt.xlabel(xlabel='Categoria')"
   ]
  },
  {
   "cell_type": "markdown",
   "metadata": {},
   "source": [
    "El sedan tiene mejor autonomia obviamente por caracteristicas particulares."
   ]
  },
  {
   "cell_type": "markdown",
   "metadata": {},
   "source": [
    "### Se calcula el gasto en dolares americanos de cada opcion de vehiculo para determinar si hay mucha diferencia"
   ]
  },
  {
   "cell_type": "markdown",
   "metadata": {},
   "source": [
    "Carro hibrido"
   ]
  },
  {
   "cell_type": "code",
   "execution_count": 50,
   "metadata": {},
   "outputs": [
    {
     "data": {
      "text/plain": [
       "56.459999999999994"
      ]
     },
     "execution_count": 50,
     "metadata": {},
     "output_type": "execute_result"
    }
   ],
   "source": [
    "# Automia de 450 km\n",
    "galones = 13.2\n",
    "valor_galon = 4.05\n",
    "cant_kwatts = 20\n",
    "valor_kwatts = 0.15\n",
    "gasto_hev = galones* valor_galon + cant_kwatts * valor_kwatts\n",
    "gasto_hev"
   ]
  },
  {
   "cell_type": "markdown",
   "metadata": {},
   "source": [
    "Carro 100 % electrico"
   ]
  },
  {
   "cell_type": "code",
   "execution_count": 51,
   "metadata": {},
   "outputs": [
    {
     "data": {
      "text/plain": [
       "67.5"
      ]
     },
     "execution_count": 51,
     "metadata": {},
     "output_type": "execute_result"
    }
   ],
   "source": [
    "# Automia de 450 km\n",
    "\n",
    "gasto_ev = valor_kwatts * 450\n",
    "gasto_ev"
   ]
  },
  {
   "cell_type": "markdown",
   "metadata": {},
   "source": [
    "Carro convencional a combustible"
   ]
  },
  {
   "cell_type": "code",
   "execution_count": 52,
   "metadata": {},
   "outputs": [
    {
     "data": {
      "text/plain": [
       "60.75"
      ]
     },
     "execution_count": 52,
     "metadata": {},
     "output_type": "execute_result"
    }
   ],
   "source": [
    "# para recorrer 450 millas es necesario 15 galones\n",
    "gasto_conv = valor_galon * 15\n",
    "gasto_conv"
   ]
  },
  {
   "cell_type": "markdown",
   "metadata": {},
   "source": [
    "Se esporta el dataset Procesado  la carpeta Datasets_procesados"
   ]
  },
  {
   "cell_type": "code",
   "execution_count": 53,
   "metadata": {},
   "outputs": [],
   "source": [
    "df1.to_csv(\"../Datasets_procesados/Alternative Fuel Vehicles US.csv\")"
   ]
  }
 ],
 "metadata": {
  "kernelspec": {
   "display_name": "Python 3",
   "language": "python",
   "name": "python3"
  },
  "language_info": {
   "codemirror_mode": {
    "name": "ipython",
    "version": 3
   },
   "file_extension": ".py",
   "mimetype": "text/x-python",
   "name": "python",
   "nbconvert_exporter": "python",
   "pygments_lexer": "ipython3",
   "version": "3.12.1"
  }
 },
 "nbformat": 4,
 "nbformat_minor": 2
}
