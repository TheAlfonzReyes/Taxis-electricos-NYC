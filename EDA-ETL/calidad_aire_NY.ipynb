{
 "cells": [
  {
   "cell_type": "code",
   "execution_count": 58,
   "metadata": {},
   "outputs": [],
   "source": [
    "import pandas as pd"
   ]
  },
  {
   "cell_type": "code",
   "execution_count": 59,
   "metadata": {},
   "outputs": [
    {
     "data": {
      "text/html": [
       "<div>\n",
       "<style scoped>\n",
       "    .dataframe tbody tr th:only-of-type {\n",
       "        vertical-align: middle;\n",
       "    }\n",
       "\n",
       "    .dataframe tbody tr th {\n",
       "        vertical-align: top;\n",
       "    }\n",
       "\n",
       "    .dataframe thead th {\n",
       "        text-align: right;\n",
       "    }\n",
       "</style>\n",
       "<table border=\"1\" class=\"dataframe\">\n",
       "  <thead>\n",
       "    <tr style=\"text-align: right;\">\n",
       "      <th></th>\n",
       "      <th>Unique ID</th>\n",
       "      <th>Indicator ID</th>\n",
       "      <th>Name</th>\n",
       "      <th>Measure</th>\n",
       "      <th>Measure Info</th>\n",
       "      <th>Geo Type Name</th>\n",
       "      <th>Geo Join ID</th>\n",
       "      <th>Geo Place Name</th>\n",
       "      <th>Time Period</th>\n",
       "      <th>Start_Date</th>\n",
       "      <th>Data Value</th>\n",
       "      <th>Message</th>\n",
       "    </tr>\n",
       "  </thead>\n",
       "  <tbody>\n",
       "    <tr>\n",
       "      <th>0</th>\n",
       "      <td>172653</td>\n",
       "      <td>375.0</td>\n",
       "      <td>Nitrogen dioxide (NO2)</td>\n",
       "      <td>Mean</td>\n",
       "      <td>ppb</td>\n",
       "      <td>UHF34</td>\n",
       "      <td>203.0</td>\n",
       "      <td>Bedford Stuyvesant - Crown Heights</td>\n",
       "      <td>Annual Average 2011</td>\n",
       "      <td>12/01/2010</td>\n",
       "      <td>25.30</td>\n",
       "      <td>NaN</td>\n",
       "    </tr>\n",
       "    <tr>\n",
       "      <th>1</th>\n",
       "      <td>172585</td>\n",
       "      <td>375.0</td>\n",
       "      <td>Nitrogen dioxide (NO2)</td>\n",
       "      <td>Mean</td>\n",
       "      <td>ppb</td>\n",
       "      <td>UHF34</td>\n",
       "      <td>203.0</td>\n",
       "      <td>Bedford Stuyvesant - Crown Heights</td>\n",
       "      <td>Annual Average 2009</td>\n",
       "      <td>12/01/2008</td>\n",
       "      <td>26.93</td>\n",
       "      <td>NaN</td>\n",
       "    </tr>\n",
       "    <tr>\n",
       "      <th>2</th>\n",
       "      <td>336637</td>\n",
       "      <td>375.0</td>\n",
       "      <td>Nitrogen dioxide (NO2)</td>\n",
       "      <td>Mean</td>\n",
       "      <td>ppb</td>\n",
       "      <td>UHF34</td>\n",
       "      <td>204.0</td>\n",
       "      <td>East New York</td>\n",
       "      <td>Annual Average 2015</td>\n",
       "      <td>01/01/2015</td>\n",
       "      <td>19.09</td>\n",
       "      <td>NaN</td>\n",
       "    </tr>\n",
       "  </tbody>\n",
       "</table>\n",
       "</div>"
      ],
      "text/plain": [
       "  Unique ID  Indicator ID                    Name Measure Measure Info  \\\n",
       "0    172653         375.0  Nitrogen dioxide (NO2)    Mean          ppb   \n",
       "1    172585         375.0  Nitrogen dioxide (NO2)    Mean          ppb   \n",
       "2    336637         375.0  Nitrogen dioxide (NO2)    Mean          ppb   \n",
       "\n",
       "  Geo Type Name  Geo Join ID                      Geo Place Name  \\\n",
       "0         UHF34        203.0  Bedford Stuyvesant - Crown Heights   \n",
       "1         UHF34        203.0  Bedford Stuyvesant - Crown Heights   \n",
       "2         UHF34        204.0                       East New York   \n",
       "\n",
       "           Time Period  Start_Date  Data Value  Message  \n",
       "0  Annual Average 2011  12/01/2010       25.30      NaN  \n",
       "1  Annual Average 2009  12/01/2008       26.93      NaN  \n",
       "2  Annual Average 2015  01/01/2015       19.09      NaN  "
      ]
     },
     "execution_count": 59,
     "metadata": {},
     "output_type": "execute_result"
    }
   ],
   "source": [
    "df = pd.read_csv('../Datasets_complementarios/Air_Quality_20240228.csv')\n",
    "df.head(3)"
   ]
  },
  {
   "cell_type": "markdown",
   "metadata": {},
   "source": [
    "Se eliminan columnas innecesarias"
   ]
  },
  {
   "cell_type": "code",
   "execution_count": 60,
   "metadata": {},
   "outputs": [],
   "source": [
    "df.drop(columns = ['Unique ID', 'Indicator ID', 'Geo Type Name', 'Geo Join ID', 'Time Period', 'Message'], inplace = True)"
   ]
  },
  {
   "cell_type": "markdown",
   "metadata": {},
   "source": [
    "Se verifica el tipo de dato de las columnas"
   ]
  },
  {
   "cell_type": "code",
   "execution_count": 61,
   "metadata": {},
   "outputs": [
    {
     "name": "stdout",
     "output_type": "stream",
     "text": [
      "<class 'pandas.core.frame.DataFrame'>\n",
      "RangeIndex: 16218 entries, 0 to 16217\n",
      "Data columns (total 6 columns):\n",
      " #   Column          Non-Null Count  Dtype  \n",
      "---  ------          --------------  -----  \n",
      " 0   Name            14298 non-null  object \n",
      " 1   Measure         14298 non-null  object \n",
      " 2   Measure Info    14298 non-null  object \n",
      " 3   Geo Place Name  14298 non-null  object \n",
      " 4   Start_Date      14298 non-null  object \n",
      " 5   Data Value      14298 non-null  float64\n",
      "dtypes: float64(1), object(5)\n",
      "memory usage: 760.3+ KB\n"
     ]
    }
   ],
   "source": [
    "df.info()"
   ]
  },
  {
   "cell_type": "markdown",
   "metadata": {},
   "source": [
    "Start_date es de tipo'object', se transforma en tipo 'datetime'"
   ]
  },
  {
   "cell_type": "code",
   "execution_count": null,
   "metadata": {},
   "outputs": [],
   "source": [
    "df['Start_Date'] = pd.to_datetime(df['Start_Date'])"
   ]
  },
  {
   "cell_type": "markdown",
   "metadata": {},
   "source": [
    "Se arma un dataset solo con las zonas pertenecientes a la ciudad de New York"
   ]
  },
  {
   "cell_type": "code",
   "execution_count": null,
   "metadata": {},
   "outputs": [
    {
     "data": {
      "text/html": [
       "<div>\n",
       "<style scoped>\n",
       "    .dataframe tbody tr th:only-of-type {\n",
       "        vertical-align: middle;\n",
       "    }\n",
       "\n",
       "    .dataframe tbody tr th {\n",
       "        vertical-align: top;\n",
       "    }\n",
       "\n",
       "    .dataframe thead th {\n",
       "        text-align: right;\n",
       "    }\n",
       "</style>\n",
       "<table border=\"1\" class=\"dataframe\">\n",
       "  <thead>\n",
       "    <tr style=\"text-align: right;\">\n",
       "      <th></th>\n",
       "      <th>Name</th>\n",
       "      <th>Measure</th>\n",
       "      <th>Measure Info</th>\n",
       "      <th>Geo Place Name</th>\n",
       "      <th>Time Period</th>\n",
       "      <th>Data Value</th>\n",
       "    </tr>\n",
       "  </thead>\n",
       "  <tbody>\n",
       "    <tr>\n",
       "      <th>2</th>\n",
       "      <td>Nitrogen dioxide (NO2)</td>\n",
       "      <td>Mean</td>\n",
       "      <td>ppb</td>\n",
       "      <td>East New York</td>\n",
       "      <td>Annual Average 2015</td>\n",
       "      <td>19.09</td>\n",
       "    </tr>\n",
       "    <tr>\n",
       "      <th>28</th>\n",
       "      <td>Nitrogen dioxide (NO2)</td>\n",
       "      <td>Mean</td>\n",
       "      <td>ppb</td>\n",
       "      <td>East New York</td>\n",
       "      <td>Summer 2017</td>\n",
       "      <td>13.39</td>\n",
       "    </tr>\n",
       "    <tr>\n",
       "      <th>29</th>\n",
       "      <td>Nitrogen dioxide (NO2)</td>\n",
       "      <td>Mean</td>\n",
       "      <td>ppb</td>\n",
       "      <td>East New York</td>\n",
       "      <td>Summer 2018</td>\n",
       "      <td>11.97</td>\n",
       "    </tr>\n",
       "    <tr>\n",
       "      <th>64</th>\n",
       "      <td>Nitrogen dioxide (NO2)</td>\n",
       "      <td>Mean</td>\n",
       "      <td>ppb</td>\n",
       "      <td>Bronx</td>\n",
       "      <td>Annual Average 2014</td>\n",
       "      <td>19.80</td>\n",
       "    </tr>\n",
       "    <tr>\n",
       "      <th>119</th>\n",
       "      <td>Nitrogen dioxide (NO2)</td>\n",
       "      <td>Mean</td>\n",
       "      <td>ppb</td>\n",
       "      <td>East New York</td>\n",
       "      <td>Winter 2010-11</td>\n",
       "      <td>30.26</td>\n",
       "    </tr>\n",
       "  </tbody>\n",
       "</table>\n",
       "</div>"
      ],
      "text/plain": [
       "                       Name Measure Measure Info Geo Place Name  \\\n",
       "2    Nitrogen dioxide (NO2)    Mean          ppb  East New York   \n",
       "28   Nitrogen dioxide (NO2)    Mean          ppb  East New York   \n",
       "29   Nitrogen dioxide (NO2)    Mean          ppb  East New York   \n",
       "64   Nitrogen dioxide (NO2)    Mean          ppb          Bronx   \n",
       "119  Nitrogen dioxide (NO2)    Mean          ppb  East New York   \n",
       "\n",
       "             Time Period  Data Value  \n",
       "2    Annual Average 2015       19.09  \n",
       "28           Summer 2017       13.39  \n",
       "29           Summer 2018       11.97  \n",
       "64   Annual Average 2014       19.80  \n",
       "119       Winter 2010-11       30.26  "
      ]
     },
     "execution_count": 39,
     "metadata": {},
     "output_type": "execute_result"
    }
   ],
   "source": [
    "df_NY = df[df['Geo Place Name'].isin(['East New York','Bronx', 'Manhattan'])]\n",
    "df_NY.head()"
   ]
  },
  {
   "cell_type": "code",
   "execution_count": null,
   "metadata": {},
   "outputs": [
    {
     "data": {
      "text/plain": [
       "False    338\n",
       "True      80\n",
       "Name: count, dtype: int64"
      ]
     },
     "execution_count": 40,
     "metadata": {},
     "output_type": "execute_result"
    }
   ],
   "source": [
    "df_NY.duplicated().value_counts()"
   ]
  },
  {
   "cell_type": "code",
   "execution_count": null,
   "metadata": {},
   "outputs": [
    {
     "name": "stderr",
     "output_type": "stream",
     "text": [
      "C:\\Users\\Acer\\AppData\\Local\\Temp\\ipykernel_11372\\1549240018.py:1: SettingWithCopyWarning: \n",
      "A value is trying to be set on a copy of a slice from a DataFrame\n",
      "\n",
      "See the caveats in the documentation: https://pandas.pydata.org/pandas-docs/stable/user_guide/indexing.html#returning-a-view-versus-a-copy\n",
      "  df_NY.drop_duplicates(inplace= True)\n"
     ]
    },
    {
     "data": {
      "text/html": [
       "<div>\n",
       "<style scoped>\n",
       "    .dataframe tbody tr th:only-of-type {\n",
       "        vertical-align: middle;\n",
       "    }\n",
       "\n",
       "    .dataframe tbody tr th {\n",
       "        vertical-align: top;\n",
       "    }\n",
       "\n",
       "    .dataframe thead th {\n",
       "        text-align: right;\n",
       "    }\n",
       "</style>\n",
       "<table border=\"1\" class=\"dataframe\">\n",
       "  <thead>\n",
       "    <tr style=\"text-align: right;\">\n",
       "      <th></th>\n",
       "      <th>Name</th>\n",
       "      <th>Measure</th>\n",
       "      <th>Measure Info</th>\n",
       "      <th>Geo Place Name</th>\n",
       "      <th>Time Period</th>\n",
       "      <th>Data Value</th>\n",
       "    </tr>\n",
       "  </thead>\n",
       "  <tbody>\n",
       "    <tr>\n",
       "      <th>2</th>\n",
       "      <td>Nitrogen dioxide (NO2)</td>\n",
       "      <td>Mean</td>\n",
       "      <td>ppb</td>\n",
       "      <td>East New York</td>\n",
       "      <td>Annual Average 2015</td>\n",
       "      <td>19.09</td>\n",
       "    </tr>\n",
       "    <tr>\n",
       "      <th>28</th>\n",
       "      <td>Nitrogen dioxide (NO2)</td>\n",
       "      <td>Mean</td>\n",
       "      <td>ppb</td>\n",
       "      <td>East New York</td>\n",
       "      <td>Summer 2017</td>\n",
       "      <td>13.39</td>\n",
       "    </tr>\n",
       "    <tr>\n",
       "      <th>29</th>\n",
       "      <td>Nitrogen dioxide (NO2)</td>\n",
       "      <td>Mean</td>\n",
       "      <td>ppb</td>\n",
       "      <td>East New York</td>\n",
       "      <td>Summer 2018</td>\n",
       "      <td>11.97</td>\n",
       "    </tr>\n",
       "    <tr>\n",
       "      <th>64</th>\n",
       "      <td>Nitrogen dioxide (NO2)</td>\n",
       "      <td>Mean</td>\n",
       "      <td>ppb</td>\n",
       "      <td>Bronx</td>\n",
       "      <td>Annual Average 2014</td>\n",
       "      <td>19.80</td>\n",
       "    </tr>\n",
       "    <tr>\n",
       "      <th>119</th>\n",
       "      <td>Nitrogen dioxide (NO2)</td>\n",
       "      <td>Mean</td>\n",
       "      <td>ppb</td>\n",
       "      <td>East New York</td>\n",
       "      <td>Winter 2010-11</td>\n",
       "      <td>30.26</td>\n",
       "    </tr>\n",
       "    <tr>\n",
       "      <th>...</th>\n",
       "      <td>...</td>\n",
       "      <td>...</td>\n",
       "      <td>...</td>\n",
       "      <td>...</td>\n",
       "      <td>...</td>\n",
       "      <td>...</td>\n",
       "    </tr>\n",
       "    <tr>\n",
       "      <th>15822</th>\n",
       "      <td>Boiler Emissions- Total SO2 Emissions</td>\n",
       "      <td>Number per km2</td>\n",
       "      <td>number</td>\n",
       "      <td>East New York</td>\n",
       "      <td>2015</td>\n",
       "      <td>0.10</td>\n",
       "    </tr>\n",
       "    <tr>\n",
       "      <th>15823</th>\n",
       "      <td>Boiler Emissions- Total SO2 Emissions</td>\n",
       "      <td>Number per km2</td>\n",
       "      <td>number</td>\n",
       "      <td>East New York</td>\n",
       "      <td>2013</td>\n",
       "      <td>0.10</td>\n",
       "    </tr>\n",
       "    <tr>\n",
       "      <th>15928</th>\n",
       "      <td>Annual vehicle miles travelled (trucks)</td>\n",
       "      <td>million miles</td>\n",
       "      <td>per km2</td>\n",
       "      <td>East New York</td>\n",
       "      <td>2016</td>\n",
       "      <td>0.80</td>\n",
       "    </tr>\n",
       "    <tr>\n",
       "      <th>16043</th>\n",
       "      <td>Fine particles (PM 2.5)</td>\n",
       "      <td>Mean</td>\n",
       "      <td>mcg/m3</td>\n",
       "      <td>East New York</td>\n",
       "      <td>Winter 2013-14</td>\n",
       "      <td>11.03</td>\n",
       "    </tr>\n",
       "    <tr>\n",
       "      <th>16112</th>\n",
       "      <td>Fine particles (PM 2.5)</td>\n",
       "      <td>Mean</td>\n",
       "      <td>mcg/m3</td>\n",
       "      <td>East New York</td>\n",
       "      <td>Summer 2014</td>\n",
       "      <td>8.08</td>\n",
       "    </tr>\n",
       "  </tbody>\n",
       "</table>\n",
       "<p>338 rows × 6 columns</p>\n",
       "</div>"
      ],
      "text/plain": [
       "                                          Name         Measure Measure Info  \\\n",
       "2                       Nitrogen dioxide (NO2)            Mean          ppb   \n",
       "28                      Nitrogen dioxide (NO2)            Mean          ppb   \n",
       "29                      Nitrogen dioxide (NO2)            Mean          ppb   \n",
       "64                      Nitrogen dioxide (NO2)            Mean          ppb   \n",
       "119                     Nitrogen dioxide (NO2)            Mean          ppb   \n",
       "...                                        ...             ...          ...   \n",
       "15822    Boiler Emissions- Total SO2 Emissions  Number per km2       number   \n",
       "15823    Boiler Emissions- Total SO2 Emissions  Number per km2       number   \n",
       "15928  Annual vehicle miles travelled (trucks)   million miles      per km2   \n",
       "16043                  Fine particles (PM 2.5)            Mean       mcg/m3   \n",
       "16112                  Fine particles (PM 2.5)            Mean       mcg/m3   \n",
       "\n",
       "      Geo Place Name          Time Period  Data Value  \n",
       "2      East New York  Annual Average 2015       19.09  \n",
       "28     East New York          Summer 2017       13.39  \n",
       "29     East New York          Summer 2018       11.97  \n",
       "64             Bronx  Annual Average 2014       19.80  \n",
       "119    East New York       Winter 2010-11       30.26  \n",
       "...              ...                  ...         ...  \n",
       "15822  East New York                 2015        0.10  \n",
       "15823  East New York                 2013        0.10  \n",
       "15928  East New York                 2016        0.80  \n",
       "16043  East New York       Winter 2013-14       11.03  \n",
       "16112  East New York          Summer 2014        8.08  \n",
       "\n",
       "[338 rows x 6 columns]"
      ]
     },
     "execution_count": 41,
     "metadata": {},
     "output_type": "execute_result"
    }
   ],
   "source": [
    "df_NY.drop_duplicates(inplace= True)\n",
    "df_NY"
   ]
  },
  {
   "cell_type": "code",
   "execution_count": null,
   "metadata": {},
   "outputs": [],
   "source": []
  },
  {
   "cell_type": "code",
   "execution_count": null,
   "metadata": {},
   "outputs": [
    {
     "data": {
      "text/plain": [
       "Time Period\n",
       "2005                               11\n",
       "Summer 2012                        10\n",
       "Summer 2011                        10\n",
       "Summer 2010                        10\n",
       "Summer 2014                        10\n",
       "Summer 2013                        10\n",
       "Summer 2009                        10\n",
       "2015                                9\n",
       "2016                                9\n",
       "Summer 2019                         9\n",
       "Summer 2021                         9\n",
       "2013                                9\n",
       "Summer 2017                         9\n",
       "Summer 2016                         9\n",
       "Summer 2020                         9\n",
       "Summer 2015                         9\n",
       "Summer 2018                         9\n",
       "Winter 2009-10                      7\n",
       "Winter 2013-14                      7\n",
       "Winter 2011-12                      7\n",
       "Winter 2012-13                      7\n",
       "Winter 2010-11                      7\n",
       "Winter 2008-09                      7\n",
       "Winter 2019-20                      6\n",
       "Annual Average 2015                 6\n",
       "2011                                6\n",
       "2014                                6\n",
       "Annual Average 2018                 6\n",
       "Annual Average 2010                 6\n",
       "Winter 2018-19                      6\n",
       "Annual Average 2011                 6\n",
       "Annual Average 2009                 6\n",
       "Annual Average 2016                 6\n",
       "Winter 2020-21                      6\n",
       "Winter 2015-16                      6\n",
       "Annual Average 2012                 6\n",
       "Winter 2017-18                      6\n",
       "Annual Average 2017                 6\n",
       "Annual Average 2013                 6\n",
       "Winter 2016-17                      6\n",
       "Annual Average 2020                 6\n",
       "Annual Average 2021                 6\n",
       "Winter 2014-15                      6\n",
       "Annual Average 2014                 6\n",
       "Annual Average 2019                 6\n",
       "2-Year Summer Average 2009-2010     3\n",
       "Name: count, dtype: int64"
      ]
     },
     "execution_count": 42,
     "metadata": {},
     "output_type": "execute_result"
    }
   ],
   "source": [
    "df_NY['Time Period'].value_counts()"
   ]
  },
  {
   "cell_type": "code",
   "execution_count": null,
   "metadata": {},
   "outputs": [
    {
     "name": "stdout",
     "output_type": "stream",
     "text": [
      "<class 'pandas.core.frame.DataFrame'>\n",
      "Index: 338 entries, 2 to 16112\n",
      "Data columns (total 6 columns):\n",
      " #   Column          Non-Null Count  Dtype  \n",
      "---  ------          --------------  -----  \n",
      " 0   Name            338 non-null    object \n",
      " 1   Measure         338 non-null    object \n",
      " 2   Measure Info    338 non-null    object \n",
      " 3   Geo Place Name  338 non-null    object \n",
      " 4   Time Period     338 non-null    object \n",
      " 5   Data Value      338 non-null    float64\n",
      "dtypes: float64(1), object(5)\n",
      "memory usage: 18.5+ KB\n"
     ]
    }
   ],
   "source": [
    "df_NY.info()"
   ]
  }
 ],
 "metadata": {
  "kernelspec": {
   "display_name": "Python 3",
   "language": "python",
   "name": "python3"
  },
  "language_info": {
   "codemirror_mode": {
    "name": "ipython",
    "version": 3
   },
   "file_extension": ".py",
   "mimetype": "text/x-python",
   "name": "python",
   "nbconvert_exporter": "python",
   "pygments_lexer": "ipython3",
   "version": "3.12.1"
  }
 },
 "nbformat": 4,
 "nbformat_minor": 2
}
