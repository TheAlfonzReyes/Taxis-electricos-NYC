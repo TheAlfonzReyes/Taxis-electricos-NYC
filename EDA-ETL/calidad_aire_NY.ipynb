{
 "cells": [
  {
   "cell_type": "code",
   "execution_count": 2,
   "metadata": {},
   "outputs": [],
   "source": [
    "import pandas as pd"
   ]
  },
  {
   "cell_type": "code",
   "execution_count": 26,
   "metadata": {},
   "outputs": [
    {
     "data": {
      "text/html": [
       "<div>\n",
       "<style scoped>\n",
       "    .dataframe tbody tr th:only-of-type {\n",
       "        vertical-align: middle;\n",
       "    }\n",
       "\n",
       "    .dataframe tbody tr th {\n",
       "        vertical-align: top;\n",
       "    }\n",
       "\n",
       "    .dataframe thead th {\n",
       "        text-align: right;\n",
       "    }\n",
       "</style>\n",
       "<table border=\"1\" class=\"dataframe\">\n",
       "  <thead>\n",
       "    <tr style=\"text-align: right;\">\n",
       "      <th></th>\n",
       "      <th>Unique ID</th>\n",
       "      <th>Indicator ID</th>\n",
       "      <th>Name</th>\n",
       "      <th>Measure</th>\n",
       "      <th>Measure Info</th>\n",
       "      <th>Geo Type Name</th>\n",
       "      <th>Geo Join ID</th>\n",
       "      <th>Geo Place Name</th>\n",
       "      <th>Time Period</th>\n",
       "      <th>Start_Date</th>\n",
       "      <th>Data Value</th>\n",
       "      <th>Message</th>\n",
       "    </tr>\n",
       "  </thead>\n",
       "  <tbody>\n",
       "    <tr>\n",
       "      <th>8335</th>\n",
       "      <td>740914</td>\n",
       "      <td>375.0</td>\n",
       "      <td>Nitrogen dioxide (NO2)</td>\n",
       "      <td>Mean</td>\n",
       "      <td>ppb</td>\n",
       "      <td>UHF42</td>\n",
       "      <td>201.0</td>\n",
       "      <td>Greenpoint</td>\n",
       "      <td>Winter 2020-21</td>\n",
       "      <td>12/01/2020</td>\n",
       "      <td>24.77</td>\n",
       "      <td>NaN</td>\n",
       "    </tr>\n",
       "    <tr>\n",
       "      <th>3846</th>\n",
       "      <td>336873</td>\n",
       "      <td>375.0</td>\n",
       "      <td>Nitrogen dioxide (NO2)</td>\n",
       "      <td>Mean</td>\n",
       "      <td>ppb</td>\n",
       "      <td>CD</td>\n",
       "      <td>409.0</td>\n",
       "      <td>Kew Gardens and Woodhaven (CD9)</td>\n",
       "      <td>Winter 2014-15</td>\n",
       "      <td>12/01/2014</td>\n",
       "      <td>25.06</td>\n",
       "      <td>NaN</td>\n",
       "    </tr>\n",
       "    <tr>\n",
       "      <th>730</th>\n",
       "      <td>549413</td>\n",
       "      <td>386.0</td>\n",
       "      <td>Ozone (O3)</td>\n",
       "      <td>Mean</td>\n",
       "      <td>ppb</td>\n",
       "      <td>CD</td>\n",
       "      <td>110.0</td>\n",
       "      <td>Central Harlem (CD10)</td>\n",
       "      <td>Summer 2017</td>\n",
       "      <td>06/01/2017</td>\n",
       "      <td>26.65</td>\n",
       "      <td>NaN</td>\n",
       "    </tr>\n",
       "    <tr>\n",
       "      <th>5787</th>\n",
       "      <td>151714</td>\n",
       "      <td>644.0</td>\n",
       "      <td>Annual vehicle miles travelled (cars)</td>\n",
       "      <td>million miles</td>\n",
       "      <td>per km2</td>\n",
       "      <td>Borough</td>\n",
       "      <td>1.0</td>\n",
       "      <td>Bronx</td>\n",
       "      <td>2005</td>\n",
       "      <td>01/01/2005</td>\n",
       "      <td>23.90</td>\n",
       "      <td>NaN</td>\n",
       "    </tr>\n",
       "    <tr>\n",
       "      <th>1558</th>\n",
       "      <td>547405</td>\n",
       "      <td>365.0</td>\n",
       "      <td>Fine particles (PM 2.5)</td>\n",
       "      <td>Mean</td>\n",
       "      <td>mcg/m3</td>\n",
       "      <td>UHF42</td>\n",
       "      <td>206.0</td>\n",
       "      <td>Borough Park</td>\n",
       "      <td>Annual Average 2017</td>\n",
       "      <td>01/01/2017</td>\n",
       "      <td>7.27</td>\n",
       "      <td>NaN</td>\n",
       "    </tr>\n",
       "    <tr>\n",
       "      <th>8416</th>\n",
       "      <td>167592</td>\n",
       "      <td>375.0</td>\n",
       "      <td>Nitrogen dioxide (NO2)</td>\n",
       "      <td>Mean</td>\n",
       "      <td>ppb</td>\n",
       "      <td>CD</td>\n",
       "      <td>301.0</td>\n",
       "      <td>Greenpoint and Williamsburg (CD1)</td>\n",
       "      <td>Annual Average 2010</td>\n",
       "      <td>12/01/2009</td>\n",
       "      <td>25.16</td>\n",
       "      <td>NaN</td>\n",
       "    </tr>\n",
       "    <tr>\n",
       "      <th>8326</th>\n",
       "      <td>410789</td>\n",
       "      <td>365.0</td>\n",
       "      <td>Fine particles (PM 2.5)</td>\n",
       "      <td>Mean</td>\n",
       "      <td>mcg/m3</td>\n",
       "      <td>UHF42</td>\n",
       "      <td>301.0</td>\n",
       "      <td>Washington Heights</td>\n",
       "      <td>Winter 2015-16</td>\n",
       "      <td>12/01/2015</td>\n",
       "      <td>8.50</td>\n",
       "      <td>NaN</td>\n",
       "    </tr>\n",
       "    <tr>\n",
       "      <th>8768</th>\n",
       "      <td>547522</td>\n",
       "      <td>365.0</td>\n",
       "      <td>Fine particles (PM 2.5)</td>\n",
       "      <td>Mean</td>\n",
       "      <td>mcg/m3</td>\n",
       "      <td>UHF34</td>\n",
       "      <td>206.0</td>\n",
       "      <td>Borough Park</td>\n",
       "      <td>Annual Average 2017</td>\n",
       "      <td>01/01/2017</td>\n",
       "      <td>7.27</td>\n",
       "      <td>NaN</td>\n",
       "    </tr>\n",
       "    <tr>\n",
       "      <th>13797</th>\n",
       "      <td>179650</td>\n",
       "      <td>365.0</td>\n",
       "      <td>Fine particles (PM 2.5)</td>\n",
       "      <td>Mean</td>\n",
       "      <td>mcg/m3</td>\n",
       "      <td>Borough</td>\n",
       "      <td>3.0</td>\n",
       "      <td>Manhattan</td>\n",
       "      <td>Annual Average 2010</td>\n",
       "      <td>12/01/2009</td>\n",
       "      <td>11.61</td>\n",
       "      <td>NaN</td>\n",
       "    </tr>\n",
       "    <tr>\n",
       "      <th>4138</th>\n",
       "      <td>605983</td>\n",
       "      <td>365.0</td>\n",
       "      <td>Fine particles (PM 2.5)</td>\n",
       "      <td>Mean</td>\n",
       "      <td>mcg/m3</td>\n",
       "      <td>CD</td>\n",
       "      <td>306.0</td>\n",
       "      <td>Park Slope and Carroll Gardens (CD6)</td>\n",
       "      <td>Winter 2017-18</td>\n",
       "      <td>12/01/2017</td>\n",
       "      <td>9.50</td>\n",
       "      <td>NaN</td>\n",
       "    </tr>\n",
       "  </tbody>\n",
       "</table>\n",
       "</div>"
      ],
      "text/plain": [
       "      Unique ID  Indicator ID                                   Name  \\\n",
       "8335     740914         375.0                 Nitrogen dioxide (NO2)   \n",
       "3846     336873         375.0                 Nitrogen dioxide (NO2)   \n",
       "730      549413         386.0                             Ozone (O3)   \n",
       "5787     151714         644.0  Annual vehicle miles travelled (cars)   \n",
       "1558     547405         365.0                Fine particles (PM 2.5)   \n",
       "8416     167592         375.0                 Nitrogen dioxide (NO2)   \n",
       "8326     410789         365.0                Fine particles (PM 2.5)   \n",
       "8768     547522         365.0                Fine particles (PM 2.5)   \n",
       "13797    179650         365.0                Fine particles (PM 2.5)   \n",
       "4138     605983         365.0                Fine particles (PM 2.5)   \n",
       "\n",
       "             Measure Measure Info Geo Type Name  Geo Join ID  \\\n",
       "8335            Mean          ppb         UHF42        201.0   \n",
       "3846            Mean          ppb            CD        409.0   \n",
       "730             Mean          ppb            CD        110.0   \n",
       "5787   million miles      per km2       Borough          1.0   \n",
       "1558            Mean       mcg/m3         UHF42        206.0   \n",
       "8416            Mean          ppb            CD        301.0   \n",
       "8326            Mean       mcg/m3         UHF42        301.0   \n",
       "8768            Mean       mcg/m3         UHF34        206.0   \n",
       "13797           Mean       mcg/m3       Borough          3.0   \n",
       "4138            Mean       mcg/m3            CD        306.0   \n",
       "\n",
       "                             Geo Place Name          Time Period  Start_Date  \\\n",
       "8335                             Greenpoint       Winter 2020-21  12/01/2020   \n",
       "3846        Kew Gardens and Woodhaven (CD9)       Winter 2014-15  12/01/2014   \n",
       "730                   Central Harlem (CD10)          Summer 2017  06/01/2017   \n",
       "5787                                  Bronx                 2005  01/01/2005   \n",
       "1558                           Borough Park  Annual Average 2017  01/01/2017   \n",
       "8416      Greenpoint and Williamsburg (CD1)  Annual Average 2010  12/01/2009   \n",
       "8326                     Washington Heights       Winter 2015-16  12/01/2015   \n",
       "8768                           Borough Park  Annual Average 2017  01/01/2017   \n",
       "13797                             Manhattan  Annual Average 2010  12/01/2009   \n",
       "4138   Park Slope and Carroll Gardens (CD6)       Winter 2017-18  12/01/2017   \n",
       "\n",
       "       Data Value  Message  \n",
       "8335        24.77      NaN  \n",
       "3846        25.06      NaN  \n",
       "730         26.65      NaN  \n",
       "5787        23.90      NaN  \n",
       "1558         7.27      NaN  \n",
       "8416        25.16      NaN  \n",
       "8326         8.50      NaN  \n",
       "8768         7.27      NaN  \n",
       "13797       11.61      NaN  \n",
       "4138         9.50      NaN  "
      ]
     },
     "execution_count": 26,
     "metadata": {},
     "output_type": "execute_result"
    }
   ],
   "source": [
    "df = pd.read_csv('../Datasets_complementarios/Air_Quality_20240228.csv')\n",
    "df.sample(10)"
   ]
  },
  {
   "cell_type": "code",
   "execution_count": 23,
   "metadata": {},
   "outputs": [
    {
     "data": {
      "text/plain": [
       "14298"
      ]
     },
     "execution_count": 23,
     "metadata": {},
     "output_type": "execute_result"
    }
   ],
   "source": [
    "df['Geo Place Name'].count()"
   ]
  },
  {
   "cell_type": "code",
   "execution_count": 25,
   "metadata": {},
   "outputs": [
    {
     "data": {
      "text/plain": [
       "Geo Type Name\n",
       "CD          5900\n",
       "UHF42       4620\n",
       "UHF34       3128\n",
       "Borough      540\n",
       "Citywide     110\n",
       "Name: count, dtype: int64"
      ]
     },
     "execution_count": 25,
     "metadata": {},
     "output_type": "execute_result"
    }
   ],
   "source": [
    "df['Geo Type Name'].value_counts()"
   ]
  },
  {
   "cell_type": "code",
   "execution_count": null,
   "metadata": {},
   "outputs": [],
   "source": [
    "df_NY = df['Geo Place Name'] isin (['East New York','Bronx', 'Manhattan'])"
   ]
  },
  {
   "cell_type": "code",
   "execution_count": 16,
   "metadata": {},
   "outputs": [
    {
     "data": {
      "text/plain": [
       "Unique ID         202\n",
       "Indicator ID      202\n",
       "Name              202\n",
       "Measure           202\n",
       "Measure Info      202\n",
       "Geo Type Name     202\n",
       "Geo Join ID       202\n",
       "Geo Place Name    202\n",
       "Time Period       202\n",
       "Start_Date        202\n",
       "Data Value        202\n",
       "Message             0\n",
       "dtype: int64"
      ]
     },
     "execution_count": 16,
     "metadata": {},
     "output_type": "execute_result"
    }
   ],
   "source": [
    "df[df['Geo Place Name'] =='East New York'].count()"
   ]
  },
  {
   "cell_type": "code",
   "execution_count": 21,
   "metadata": {},
   "outputs": [
    {
     "data": {
      "text/plain": [
       "Unique ID         108\n",
       "Indicator ID      108\n",
       "Name              108\n",
       "Measure           108\n",
       "Measure Info      108\n",
       "Geo Type Name     108\n",
       "Geo Join ID       108\n",
       "Geo Place Name    108\n",
       "Time Period       108\n",
       "Start_Date        108\n",
       "Data Value        108\n",
       "Message             0\n",
       "dtype: int64"
      ]
     },
     "execution_count": 21,
     "metadata": {},
     "output_type": "execute_result"
    }
   ],
   "source": [
    "df[df['Geo Place Name'] =='Bronx'].count()"
   ]
  },
  {
   "cell_type": "code",
   "execution_count": 27,
   "metadata": {},
   "outputs": [
    {
     "data": {
      "text/plain": [
       "Unique ID         108\n",
       "Indicator ID      108\n",
       "Name              108\n",
       "Measure           108\n",
       "Measure Info      108\n",
       "Geo Type Name     108\n",
       "Geo Join ID       108\n",
       "Geo Place Name    108\n",
       "Time Period       108\n",
       "Start_Date        108\n",
       "Data Value        108\n",
       "Message             0\n",
       "dtype: int64"
      ]
     },
     "execution_count": 27,
     "metadata": {},
     "output_type": "execute_result"
    }
   ],
   "source": [
    "df[df['Geo Place Name'] =='Manhattan'].count()"
   ]
  },
  {
   "cell_type": "code",
   "execution_count": 10,
   "metadata": {},
   "outputs": [
    {
     "data": {
      "text/plain": [
       "(16218, 12)"
      ]
     },
     "execution_count": 10,
     "metadata": {},
     "output_type": "execute_result"
    }
   ],
   "source": [
    "df.shape"
   ]
  }
 ],
 "metadata": {
  "kernelspec": {
   "display_name": "Python 3",
   "language": "python",
   "name": "python3"
  },
  "language_info": {
   "codemirror_mode": {
    "name": "ipython",
    "version": 3
   },
   "file_extension": ".py",
   "mimetype": "text/x-python",
   "name": "python",
   "nbconvert_exporter": "python",
   "pygments_lexer": "ipython3",
   "version": "3.12.1"
  }
 },
 "nbformat": 4,
 "nbformat_minor": 2
}
