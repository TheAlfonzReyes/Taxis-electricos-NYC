{
 "cells": [
  {
   "cell_type": "markdown",
   "metadata": {},
   "source": [
    "Este dataset contiene datos de precio para vehiculos hibridos enchufables"
   ]
  },
  {
   "cell_type": "code",
   "execution_count": 45,
   "metadata": {},
   "outputs": [],
   "source": [
    "import pandas as pd"
   ]
  },
  {
   "cell_type": "code",
   "execution_count": 46,
   "metadata": {},
   "outputs": [
    {
     "data": {
      "text/html": [
       "<div>\n",
       "<style scoped>\n",
       "    .dataframe tbody tr th:only-of-type {\n",
       "        vertical-align: middle;\n",
       "    }\n",
       "\n",
       "    .dataframe tbody tr th {\n",
       "        vertical-align: top;\n",
       "    }\n",
       "\n",
       "    .dataframe thead th {\n",
       "        text-align: right;\n",
       "    }\n",
       "</style>\n",
       "<table border=\"1\" class=\"dataframe\">\n",
       "  <thead>\n",
       "    <tr style=\"text-align: right;\">\n",
       "      <th></th>\n",
       "      <th>Marca</th>\n",
       "      <th>Modelo</th>\n",
       "      <th>Autonomía eléctrica (km)</th>\n",
       "      <th>Potencia (hp)</th>\n",
       "      <th>Precio</th>\n",
       "    </tr>\n",
       "  </thead>\n",
       "  <tbody>\n",
       "    <tr>\n",
       "      <th>0</th>\n",
       "      <td>Toyota</td>\n",
       "      <td>Prius Prime</td>\n",
       "      <td>40</td>\n",
       "      <td>121</td>\n",
       "      <td>$28,775</td>\n",
       "    </tr>\n",
       "    <tr>\n",
       "      <th>1</th>\n",
       "      <td>Hyundai</td>\n",
       "      <td>Sonata Plug-In Hybrid</td>\n",
       "      <td>48</td>\n",
       "      <td>225</td>\n",
       "      <td>$34,650</td>\n",
       "    </tr>\n",
       "    <tr>\n",
       "      <th>2</th>\n",
       "      <td>Kia</td>\n",
       "      <td>Optima Plug-In Hybrid</td>\n",
       "      <td>48</td>\n",
       "      <td>207</td>\n",
       "      <td>$35,190</td>\n",
       "    </tr>\n",
       "    <tr>\n",
       "      <th>3</th>\n",
       "      <td>Ford</td>\n",
       "      <td>Fusion Energi</td>\n",
       "      <td>44</td>\n",
       "      <td>195</td>\n",
       "      <td>$36,120</td>\n",
       "    </tr>\n",
       "    <tr>\n",
       "      <th>4</th>\n",
       "      <td>Honda</td>\n",
       "      <td>Clarity Plug-In Hybrid</td>\n",
       "      <td>77</td>\n",
       "      <td>212</td>\n",
       "      <td>$36,695</td>\n",
       "    </tr>\n",
       "    <tr>\n",
       "      <th>5</th>\n",
       "      <td>BMW</td>\n",
       "      <td>330e</td>\n",
       "      <td>38</td>\n",
       "      <td>288</td>\n",
       "      <td>$44,250</td>\n",
       "    </tr>\n",
       "    <tr>\n",
       "      <th>6</th>\n",
       "      <td>Mercedes-Benz</td>\n",
       "      <td>C 350e</td>\n",
       "      <td>31</td>\n",
       "      <td>279</td>\n",
       "      <td>$46,250</td>\n",
       "    </tr>\n",
       "    <tr>\n",
       "      <th>7</th>\n",
       "      <td>Audi</td>\n",
       "      <td>A3 e-tron</td>\n",
       "      <td>38</td>\n",
       "      <td>204</td>\n",
       "      <td>$47,900</td>\n",
       "    </tr>\n",
       "    <tr>\n",
       "      <th>8</th>\n",
       "      <td>Volvo</td>\n",
       "      <td>S60 Recharge</td>\n",
       "      <td>40</td>\n",
       "      <td>303</td>\n",
       "      <td>$56,800</td>\n",
       "    </tr>\n",
       "    <tr>\n",
       "      <th>9</th>\n",
       "      <td>Polestar</td>\n",
       "      <td>1</td>\n",
       "      <td>124</td>\n",
       "      <td>619</td>\n",
       "      <td>$60,200</td>\n",
       "    </tr>\n",
       "  </tbody>\n",
       "</table>\n",
       "</div>"
      ],
      "text/plain": [
       "           Marca                  Modelo  Autonomía eléctrica (km)  \\\n",
       "0         Toyota             Prius Prime                        40   \n",
       "1        Hyundai   Sonata Plug-In Hybrid                        48   \n",
       "2            Kia   Optima Plug-In Hybrid                        48   \n",
       "3           Ford           Fusion Energi                        44   \n",
       "4          Honda  Clarity Plug-In Hybrid                        77   \n",
       "5            BMW                    330e                        38   \n",
       "6  Mercedes-Benz                  C 350e                        31   \n",
       "7           Audi               A3 e-tron                        38   \n",
       "8          Volvo            S60 Recharge                        40   \n",
       "9       Polestar                       1                       124   \n",
       "\n",
       "   Potencia (hp)   Precio  \n",
       "0            121  $28,775  \n",
       "1            225  $34,650  \n",
       "2            207  $35,190  \n",
       "3            195  $36,120  \n",
       "4            212  $36,695  \n",
       "5            288  $44,250  \n",
       "6            279  $46,250  \n",
       "7            204  $47,900  \n",
       "8            303  $56,800  \n",
       "9            619  $60,200  "
      ]
     },
     "execution_count": 46,
     "metadata": {},
     "output_type": "execute_result"
    }
   ],
   "source": [
    "df = pd.read_excel('../Datasets_complementarios/listado_vehiculos_enchufables.xlsx')\n",
    "df"
   ]
  },
  {
   "cell_type": "markdown",
   "metadata": {},
   "source": [
    "Se normalizan las columnas"
   ]
  },
  {
   "cell_type": "code",
   "execution_count": 47,
   "metadata": {},
   "outputs": [],
   "source": [
    "df.rename(columns={'Marca':'marca', 'Modelo':'modelo', 'Autonomía eléctrica (km)':'autonomía_electrica_(km)', \n",
    "                    'Potencia (hp)':'potencia(hp)','Precio':'precio'}, inplace=True)"
   ]
  },
  {
   "cell_type": "markdown",
   "metadata": {},
   "source": [
    "Verificamos el tipo de datos"
   ]
  },
  {
   "cell_type": "code",
   "execution_count": 48,
   "metadata": {},
   "outputs": [
    {
     "name": "stdout",
     "output_type": "stream",
     "text": [
      "<class 'pandas.core.frame.DataFrame'>\n",
      "RangeIndex: 10 entries, 0 to 9\n",
      "Data columns (total 5 columns):\n",
      " #   Column                    Non-Null Count  Dtype \n",
      "---  ------                    --------------  ----- \n",
      " 0   marca                     10 non-null     object\n",
      " 1   modelo                    10 non-null     object\n",
      " 2   autonomía_electrica_(km)  10 non-null     int64 \n",
      " 3   potencia(hp)              10 non-null     int64 \n",
      " 4   precio                    10 non-null     object\n",
      "dtypes: int64(2), object(3)\n",
      "memory usage: 532.0+ bytes\n"
     ]
    }
   ],
   "source": [
    "df.info()"
   ]
  },
  {
   "cell_type": "markdown",
   "metadata": {},
   "source": [
    "La columna 'Precio' es tipo object, se transforma a entero"
   ]
  },
  {
   "cell_type": "code",
   "execution_count": 51,
   "metadata": {},
   "outputs": [
    {
     "data": {
      "text/html": [
       "<div>\n",
       "<style scoped>\n",
       "    .dataframe tbody tr th:only-of-type {\n",
       "        vertical-align: middle;\n",
       "    }\n",
       "\n",
       "    .dataframe tbody tr th {\n",
       "        vertical-align: top;\n",
       "    }\n",
       "\n",
       "    .dataframe thead th {\n",
       "        text-align: right;\n",
       "    }\n",
       "</style>\n",
       "<table border=\"1\" class=\"dataframe\">\n",
       "  <thead>\n",
       "    <tr style=\"text-align: right;\">\n",
       "      <th></th>\n",
       "      <th>marca</th>\n",
       "      <th>modelo</th>\n",
       "      <th>autonomía_electrica_(km)</th>\n",
       "      <th>potencia(hp)</th>\n",
       "      <th>precio</th>\n",
       "    </tr>\n",
       "  </thead>\n",
       "  <tbody>\n",
       "    <tr>\n",
       "      <th>0</th>\n",
       "      <td>Toyota</td>\n",
       "      <td>Prius Prime</td>\n",
       "      <td>40</td>\n",
       "      <td>121</td>\n",
       "      <td>28.775</td>\n",
       "    </tr>\n",
       "    <tr>\n",
       "      <th>1</th>\n",
       "      <td>Hyundai</td>\n",
       "      <td>Sonata Plug-In Hybrid</td>\n",
       "      <td>48</td>\n",
       "      <td>225</td>\n",
       "      <td>34.650</td>\n",
       "    </tr>\n",
       "    <tr>\n",
       "      <th>2</th>\n",
       "      <td>Kia</td>\n",
       "      <td>Optima Plug-In Hybrid</td>\n",
       "      <td>48</td>\n",
       "      <td>207</td>\n",
       "      <td>35.190</td>\n",
       "    </tr>\n",
       "    <tr>\n",
       "      <th>3</th>\n",
       "      <td>Ford</td>\n",
       "      <td>Fusion Energi</td>\n",
       "      <td>44</td>\n",
       "      <td>195</td>\n",
       "      <td>36.120</td>\n",
       "    </tr>\n",
       "    <tr>\n",
       "      <th>4</th>\n",
       "      <td>Honda</td>\n",
       "      <td>Clarity Plug-In Hybrid</td>\n",
       "      <td>77</td>\n",
       "      <td>212</td>\n",
       "      <td>36.695</td>\n",
       "    </tr>\n",
       "  </tbody>\n",
       "</table>\n",
       "</div>"
      ],
      "text/plain": [
       "     marca                  modelo  autonomía_electrica_(km)  potencia(hp)  \\\n",
       "0   Toyota             Prius Prime                        40           121   \n",
       "1  Hyundai   Sonata Plug-In Hybrid                        48           225   \n",
       "2      Kia   Optima Plug-In Hybrid                        48           207   \n",
       "3     Ford           Fusion Energi                        44           195   \n",
       "4    Honda  Clarity Plug-In Hybrid                        77           212   \n",
       "\n",
       "   precio  \n",
       "0  28.775  \n",
       "1  34.650  \n",
       "2  35.190  \n",
       "3  36.120  \n",
       "4  36.695  "
      ]
     },
     "execution_count": 51,
     "metadata": {},
     "output_type": "execute_result"
    }
   ],
   "source": [
    "df['precio'] = df['precio'].str.replace('$','')\n",
    "df['precio'] = df['precio'].str.replace(',','.').astype(float)\n",
    "\n",
    "df.head()"
   ]
  },
  {
   "cell_type": "code",
   "execution_count": 52,
   "metadata": {},
   "outputs": [
    {
     "name": "stdout",
     "output_type": "stream",
     "text": [
      "<class 'pandas.core.frame.DataFrame'>\n",
      "RangeIndex: 10 entries, 0 to 9\n",
      "Data columns (total 5 columns):\n",
      " #   Column                    Non-Null Count  Dtype  \n",
      "---  ------                    --------------  -----  \n",
      " 0   marca                     10 non-null     object \n",
      " 1   modelo                    10 non-null     object \n",
      " 2   autonomía_electrica_(km)  10 non-null     int64  \n",
      " 3   potencia(hp)              10 non-null     int64  \n",
      " 4   precio                    10 non-null     float64\n",
      "dtypes: float64(1), int64(2), object(2)\n",
      "memory usage: 532.0+ bytes\n"
     ]
    }
   ],
   "source": [
    "df.info()"
   ]
  },
  {
   "cell_type": "code",
   "execution_count": 53,
   "metadata": {},
   "outputs": [
    {
     "data": {
      "text/plain": [
       "(10, 5)"
      ]
     },
     "execution_count": 53,
     "metadata": {},
     "output_type": "execute_result"
    }
   ],
   "source": [
    "df.shape"
   ]
  },
  {
   "cell_type": "markdown",
   "metadata": {},
   "source": [
    "Es una dataset pequeño de 10 filas y 5 columnas"
   ]
  },
  {
   "cell_type": "markdown",
   "metadata": {},
   "source": [
    "## Graficos"
   ]
  }
 ],
 "metadata": {
  "kernelspec": {
   "display_name": "Python 3",
   "language": "python",
   "name": "python3"
  },
  "language_info": {
   "codemirror_mode": {
    "name": "ipython",
    "version": 3
   },
   "file_extension": ".py",
   "mimetype": "text/x-python",
   "name": "python",
   "nbconvert_exporter": "python",
   "pygments_lexer": "ipython3",
   "version": "3.12.1"
  }
 },
 "nbformat": 4,
 "nbformat_minor": 2
}
